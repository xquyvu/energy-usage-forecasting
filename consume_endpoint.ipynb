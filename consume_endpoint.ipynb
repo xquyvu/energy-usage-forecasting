{
 "metadata": {
  "language_info": {
   "codemirror_mode": {
    "name": "ipython",
    "version": 3
   },
   "file_extension": ".py",
   "mimetype": "text/x-python",
   "name": "python",
   "nbconvert_exporter": "python",
   "pygments_lexer": "ipython3",
   "version": "3.7.6-final"
  },
  "orig_nbformat": 2,
  "kernelspec": {
   "name": "python376jvsc74a57bd00261b08040434fb797aad1ed3b3deedaa991c53046d50ad4fc20bcbc69441622",
   "display_name": "Python 3.7.6 64-bit ('.venv')"
  }
 },
 "nbformat": 4,
 "nbformat_minor": 2,
 "cells": [
  {
   "cell_type": "code",
   "execution_count": 2,
   "metadata": {},
   "outputs": [
    {
     "output_type": "stream",
     "name": "stdout",
     "text": [
      "[245231.40238193705, 244875.00294636312]\n"
     ]
    }
   ],
   "source": [
    "import json\n",
    "import requests\n",
    "\n",
    "# Get endpoint\n",
    "with open('./endpoint_uri.txt') as f:\n",
    "    scoring_uri = f.read()\n",
    "\n",
    "# Get data\n",
    "input_json = json.dumps(json.load(open('./test_payload.json')))\n",
    "\n",
    "# Request prediction\n",
    "response = requests.post(\n",
    "    scoring_uri,\n",
    "    input_json,\n",
    "    headers={'Content-Type': 'application/json'}\n",
    ")\n",
    "prediction = json.loads(response.content)\n",
    "print(prediction)\n"
   ]
  }
 ]
}