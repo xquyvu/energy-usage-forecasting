{
 "cells": [
  {
   "cell_type": "markdown",
   "metadata": {},
   "source": [
    "# Automated ML"
   ]
  },
  {
   "cell_type": "code",
   "execution_count": 1,
   "metadata": {
    "gather": {
     "logged": 1598423888013
    },
    "jupyter": {
     "outputs_hidden": false,
     "source_hidden": false
    },
    "nteract": {
     "transient": {
      "deleting": false
     }
    }
   },
   "outputs": [],
   "source": [
    "from azureml.core.experiment import Experiment\n",
    "from azureml.core.workspace import Workspace\n",
    "from azureml.train.automl import AutoMLConfig\n",
    "from azureml.core.dataset import Dataset\n",
    "from azureml.core.compute import AmlCompute, ComputeTarget\n",
    "from azureml.core.compute_target import ComputeTargetException\n",
    "from azureml.widgets import RunDetails\n",
    "from azureml.automl.core.forecasting_parameters import ForecastingParameters"
   ]
  },
  {
   "cell_type": "markdown",
   "metadata": {},
   "source": [
    "## Dataset"
   ]
  },
  {
   "cell_type": "code",
   "execution_count": 2,
   "metadata": {
    "gather": {
     "logged": 1598423890461
    },
    "jupyter": {
     "outputs_hidden": false,
     "source_hidden": false
    },
    "nteract": {
     "transient": {
      "deleting": false
     }
    }
   },
   "outputs": [
    {
     "output_type": "execute_result",
     "data": {
      "text/plain": [
       "Experiment(Name: automl-energyforecast,\n",
       "Workspace: quick-starts-ws-143039)"
      ],
      "text/html": "<table style=\"width:100%\"><tr><th>Name</th><th>Workspace</th><th>Report Page</th><th>Docs Page</th></tr><tr><td>automl-energyforecast</td><td>quick-starts-ws-143039</td><td><a href=\"https://ml.azure.com/experiments/automl-energyforecast?wsid=/subscriptions/9a7511b8-150f-4a58-8528-3e7d50216c31/resourcegroups/aml-quickstarts-143039/workspaces/quick-starts-ws-143039\" target=\"_blank\" rel=\"noopener\">Link to Azure Machine Learning studio</a></td><td><a href=\"https://docs.microsoft.com/en-us/python/api/azureml-core/azureml.core.experiment.Experiment?view=azure-ml-py\" target=\"_blank\" rel=\"noopener\">Link to Documentation</a></td></tr></table>"
     },
     "metadata": {},
     "execution_count": 2
    }
   ],
   "source": [
    "# Get workspace\n",
    "ws = Workspace.from_config()\n",
    "\n",
    "# Create experiment\n",
    "experiment = Experiment(ws, 'automl-energyforecast')\n",
    "experiment"
   ]
  },
  {
   "cell_type": "code",
   "execution_count": 3,
   "metadata": {},
   "outputs": [
    {
     "output_type": "stream",
     "name": "stdout",
     "text": [
      "energy-forecast-data-validation\nenergy-forecast-data-training\n"
     ]
    }
   ],
   "source": [
    "# Verify that the dataset is imported successfully\n",
    "for x in ws.datasets.keys():\n",
    "    print(x)"
   ]
  },
  {
   "cell_type": "code",
   "execution_count": 6,
   "metadata": {},
   "outputs": [],
   "source": [
    "# Get data\n",
    "data_valid = ws.datasets['energy-forecast-data-validation']\n",
    "data_train = ws.datasets['energy-forecast-data-training']"
   ]
  },
  {
   "cell_type": "markdown",
   "metadata": {},
   "source": [
    "## AutoML Configuration"
   ]
  },
  {
   "cell_type": "code",
   "execution_count": 4,
   "metadata": {},
   "outputs": [
    {
     "output_type": "stream",
     "name": "stdout",
     "text": [
      "Creating\n",
      "Succeeded\n",
      "AmlCompute wait for completion finished\n",
      "\n",
      "Minimum number of nodes requested have been provisioned\n"
     ]
    }
   ],
   "source": [
    "# Create compute cluster\n",
    "amlcompute_cluster_name = 'aml-compute'\n",
    "\n",
    "try:\n",
    "    compute_target = ComputeTarget(\n",
    "        workspace=ws,\n",
    "        name=amlcompute_cluster_name\n",
    "    )\n",
    "    print('Existing cluster found and is now selected')\n",
    "except ComputeTargetException:\n",
    "    compute_config = AmlCompute.provisioning_configuration(\n",
    "        vm_size='STANDARD_DS12_V2',\n",
    "        max_nodes=6\n",
    "    )\n",
    "    compute_target = ComputeTarget.create(\n",
    "        ws,\n",
    "        amlcompute_cluster_name,\n",
    "        compute_config\n",
    "    )\n",
    "    compute_target.wait_for_completion(show_output=True)"
   ]
  },
  {
   "source": [
    "Explanation of the configuration:\n",
    "- `task='forecasting'`: This is because we're interested in predicting future electricity load, instead of simply inferencing electricity load based on the available variables like humidity, temperature.\n",
    "- `enable_early_stopping=True`: This is to reduce the likelihood of overfitting.\n",
    "- `featurization='auto'`: This is the main strength of AutoML. We'll let it carry out feature engineering automatically\n",
    "- `experiment_timeout_minutes=15`: Mainly because I was pressed on time hence can't afford for the experiment to run too long. This is added on top of the preparation steps which already took ~45 minutes, increasing the experiment run time to ~1hr.\n",
    "- `primary_metric='r2_score'`: While `RMSE` would do just fine as a primary metric, R2 score is just easier to analyse by seeing how close it is to 1.\n",
    "- `forecast_horizon=48, target_lags=48`: We're interested in predicting the load for the next day.\n"
   ],
   "cell_type": "markdown",
   "metadata": {}
  },
  {
   "cell_type": "code",
   "execution_count": 7,
   "metadata": {
    "gather": {
     "logged": 1598429217746
    },
    "jupyter": {
     "outputs_hidden": false,
     "source_hidden": false
    },
    "nteract": {
     "transient": {
      "deleting": false
     }
    }
   },
   "outputs": [],
   "source": [
    "# Specify settings for AutoML runs\n",
    "automl_config = AutoMLConfig(\n",
    "    compute_target=compute_target,\n",
    "    task='forecasting',\n",
    "    training_data=data_train,\n",
    "    validation_data=data_valid,\n",
    "    label_column_name='TOTAL Load',\n",
    "    time_column_name='DATE',\n",
    "    # path=project_folder,\n",
    "    enable_early_stopping=True,\n",
    "    featurization='auto',\n",
    "    debug_log = 'automl_errors.log',\n",
    "    experiment_timeout_minutes=15,\n",
    "    max_concurrent_iterations=10,\n",
    "    primary_metric='r2_score',\n",
    "    forecast_horizon=48,\n",
    "    target_lags=48\n",
    ")"
   ]
  },
  {
   "cell_type": "code",
   "execution_count": 8,
   "metadata": {
    "gather": {
     "logged": 1598431107951
    },
    "jupyter": {
     "outputs_hidden": false,
     "source_hidden": false
    },
    "nteract": {
     "transient": {
      "deleting": false
     }
    }
   },
   "outputs": [
    {
     "output_type": "stream",
     "name": "stdout",
     "text": [
      "Running on remote.\n",
      "No run_configuration provided, running on aml-compute with default configuration\n",
      "Running on remote compute: aml-compute\n",
      "Parent Run ID: AutoML_6f14afc4-d33a-4594-9212-98828cadb594\n",
      "\n",
      "Current status: DatasetFeaturization. Beginning to featurize the dataset.\n",
      "Current status: DatasetFeaturizationCompleted. Completed featurizing the dataset.\n",
      "Current status: ModelSelection. Beginning model selection.\n",
      "\n",
      "****************************************************************************************************\n",
      "DATA GUARDRAILS: \n",
      "\n",
      "TYPE:         Missing feature values imputation\n",
      "STATUS:       DONE\n",
      "DESCRIPTION:  If the missing values are expected, let the run complete. Otherwise cancel the current run and use a script to customize the handling of missing feature values that may be more appropriate based on the data type and business requirement.\n",
      "              Learn more about missing value imputation: https://aka.ms/AutomatedMLFeaturization\n",
      "DETAILS:      \n",
      "+---------------------------------+---------------------------------+---------------------------------+\n",
      "|Column name                      |Missing value count              |Imputation type                  |\n",
      "+=================================+=================================+=================================+\n",
      "|AVGTEMP                          |48                               |median                           |\n",
      "+---------------------------------+---------------------------------+---------------------------------+\n",
      "\n",
      "****************************************************************************************************\n",
      "\n",
      "TYPE:         Memory Issues Detection\n",
      "STATUS:       PASSED\n",
      "DESCRIPTION:  The selected horizon and lag values were analyzed, and no potential memory issues were detected.\n",
      "              Learn more about time-series forecasting configurations: https://aka.ms/AutomatedMLForecastingConfiguration\n",
      "\n",
      "****************************************************************************************************\n",
      "\n",
      "TYPE:         Short series handling\n",
      "STATUS:       PASSED\n",
      "DESCRIPTION:  Automated ML detected enough data points for each series in the input data to continue with training.\n",
      "              \n",
      "\n",
      "****************************************************************************************************\n",
      "\n",
      "****************************************************************************************************\n",
      "ITERATION: The iteration being evaluated.\n",
      "PIPELINE: A summary description of the pipeline being evaluated.\n",
      "DURATION: Time taken for the current iteration.\n",
      "METRIC: The result of computing score on the fitted pipeline.\n",
      "BEST: The best observed score thus far.\n",
      "****************************************************************************************************\n",
      "\n",
      " ITERATION   PIPELINE                                       DURATION      METRIC      BEST\n",
      "         9   MinMaxScaler RandomForest                      0:01:38       0.4648    0.4648\n",
      "         7   StandardScalerWrapper ElasticNet               0:02:06       0.4218    0.4648\n",
      "         3   MaxAbsScaler ElasticNet                        0:03:00       0.4233    0.4648\n",
      "         0   SparseNormalizer XGBoostRegressor              0:08:49       0.7342    0.7342\n",
      "         5   StandardScalerWrapper XGBoostRegressor         0:07:22       0.5790    0.7342\n",
      "         2   StandardScalerWrapper XGBoostRegressor         0:11:59       0.3127    0.7342\n",
      "        10   StandardScalerWrapper XGBoostRegressor         0:03:18       0.6021    0.7342\n",
      "        11   RobustScaler LassoLars                         0:00:59       0.4249    0.7342\n",
      "         1   MaxAbsScaler RandomForest                      0:10:03          nan    0.7342\n",
      "        12                                                  0:10:16          nan    0.7342\n",
      "        13                                                  0:04:21          nan    0.7342\n",
      "        14                                                  0:03:33          nan    0.7342\n",
      "        15                                                  0:01:17          nan    0.7342\n",
      "         4   MinMaxScaler RandomForest                      0:13:40          nan    0.7342\n",
      "         6   MinMaxScaler ExtremeRandomTrees                0:04:08          nan    0.7342\n",
      "         8   MinMaxScaler RandomForest                      0:13:20          nan    0.7342\n",
      "        16    VotingEnsemble                                0:01:00       0.7484    0.7484\n"
     ]
    },
    {
     "output_type": "execute_result",
     "data": {
      "text/plain": [
       "{'runId': 'AutoML_6f14afc4-d33a-4594-9212-98828cadb594',\n",
       " 'target': 'aml-compute',\n",
       " 'status': 'Completed',\n",
       " 'startTimeUtc': '2021-04-18T11:28:40.368534Z',\n",
       " 'endTimeUtc': '2021-04-18T11:53:19.928974Z',\n",
       " 'properties': {'num_iterations': '1000',\n",
       "  'training_type': 'TrainFull',\n",
       "  'acquisition_function': 'EI',\n",
       "  'primary_metric': 'r2_score',\n",
       "  'train_split': '0',\n",
       "  'acquisition_parameter': '0',\n",
       "  'num_cross_validation': None,\n",
       "  'target': 'aml-compute',\n",
       "  'AMLSettingsJsonString': '{\"path\":null,\"name\":\"automl-energyforecast\",\"subscription_id\":\"9a7511b8-150f-4a58-8528-3e7d50216c31\",\"resource_group\":\"aml-quickstarts-143039\",\"workspace_name\":\"quick-starts-ws-143039\",\"region\":\"southcentralus\",\"compute_target\":\"aml-compute\",\"spark_service\":null,\"azure_service\":\"remote\",\"many_models\":false,\"pipeline_fetch_max_batch_size\":1,\"iterations\":1000,\"primary_metric\":\"r2_score\",\"task_type\":\"regression\",\"data_script\":null,\"validation_size\":0.0,\"n_cross_validations\":null,\"y_min\":null,\"y_max\":null,\"num_classes\":null,\"featurization\":\"auto\",\"_ignore_package_version_incompatibilities\":false,\"is_timeseries\":true,\"max_cores_per_iteration\":1,\"max_concurrent_iterations\":10,\"iteration_timeout_minutes\":null,\"mem_in_mb\":null,\"enforce_time_on_windows\":true,\"experiment_timeout_minutes\":15,\"experiment_exit_score\":null,\"whitelist_models\":null,\"blacklist_algos\":[\"TensorFlowDNN\",\"TensorFlowLinearRegressor\",\"Naive\",\"SeasonalNaive\",\"Average\",\"SeasonalAverage\",\"ExponentialSmoothing\",\"Arimax\",\"AutoArima\",\"Prophet\"],\"supported_models\":[\"ElasticNet\",\"GradientBoosting\",\"TensorFlowLinearRegressor\",\"KNN\",\"TensorFlowDNN\",\"SeasonalNaive\",\"TCNForecaster\",\"ExtremeRandomTrees\",\"Naive\",\"SeasonalAverage\",\"RandomForest\",\"AutoArima\",\"LightGBM\",\"Average\",\"XGBoostRegressor\",\"SGD\",\"DecisionTree\",\"Prophet\",\"LassoLars\"],\"auto_blacklist\":true,\"blacklist_samples_reached\":false,\"exclude_nan_labels\":true,\"verbosity\":20,\"_debug_log\":\"azureml_automl.log\",\"show_warnings\":false,\"model_explainability\":true,\"service_url\":null,\"sdk_url\":null,\"sdk_packages\":null,\"enable_onnx_compatible_models\":false,\"enable_split_onnx_featurizer_estimator_models\":false,\"vm_type\":\"STANDARD_DS12_V2\",\"telemetry_verbosity\":20,\"send_telemetry\":true,\"enable_dnn\":false,\"scenario\":\"SDK-1.13.0\",\"environment_label\":null,\"force_text_dnn\":false,\"enable_feature_sweeping\":false,\"time_column_name\":\"DATE\",\"grain_column_names\":null,\"drop_column_names\":[],\"max_horizon\":48,\"dropna\":false,\"overwrite_columns\":true,\"transform_dictionary\":{\"min\":\"_automl_target_col\",\"max\":\"_automl_target_col\",\"mean\":\"_automl_target_col\"},\"window_size\":null,\"country_or_region\":null,\"lags\":{\"_automl_target_col\":[48]},\"feature_lags\":null,\"seasonality\":\"auto\",\"use_stl\":null,\"short_series_handling\":true,\"freq\":null,\"short_series_handling_configuration\":\"auto\",\"enable_early_stopping\":true,\"early_stopping_n_iters\":10,\"metrics\":null,\"enable_ensembling\":true,\"enable_stack_ensembling\":false,\"ensemble_iterations\":15,\"enable_tf\":false,\"enable_subsampling\":false,\"subsample_seed\":null,\"enable_nimbusml\":false,\"enable_streaming\":false,\"force_streaming\":false,\"track_child_runs\":true,\"allowed_private_models\":[],\"label_column_name\":\"TOTAL Load\",\"weight_column_name\":null,\"cv_split_column_names\":null,\"enable_local_managed\":false,\"_local_managed_run_id\":null,\"cost_mode\":1,\"lag_length\":0,\"metric_operation\":\"maximize\",\"preprocess\":true}',\n",
       "  'DataPrepJsonString': '{\\\\\"training_data\\\\\": \\\\\"{\\\\\\\\\\\\\"blocks\\\\\\\\\\\\\": [{\\\\\\\\\\\\\"id\\\\\\\\\\\\\": \\\\\\\\\\\\\"262d5b2a-3126-4d34-9aa7-6507b083fb58\\\\\\\\\\\\\", \\\\\\\\\\\\\"type\\\\\\\\\\\\\": \\\\\\\\\\\\\"Microsoft.DPrep.GetDatastoreFilesBlock\\\\\\\\\\\\\", \\\\\\\\\\\\\"arguments\\\\\\\\\\\\\": {\\\\\\\\\\\\\"datastores\\\\\\\\\\\\\": [{\\\\\\\\\\\\\"datastoreName\\\\\\\\\\\\\": \\\\\\\\\\\\\"workspaceblobstore\\\\\\\\\\\\\", \\\\\\\\\\\\\"path\\\\\\\\\\\\\": \\\\\\\\\\\\\"data/training.csv\\\\\\\\\\\\\", \\\\\\\\\\\\\"resourceGroup\\\\\\\\\\\\\": \\\\\\\\\\\\\"aml-quickstarts-143039\\\\\\\\\\\\\", \\\\\\\\\\\\\"subscription\\\\\\\\\\\\\": \\\\\\\\\\\\\"9a7511b8-150f-4a58-8528-3e7d50216c31\\\\\\\\\\\\\", \\\\\\\\\\\\\"workspaceName\\\\\\\\\\\\\": \\\\\\\\\\\\\"quick-starts-ws-143039\\\\\\\\\\\\\"}]}, \\\\\\\\\\\\\"localData\\\\\\\\\\\\\": {}, \\\\\\\\\\\\\"isEnabled\\\\\\\\\\\\\": true, \\\\\\\\\\\\\"name\\\\\\\\\\\\\": null, \\\\\\\\\\\\\"annotation\\\\\\\\\\\\\": null}, {\\\\\\\\\\\\\"id\\\\\\\\\\\\\": \\\\\\\\\\\\\"9be51c88-3c50-4d93-a926-db940abe2c34\\\\\\\\\\\\\", \\\\\\\\\\\\\"type\\\\\\\\\\\\\": \\\\\\\\\\\\\"Microsoft.DPrep.ParseDelimitedBlock\\\\\\\\\\\\\", \\\\\\\\\\\\\"arguments\\\\\\\\\\\\\": {\\\\\\\\\\\\\"columnHeadersMode\\\\\\\\\\\\\": 3, \\\\\\\\\\\\\"fileEncoding\\\\\\\\\\\\\": 0, \\\\\\\\\\\\\"handleQuotedLineBreaks\\\\\\\\\\\\\": false, \\\\\\\\\\\\\"preview\\\\\\\\\\\\\": false, \\\\\\\\\\\\\"separator\\\\\\\\\\\\\": \\\\\\\\\\\\\",\\\\\\\\\\\\\", \\\\\\\\\\\\\"skipRows\\\\\\\\\\\\\": 0, \\\\\\\\\\\\\"skipRowsMode\\\\\\\\\\\\\": 0}, \\\\\\\\\\\\\"localData\\\\\\\\\\\\\": {}, \\\\\\\\\\\\\"isEnabled\\\\\\\\\\\\\": true, \\\\\\\\\\\\\"name\\\\\\\\\\\\\": null, \\\\\\\\\\\\\"annotation\\\\\\\\\\\\\": null}, {\\\\\\\\\\\\\"id\\\\\\\\\\\\\": \\\\\\\\\\\\\"a3463460-b8e3-4c29-9c53-7c3a5acfa713\\\\\\\\\\\\\", \\\\\\\\\\\\\"type\\\\\\\\\\\\\": \\\\\\\\\\\\\"Microsoft.DPrep.DropColumnsBlock\\\\\\\\\\\\\", \\\\\\\\\\\\\"arguments\\\\\\\\\\\\\": {\\\\\\\\\\\\\"columns\\\\\\\\\\\\\": {\\\\\\\\\\\\\"type\\\\\\\\\\\\\": 0, \\\\\\\\\\\\\"details\\\\\\\\\\\\\": {\\\\\\\\\\\\\"selectedColumns\\\\\\\\\\\\\": [\\\\\\\\\\\\\"Path\\\\\\\\\\\\\"]}}}, \\\\\\\\\\\\\"localData\\\\\\\\\\\\\": {}, \\\\\\\\\\\\\"isEnabled\\\\\\\\\\\\\": true, \\\\\\\\\\\\\"name\\\\\\\\\\\\\": null, \\\\\\\\\\\\\"annotation\\\\\\\\\\\\\": null}, {\\\\\\\\\\\\\"id\\\\\\\\\\\\\": \\\\\\\\\\\\\"98d56fc9-0261-4f67-a252-a2e36f9a2027\\\\\\\\\\\\\", \\\\\\\\\\\\\"type\\\\\\\\\\\\\": \\\\\\\\\\\\\"Microsoft.DPrep.SetColumnTypesBlock\\\\\\\\\\\\\", \\\\\\\\\\\\\"arguments\\\\\\\\\\\\\": {\\\\\\\\\\\\\"columnConversion\\\\\\\\\\\\\": [{\\\\\\\\\\\\\"column\\\\\\\\\\\\\": {\\\\\\\\\\\\\"type\\\\\\\\\\\\\": 2, \\\\\\\\\\\\\"details\\\\\\\\\\\\\": {\\\\\\\\\\\\\"selectedColumn\\\\\\\\\\\\\": \\\\\\\\\\\\\"DATE\\\\\\\\\\\\\"}}, \\\\\\\\\\\\\"typeArguments\\\\\\\\\\\\\": {\\\\\\\\\\\\\"dateTimeFormats\\\\\\\\\\\\\": [\\\\\\\\\\\\\"%m/%d/%y %H:%M\\\\\\\\\\\\\"]}, \\\\\\\\\\\\\"typeProperty\\\\\\\\\\\\\": 4}, {\\\\\\\\\\\\\"column\\\\\\\\\\\\\": {\\\\\\\\\\\\\"type\\\\\\\\\\\\\": 2, \\\\\\\\\\\\\"details\\\\\\\\\\\\\": {\\\\\\\\\\\\\"selectedColumn\\\\\\\\\\\\\": \\\\\\\\\\\\\"TOTAL Load\\\\\\\\\\\\\"}}, \\\\\\\\\\\\\"typeProperty\\\\\\\\\\\\\": 2}, {\\\\\\\\\\\\\"column\\\\\\\\\\\\\": {\\\\\\\\\\\\\"type\\\\\\\\\\\\\": 2, \\\\\\\\\\\\\"details\\\\\\\\\\\\\": {\\\\\\\\\\\\\"selectedColumn\\\\\\\\\\\\\": \\\\\\\\\\\\\"AVGTEMP\\\\\\\\\\\\\"}}, \\\\\\\\\\\\\"typeProperty\\\\\\\\\\\\\": 2}, {\\\\\\\\\\\\\"column\\\\\\\\\\\\\": {\\\\\\\\\\\\\"type\\\\\\\\\\\\\": 2, \\\\\\\\\\\\\"details\\\\\\\\\\\\\": {\\\\\\\\\\\\\"selectedColumn\\\\\\\\\\\\\": \\\\\\\\\\\\\"AVGHUM\\\\\\\\\\\\\"}}, \\\\\\\\\\\\\"typeProperty\\\\\\\\\\\\\": 2}, {\\\\\\\\\\\\\"column\\\\\\\\\\\\\": {\\\\\\\\\\\\\"type\\\\\\\\\\\\\": 2, \\\\\\\\\\\\\"details\\\\\\\\\\\\\": {\\\\\\\\\\\\\"selectedColumn\\\\\\\\\\\\\": \\\\\\\\\\\\\"HOL_IND\\\\\\\\\\\\\"}}, \\\\\\\\\\\\\"typeProperty\\\\\\\\\\\\\": 2}, {\\\\\\\\\\\\\"column\\\\\\\\\\\\\": {\\\\\\\\\\\\\"type\\\\\\\\\\\\\": 2, \\\\\\\\\\\\\"details\\\\\\\\\\\\\": {\\\\\\\\\\\\\"selectedColumn\\\\\\\\\\\\\": \\\\\\\\\\\\\"SUNRISE\\\\\\\\\\\\\"}}, \\\\\\\\\\\\\"typeProperty\\\\\\\\\\\\\": 0}, {\\\\\\\\\\\\\"column\\\\\\\\\\\\\": {\\\\\\\\\\\\\"type\\\\\\\\\\\\\": 2, \\\\\\\\\\\\\"details\\\\\\\\\\\\\": {\\\\\\\\\\\\\"selectedColumn\\\\\\\\\\\\\": \\\\\\\\\\\\\"SUNSET\\\\\\\\\\\\\"}}, \\\\\\\\\\\\\"typeProperty\\\\\\\\\\\\\": 0}]}, \\\\\\\\\\\\\"localData\\\\\\\\\\\\\": {}, \\\\\\\\\\\\\"isEnabled\\\\\\\\\\\\\": true, \\\\\\\\\\\\\"name\\\\\\\\\\\\\": null, \\\\\\\\\\\\\"annotation\\\\\\\\\\\\\": null}], \\\\\\\\\\\\\"inspectors\\\\\\\\\\\\\": [], \\\\\\\\\\\\\"meta\\\\\\\\\\\\\": {\\\\\\\\\\\\\"savedDatasetId\\\\\\\\\\\\\": \\\\\\\\\\\\\"cf453b49-dcb3-48e1-94e4-5d4f185ea8e2\\\\\\\\\\\\\", \\\\\\\\\\\\\"datasetType\\\\\\\\\\\\\": \\\\\\\\\\\\\"tabular\\\\\\\\\\\\\", \\\\\\\\\\\\\"subscriptionId\\\\\\\\\\\\\": \\\\\\\\\\\\\"9a7511b8-150f-4a58-8528-3e7d50216c31\\\\\\\\\\\\\", \\\\\\\\\\\\\"workspaceId\\\\\\\\\\\\\": \\\\\\\\\\\\\"3a8f3830-c865-4e1e-b95d-7c87cd2590ee\\\\\\\\\\\\\", \\\\\\\\\\\\\"workspaceLocation\\\\\\\\\\\\\": \\\\\\\\\\\\\"southcentralus\\\\\\\\\\\\\"}}\\\\\", \\\\\"validation_data\\\\\": \\\\\"{\\\\\\\\\\\\\"blocks\\\\\\\\\\\\\": [{\\\\\\\\\\\\\"id\\\\\\\\\\\\\": \\\\\\\\\\\\\"1cf33694-cbdc-4ccd-a773-9bbeac51abc6\\\\\\\\\\\\\", \\\\\\\\\\\\\"type\\\\\\\\\\\\\": \\\\\\\\\\\\\"Microsoft.DPrep.GetDatastoreFilesBlock\\\\\\\\\\\\\", \\\\\\\\\\\\\"arguments\\\\\\\\\\\\\": {\\\\\\\\\\\\\"datastores\\\\\\\\\\\\\": [{\\\\\\\\\\\\\"datastoreName\\\\\\\\\\\\\": \\\\\\\\\\\\\"workspaceblobstore\\\\\\\\\\\\\", \\\\\\\\\\\\\"path\\\\\\\\\\\\\": \\\\\\\\\\\\\"data/validation.csv\\\\\\\\\\\\\", \\\\\\\\\\\\\"resourceGroup\\\\\\\\\\\\\": \\\\\\\\\\\\\"aml-quickstarts-143039\\\\\\\\\\\\\", \\\\\\\\\\\\\"subscription\\\\\\\\\\\\\": \\\\\\\\\\\\\"9a7511b8-150f-4a58-8528-3e7d50216c31\\\\\\\\\\\\\", \\\\\\\\\\\\\"workspaceName\\\\\\\\\\\\\": \\\\\\\\\\\\\"quick-starts-ws-143039\\\\\\\\\\\\\"}]}, \\\\\\\\\\\\\"localData\\\\\\\\\\\\\": {}, \\\\\\\\\\\\\"isEnabled\\\\\\\\\\\\\": true, \\\\\\\\\\\\\"name\\\\\\\\\\\\\": null, \\\\\\\\\\\\\"annotation\\\\\\\\\\\\\": null}, {\\\\\\\\\\\\\"id\\\\\\\\\\\\\": \\\\\\\\\\\\\"9951c1e2-0a73-4ce0-97a1-4d059e74105f\\\\\\\\\\\\\", \\\\\\\\\\\\\"type\\\\\\\\\\\\\": \\\\\\\\\\\\\"Microsoft.DPrep.ParseDelimitedBlock\\\\\\\\\\\\\", \\\\\\\\\\\\\"arguments\\\\\\\\\\\\\": {\\\\\\\\\\\\\"columnHeadersMode\\\\\\\\\\\\\": 3, \\\\\\\\\\\\\"fileEncoding\\\\\\\\\\\\\": 0, \\\\\\\\\\\\\"handleQuotedLineBreaks\\\\\\\\\\\\\": false, \\\\\\\\\\\\\"preview\\\\\\\\\\\\\": false, \\\\\\\\\\\\\"separator\\\\\\\\\\\\\": \\\\\\\\\\\\\",\\\\\\\\\\\\\", \\\\\\\\\\\\\"skipRows\\\\\\\\\\\\\": 0, \\\\\\\\\\\\\"skipRowsMode\\\\\\\\\\\\\": 0}, \\\\\\\\\\\\\"localData\\\\\\\\\\\\\": {}, \\\\\\\\\\\\\"isEnabled\\\\\\\\\\\\\": true, \\\\\\\\\\\\\"name\\\\\\\\\\\\\": null, \\\\\\\\\\\\\"annotation\\\\\\\\\\\\\": null}, {\\\\\\\\\\\\\"id\\\\\\\\\\\\\": \\\\\\\\\\\\\"593c26c6-4f94-48e7-ae8c-bb94ad5f839c\\\\\\\\\\\\\", \\\\\\\\\\\\\"type\\\\\\\\\\\\\": \\\\\\\\\\\\\"Microsoft.DPrep.DropColumnsBlock\\\\\\\\\\\\\", \\\\\\\\\\\\\"arguments\\\\\\\\\\\\\": {\\\\\\\\\\\\\"columns\\\\\\\\\\\\\": {\\\\\\\\\\\\\"type\\\\\\\\\\\\\": 0, \\\\\\\\\\\\\"details\\\\\\\\\\\\\": {\\\\\\\\\\\\\"selectedColumns\\\\\\\\\\\\\": [\\\\\\\\\\\\\"Path\\\\\\\\\\\\\"]}}}, \\\\\\\\\\\\\"localData\\\\\\\\\\\\\": {}, \\\\\\\\\\\\\"isEnabled\\\\\\\\\\\\\": true, \\\\\\\\\\\\\"name\\\\\\\\\\\\\": null, \\\\\\\\\\\\\"annotation\\\\\\\\\\\\\": null}, {\\\\\\\\\\\\\"id\\\\\\\\\\\\\": \\\\\\\\\\\\\"51c30fff-4363-4dde-82c1-1ddae922e0fe\\\\\\\\\\\\\", \\\\\\\\\\\\\"type\\\\\\\\\\\\\": \\\\\\\\\\\\\"Microsoft.DPrep.SetColumnTypesBlock\\\\\\\\\\\\\", \\\\\\\\\\\\\"arguments\\\\\\\\\\\\\": {\\\\\\\\\\\\\"columnConversion\\\\\\\\\\\\\": [{\\\\\\\\\\\\\"column\\\\\\\\\\\\\": {\\\\\\\\\\\\\"type\\\\\\\\\\\\\": 2, \\\\\\\\\\\\\"details\\\\\\\\\\\\\": {\\\\\\\\\\\\\"selectedColumn\\\\\\\\\\\\\": \\\\\\\\\\\\\"DATE\\\\\\\\\\\\\"}}, \\\\\\\\\\\\\"typeArguments\\\\\\\\\\\\\": {\\\\\\\\\\\\\"dateTimeFormats\\\\\\\\\\\\\": [\\\\\\\\\\\\\"%m/%d/%y %H:%M\\\\\\\\\\\\\"]}, \\\\\\\\\\\\\"typeProperty\\\\\\\\\\\\\": 4}, {\\\\\\\\\\\\\"column\\\\\\\\\\\\\": {\\\\\\\\\\\\\"type\\\\\\\\\\\\\": 2, \\\\\\\\\\\\\"details\\\\\\\\\\\\\": {\\\\\\\\\\\\\"selectedColumn\\\\\\\\\\\\\": \\\\\\\\\\\\\"TOTAL Load\\\\\\\\\\\\\"}}, \\\\\\\\\\\\\"typeProperty\\\\\\\\\\\\\": 2}, {\\\\\\\\\\\\\"column\\\\\\\\\\\\\": {\\\\\\\\\\\\\"type\\\\\\\\\\\\\": 2, \\\\\\\\\\\\\"details\\\\\\\\\\\\\": {\\\\\\\\\\\\\"selectedColumn\\\\\\\\\\\\\": \\\\\\\\\\\\\"AVGTEMP\\\\\\\\\\\\\"}}, \\\\\\\\\\\\\"typeProperty\\\\\\\\\\\\\": 2}, {\\\\\\\\\\\\\"column\\\\\\\\\\\\\": {\\\\\\\\\\\\\"type\\\\\\\\\\\\\": 2, \\\\\\\\\\\\\"details\\\\\\\\\\\\\": {\\\\\\\\\\\\\"selectedColumn\\\\\\\\\\\\\": \\\\\\\\\\\\\"AVGHUM\\\\\\\\\\\\\"}}, \\\\\\\\\\\\\"typeProperty\\\\\\\\\\\\\": 2}, {\\\\\\\\\\\\\"column\\\\\\\\\\\\\": {\\\\\\\\\\\\\"type\\\\\\\\\\\\\": 2, \\\\\\\\\\\\\"details\\\\\\\\\\\\\": {\\\\\\\\\\\\\"selectedColumn\\\\\\\\\\\\\": \\\\\\\\\\\\\"HOL_IND\\\\\\\\\\\\\"}}, \\\\\\\\\\\\\"typeProperty\\\\\\\\\\\\\": 2}, {\\\\\\\\\\\\\"column\\\\\\\\\\\\\": {\\\\\\\\\\\\\"type\\\\\\\\\\\\\": 2, \\\\\\\\\\\\\"details\\\\\\\\\\\\\": {\\\\\\\\\\\\\"selectedColumn\\\\\\\\\\\\\": \\\\\\\\\\\\\"SUNRISE\\\\\\\\\\\\\"}}, \\\\\\\\\\\\\"typeProperty\\\\\\\\\\\\\": 0}, {\\\\\\\\\\\\\"column\\\\\\\\\\\\\": {\\\\\\\\\\\\\"type\\\\\\\\\\\\\": 2, \\\\\\\\\\\\\"details\\\\\\\\\\\\\": {\\\\\\\\\\\\\"selectedColumn\\\\\\\\\\\\\": \\\\\\\\\\\\\"SUNSET\\\\\\\\\\\\\"}}, \\\\\\\\\\\\\"typeProperty\\\\\\\\\\\\\": 0}]}, \\\\\\\\\\\\\"localData\\\\\\\\\\\\\": {}, \\\\\\\\\\\\\"isEnabled\\\\\\\\\\\\\": true, \\\\\\\\\\\\\"name\\\\\\\\\\\\\": null, \\\\\\\\\\\\\"annotation\\\\\\\\\\\\\": null}], \\\\\\\\\\\\\"inspectors\\\\\\\\\\\\\": [], \\\\\\\\\\\\\"meta\\\\\\\\\\\\\": {\\\\\\\\\\\\\"savedDatasetId\\\\\\\\\\\\\": \\\\\\\\\\\\\"e084e269-7eb5-4cf0-bf24-9843558d7aae\\\\\\\\\\\\\", \\\\\\\\\\\\\"datasetType\\\\\\\\\\\\\": \\\\\\\\\\\\\"tabular\\\\\\\\\\\\\", \\\\\\\\\\\\\"subscriptionId\\\\\\\\\\\\\": \\\\\\\\\\\\\"9a7511b8-150f-4a58-8528-3e7d50216c31\\\\\\\\\\\\\", \\\\\\\\\\\\\"workspaceId\\\\\\\\\\\\\": \\\\\\\\\\\\\"3a8f3830-c865-4e1e-b95d-7c87cd2590ee\\\\\\\\\\\\\", \\\\\\\\\\\\\"workspaceLocation\\\\\\\\\\\\\": \\\\\\\\\\\\\"southcentralus\\\\\\\\\\\\\"}}\\\\\", \\\\\"activities\\\\\": 0}',\n",
       "  'EnableSubsampling': 'False',\n",
       "  'runTemplate': 'AutoML',\n",
       "  'azureml.runsource': 'automl',\n",
       "  'display_task_type': 'forecasting',\n",
       "  'dependencies_versions': '{\"azureml-widgets\": \"1.19.0\", \"azureml-train\": \"1.19.0\", \"azureml-train-restclients-hyperdrive\": \"1.19.0\", \"azureml-train-core\": \"1.19.0\", \"azureml-train-automl\": \"1.19.0\", \"azureml-train-automl-runtime\": \"1.19.0\", \"azureml-train-automl-client\": \"1.19.0\", \"azureml-telemetry\": \"1.19.0\", \"azureml-model-management-sdk\": \"1.0.1b6.post1\", \"azureml-interpret\": \"1.19.0\", \"azureml-defaults\": \"1.19.0\", \"azureml-dataset-runtime\": \"1.19.0.post1\", \"azureml-dataprep\": \"2.6.3\", \"azureml-dataprep-rslex\": \"1.4.0\", \"azureml-dataprep-native\": \"26.0.0\", \"azureml-core\": \"1.19.0\", \"azureml-automl-runtime\": \"1.19.0\", \"azureml-automl-core\": \"1.19.0\"}',\n",
       "  '_aml_system_scenario_identification': 'Remote.Parent',\n",
       "  'ClientType': 'SDK',\n",
       "  'environment_cpu_name': 'AzureML-AutoML',\n",
       "  'environment_cpu_label': 'prod',\n",
       "  'environment_gpu_name': 'AzureML-AutoML-GPU',\n",
       "  'environment_gpu_label': 'prod',\n",
       "  'root_attribution': 'automl',\n",
       "  'attribution': 'AutoML',\n",
       "  'Orchestrator': 'AutoML',\n",
       "  'CancelUri': 'https://southcentralus.experiments.azureml.net/jasmine/v1.0/subscriptions/9a7511b8-150f-4a58-8528-3e7d50216c31/resourceGroups/aml-quickstarts-143039/providers/Microsoft.MachineLearningServices/workspaces/quick-starts-ws-143039/experimentids/4c299761-01ce-41ae-8dea-70436ddc7068/cancel/AutoML_6f14afc4-d33a-4594-9212-98828cadb594',\n",
       "  'ClientSdkVersion': '1.25.0',\n",
       "  'snapshotId': '00000000-0000-0000-0000-000000000000',\n",
       "  'SetupRunId': 'AutoML_6f14afc4-d33a-4594-9212-98828cadb594_setup',\n",
       "  'SetupRunContainerId': 'dcid.AutoML_6f14afc4-d33a-4594-9212-98828cadb594_setup',\n",
       "  'forecasting_target_lags': '[48]',\n",
       "  'forecasting_target_rolling_window_size': '0',\n",
       "  'forecasting_max_horizon': '48',\n",
       "  'forecasting_freq': '30T',\n",
       "  'ProblemInfoJsonString': '{\"dataset_num_categorical\": 0, \"is_sparse\": false, \"subsampling\": false, \"dataset_classes\": 14016, \"dataset_features\": 23, \"dataset_samples\": 2309736, \"single_frequency_class_detected\": false}',\n",
       "  'ModelExplainRunId': 'AutoML_6f14afc4-d33a-4594-9212-98828cadb594_ModelExplain'},\n",
       " 'inputDatasets': [{'dataset': {'id': 'cf453b49-dcb3-48e1-94e4-5d4f185ea8e2'}, 'consumptionDetails': {'type': 'RunInput', 'inputName': 'training_data', 'mechanism': 'Direct'}}, {'dataset': {'id': 'e084e269-7eb5-4cf0-bf24-9843558d7aae'}, 'consumptionDetails': {'type': 'RunInput', 'inputName': 'validation_data', 'mechanism': 'Direct'}}],\n",
       " 'outputDatasets': [],\n",
       " 'logFiles': {}}"
      ]
     },
     "metadata": {},
     "execution_count": 8
    }
   ],
   "source": [
    "# Submit AML experiment\n",
    "remote_run = experiment.submit(automl_config, show_output=True)\n",
    "remote_run.wait_for_completion()"
   ]
  },
  {
   "cell_type": "markdown",
   "metadata": {},
   "source": [
    "## Run Details"
   ]
  },
  {
   "cell_type": "code",
   "execution_count": 9,
   "metadata": {
    "gather": {
     "logged": 1598431121770
    },
    "jupyter": {
     "outputs_hidden": false,
     "source_hidden": false
    },
    "nteract": {
     "transient": {
      "deleting": false
     }
    }
   },
   "outputs": [
    {
     "output_type": "display_data",
     "data": {
      "text/plain": "_AutoMLWidget(widget_settings={'childWidgetDisplay': 'popup', 'send_telemetry': False, 'log_level': 'INFO', 's…",
      "application/vnd.jupyter.widget-view+json": {
       "version_major": 2,
       "version_minor": 0,
       "model_id": "a8f93cf6d8c74dfbb5f985bed2a8dd30"
      }
     },
     "metadata": {}
    },
    {
     "output_type": "display_data",
     "data": {
      "application/aml.mini.widget.v1": "{\"status\": \"Completed\", \"workbench_run_details_uri\": \"https://ml.azure.com/experiments/automl-energyforecast/runs/AutoML_6f14afc4-d33a-4594-9212-98828cadb594?wsid=/subscriptions/9a7511b8-150f-4a58-8528-3e7d50216c31/resourcegroups/aml-quickstarts-143039/workspaces/quick-starts-ws-143039\", \"run_id\": \"AutoML_6f14afc4-d33a-4594-9212-98828cadb594\", \"run_properties\": {\"run_id\": \"AutoML_6f14afc4-d33a-4594-9212-98828cadb594\", \"created_utc\": \"2021-04-18T11:28:17.56785Z\", \"properties\": {\"num_iterations\": \"1000\", \"training_type\": \"TrainFull\", \"acquisition_function\": \"EI\", \"primary_metric\": \"r2_score\", \"train_split\": \"0\", \"acquisition_parameter\": \"0\", \"num_cross_validation\": null, \"target\": \"aml-compute\", \"AMLSettingsJsonString\": \"{\\\"path\\\":null,\\\"name\\\":\\\"automl-energyforecast\\\",\\\"subscription_id\\\":\\\"9a7511b8-150f-4a58-8528-3e7d50216c31\\\",\\\"resource_group\\\":\\\"aml-quickstarts-143039\\\",\\\"workspace_name\\\":\\\"quick-starts-ws-143039\\\",\\\"region\\\":\\\"southcentralus\\\",\\\"compute_target\\\":\\\"aml-compute\\\",\\\"spark_service\\\":null,\\\"azure_service\\\":\\\"remote\\\",\\\"many_models\\\":false,\\\"pipeline_fetch_max_batch_size\\\":1,\\\"iterations\\\":1000,\\\"primary_metric\\\":\\\"r2_score\\\",\\\"task_type\\\":\\\"regression\\\",\\\"data_script\\\":null,\\\"validation_size\\\":0.0,\\\"n_cross_validations\\\":null,\\\"y_min\\\":null,\\\"y_max\\\":null,\\\"num_classes\\\":null,\\\"featurization\\\":\\\"auto\\\",\\\"_ignore_package_version_incompatibilities\\\":false,\\\"is_timeseries\\\":true,\\\"max_cores_per_iteration\\\":1,\\\"max_concurrent_iterations\\\":10,\\\"iteration_timeout_minutes\\\":null,\\\"mem_in_mb\\\":null,\\\"enforce_time_on_windows\\\":true,\\\"experiment_timeout_minutes\\\":15,\\\"experiment_exit_score\\\":null,\\\"whitelist_models\\\":null,\\\"blacklist_algos\\\":[\\\"TensorFlowDNN\\\",\\\"TensorFlowLinearRegressor\\\",\\\"Naive\\\",\\\"SeasonalNaive\\\",\\\"Average\\\",\\\"SeasonalAverage\\\",\\\"ExponentialSmoothing\\\",\\\"Arimax\\\",\\\"AutoArima\\\",\\\"Prophet\\\"],\\\"supported_models\\\":[\\\"ElasticNet\\\",\\\"GradientBoosting\\\",\\\"TensorFlowLinearRegressor\\\",\\\"KNN\\\",\\\"TensorFlowDNN\\\",\\\"SeasonalNaive\\\",\\\"TCNForecaster\\\",\\\"ExtremeRandomTrees\\\",\\\"Naive\\\",\\\"SeasonalAverage\\\",\\\"RandomForest\\\",\\\"AutoArima\\\",\\\"LightGBM\\\",\\\"Average\\\",\\\"XGBoostRegressor\\\",\\\"SGD\\\",\\\"DecisionTree\\\",\\\"Prophet\\\",\\\"LassoLars\\\"],\\\"auto_blacklist\\\":true,\\\"blacklist_samples_reached\\\":false,\\\"exclude_nan_labels\\\":true,\\\"verbosity\\\":20,\\\"_debug_log\\\":\\\"azureml_automl.log\\\",\\\"show_warnings\\\":false,\\\"model_explainability\\\":true,\\\"service_url\\\":null,\\\"sdk_url\\\":null,\\\"sdk_packages\\\":null,\\\"enable_onnx_compatible_models\\\":false,\\\"enable_split_onnx_featurizer_estimator_models\\\":false,\\\"vm_type\\\":\\\"STANDARD_DS12_V2\\\",\\\"telemetry_verbosity\\\":20,\\\"send_telemetry\\\":true,\\\"enable_dnn\\\":false,\\\"scenario\\\":\\\"SDK-1.13.0\\\",\\\"environment_label\\\":null,\\\"force_text_dnn\\\":false,\\\"enable_feature_sweeping\\\":false,\\\"time_column_name\\\":\\\"DATE\\\",\\\"grain_column_names\\\":null,\\\"drop_column_names\\\":[],\\\"max_horizon\\\":48,\\\"dropna\\\":false,\\\"overwrite_columns\\\":true,\\\"transform_dictionary\\\":{\\\"min\\\":\\\"_automl_target_col\\\",\\\"max\\\":\\\"_automl_target_col\\\",\\\"mean\\\":\\\"_automl_target_col\\\"},\\\"window_size\\\":null,\\\"country_or_region\\\":null,\\\"lags\\\":{\\\"_automl_target_col\\\":[48]},\\\"feature_lags\\\":null,\\\"seasonality\\\":\\\"auto\\\",\\\"use_stl\\\":null,\\\"short_series_handling\\\":true,\\\"freq\\\":null,\\\"short_series_handling_configuration\\\":\\\"auto\\\",\\\"enable_early_stopping\\\":true,\\\"early_stopping_n_iters\\\":10,\\\"metrics\\\":null,\\\"enable_ensembling\\\":true,\\\"enable_stack_ensembling\\\":false,\\\"ensemble_iterations\\\":15,\\\"enable_tf\\\":false,\\\"enable_subsampling\\\":false,\\\"subsample_seed\\\":null,\\\"enable_nimbusml\\\":false,\\\"enable_streaming\\\":false,\\\"force_streaming\\\":false,\\\"track_child_runs\\\":true,\\\"allowed_private_models\\\":[],\\\"label_column_name\\\":\\\"TOTAL Load\\\",\\\"weight_column_name\\\":null,\\\"cv_split_column_names\\\":null,\\\"enable_local_managed\\\":false,\\\"_local_managed_run_id\\\":null,\\\"cost_mode\\\":1,\\\"lag_length\\\":0,\\\"metric_operation\\\":\\\"maximize\\\",\\\"preprocess\\\":true}\", \"DataPrepJsonString\": \"{\\\\\\\"training_data\\\\\\\": \\\\\\\"{\\\\\\\\\\\\\\\"blocks\\\\\\\\\\\\\\\": [{\\\\\\\\\\\\\\\"id\\\\\\\\\\\\\\\": \\\\\\\\\\\\\\\"262d5b2a-3126-4d34-9aa7-6507b083fb58\\\\\\\\\\\\\\\", \\\\\\\\\\\\\\\"type\\\\\\\\\\\\\\\": \\\\\\\\\\\\\\\"Microsoft.DPrep.GetDatastoreFilesBlock\\\\\\\\\\\\\\\", \\\\\\\\\\\\\\\"arguments\\\\\\\\\\\\\\\": {\\\\\\\\\\\\\\\"datastores\\\\\\\\\\\\\\\": [{\\\\\\\\\\\\\\\"datastoreName\\\\\\\\\\\\\\\": \\\\\\\\\\\\\\\"workspaceblobstore\\\\\\\\\\\\\\\", \\\\\\\\\\\\\\\"path\\\\\\\\\\\\\\\": \\\\\\\\\\\\\\\"data/training.csv\\\\\\\\\\\\\\\", \\\\\\\\\\\\\\\"resourceGroup\\\\\\\\\\\\\\\": \\\\\\\\\\\\\\\"aml-quickstarts-143039\\\\\\\\\\\\\\\", \\\\\\\\\\\\\\\"subscription\\\\\\\\\\\\\\\": \\\\\\\\\\\\\\\"9a7511b8-150f-4a58-8528-3e7d50216c31\\\\\\\\\\\\\\\", \\\\\\\\\\\\\\\"workspaceName\\\\\\\\\\\\\\\": \\\\\\\\\\\\\\\"quick-starts-ws-143039\\\\\\\\\\\\\\\"}]}, \\\\\\\\\\\\\\\"localData\\\\\\\\\\\\\\\": {}, \\\\\\\\\\\\\\\"isEnabled\\\\\\\\\\\\\\\": true, \\\\\\\\\\\\\\\"name\\\\\\\\\\\\\\\": null, \\\\\\\\\\\\\\\"annotation\\\\\\\\\\\\\\\": null}, {\\\\\\\\\\\\\\\"id\\\\\\\\\\\\\\\": \\\\\\\\\\\\\\\"9be51c88-3c50-4d93-a926-db940abe2c34\\\\\\\\\\\\\\\", \\\\\\\\\\\\\\\"type\\\\\\\\\\\\\\\": \\\\\\\\\\\\\\\"Microsoft.DPrep.ParseDelimitedBlock\\\\\\\\\\\\\\\", \\\\\\\\\\\\\\\"arguments\\\\\\\\\\\\\\\": {\\\\\\\\\\\\\\\"columnHeadersMode\\\\\\\\\\\\\\\": 3, \\\\\\\\\\\\\\\"fileEncoding\\\\\\\\\\\\\\\": 0, \\\\\\\\\\\\\\\"handleQuotedLineBreaks\\\\\\\\\\\\\\\": false, \\\\\\\\\\\\\\\"preview\\\\\\\\\\\\\\\": false, \\\\\\\\\\\\\\\"separator\\\\\\\\\\\\\\\": \\\\\\\\\\\\\\\",\\\\\\\\\\\\\\\", \\\\\\\\\\\\\\\"skipRows\\\\\\\\\\\\\\\": 0, \\\\\\\\\\\\\\\"skipRowsMode\\\\\\\\\\\\\\\": 0}, \\\\\\\\\\\\\\\"localData\\\\\\\\\\\\\\\": {}, \\\\\\\\\\\\\\\"isEnabled\\\\\\\\\\\\\\\": true, \\\\\\\\\\\\\\\"name\\\\\\\\\\\\\\\": null, \\\\\\\\\\\\\\\"annotation\\\\\\\\\\\\\\\": null}, {\\\\\\\\\\\\\\\"id\\\\\\\\\\\\\\\": \\\\\\\\\\\\\\\"a3463460-b8e3-4c29-9c53-7c3a5acfa713\\\\\\\\\\\\\\\", \\\\\\\\\\\\\\\"type\\\\\\\\\\\\\\\": \\\\\\\\\\\\\\\"Microsoft.DPrep.DropColumnsBlock\\\\\\\\\\\\\\\", \\\\\\\\\\\\\\\"arguments\\\\\\\\\\\\\\\": {\\\\\\\\\\\\\\\"columns\\\\\\\\\\\\\\\": {\\\\\\\\\\\\\\\"type\\\\\\\\\\\\\\\": 0, \\\\\\\\\\\\\\\"details\\\\\\\\\\\\\\\": {\\\\\\\\\\\\\\\"selectedColumns\\\\\\\\\\\\\\\": [\\\\\\\\\\\\\\\"Path\\\\\\\\\\\\\\\"]}}}, \\\\\\\\\\\\\\\"localData\\\\\\\\\\\\\\\": {}, \\\\\\\\\\\\\\\"isEnabled\\\\\\\\\\\\\\\": true, \\\\\\\\\\\\\\\"name\\\\\\\\\\\\\\\": null, \\\\\\\\\\\\\\\"annotation\\\\\\\\\\\\\\\": null}, {\\\\\\\\\\\\\\\"id\\\\\\\\\\\\\\\": \\\\\\\\\\\\\\\"98d56fc9-0261-4f67-a252-a2e36f9a2027\\\\\\\\\\\\\\\", \\\\\\\\\\\\\\\"type\\\\\\\\\\\\\\\": \\\\\\\\\\\\\\\"Microsoft.DPrep.SetColumnTypesBlock\\\\\\\\\\\\\\\", \\\\\\\\\\\\\\\"arguments\\\\\\\\\\\\\\\": {\\\\\\\\\\\\\\\"columnConversion\\\\\\\\\\\\\\\": [{\\\\\\\\\\\\\\\"column\\\\\\\\\\\\\\\": {\\\\\\\\\\\\\\\"type\\\\\\\\\\\\\\\": 2, \\\\\\\\\\\\\\\"details\\\\\\\\\\\\\\\": {\\\\\\\\\\\\\\\"selectedColumn\\\\\\\\\\\\\\\": \\\\\\\\\\\\\\\"DATE\\\\\\\\\\\\\\\"}}, \\\\\\\\\\\\\\\"typeArguments\\\\\\\\\\\\\\\": {\\\\\\\\\\\\\\\"dateTimeFormats\\\\\\\\\\\\\\\": [\\\\\\\\\\\\\\\"%m/%d/%y %H:%M\\\\\\\\\\\\\\\"]}, \\\\\\\\\\\\\\\"typeProperty\\\\\\\\\\\\\\\": 4}, {\\\\\\\\\\\\\\\"column\\\\\\\\\\\\\\\": {\\\\\\\\\\\\\\\"type\\\\\\\\\\\\\\\": 2, \\\\\\\\\\\\\\\"details\\\\\\\\\\\\\\\": {\\\\\\\\\\\\\\\"selectedColumn\\\\\\\\\\\\\\\": \\\\\\\\\\\\\\\"TOTAL Load\\\\\\\\\\\\\\\"}}, \\\\\\\\\\\\\\\"typeProperty\\\\\\\\\\\\\\\": 2}, {\\\\\\\\\\\\\\\"column\\\\\\\\\\\\\\\": {\\\\\\\\\\\\\\\"type\\\\\\\\\\\\\\\": 2, \\\\\\\\\\\\\\\"details\\\\\\\\\\\\\\\": {\\\\\\\\\\\\\\\"selectedColumn\\\\\\\\\\\\\\\": \\\\\\\\\\\\\\\"AVGTEMP\\\\\\\\\\\\\\\"}}, \\\\\\\\\\\\\\\"typeProperty\\\\\\\\\\\\\\\": 2}, {\\\\\\\\\\\\\\\"column\\\\\\\\\\\\\\\": {\\\\\\\\\\\\\\\"type\\\\\\\\\\\\\\\": 2, \\\\\\\\\\\\\\\"details\\\\\\\\\\\\\\\": {\\\\\\\\\\\\\\\"selectedColumn\\\\\\\\\\\\\\\": \\\\\\\\\\\\\\\"AVGHUM\\\\\\\\\\\\\\\"}}, \\\\\\\\\\\\\\\"typeProperty\\\\\\\\\\\\\\\": 2}, {\\\\\\\\\\\\\\\"column\\\\\\\\\\\\\\\": {\\\\\\\\\\\\\\\"type\\\\\\\\\\\\\\\": 2, \\\\\\\\\\\\\\\"details\\\\\\\\\\\\\\\": {\\\\\\\\\\\\\\\"selectedColumn\\\\\\\\\\\\\\\": \\\\\\\\\\\\\\\"HOL_IND\\\\\\\\\\\\\\\"}}, \\\\\\\\\\\\\\\"typeProperty\\\\\\\\\\\\\\\": 2}, {\\\\\\\\\\\\\\\"column\\\\\\\\\\\\\\\": {\\\\\\\\\\\\\\\"type\\\\\\\\\\\\\\\": 2, \\\\\\\\\\\\\\\"details\\\\\\\\\\\\\\\": {\\\\\\\\\\\\\\\"selectedColumn\\\\\\\\\\\\\\\": \\\\\\\\\\\\\\\"SUNRISE\\\\\\\\\\\\\\\"}}, \\\\\\\\\\\\\\\"typeProperty\\\\\\\\\\\\\\\": 0}, {\\\\\\\\\\\\\\\"column\\\\\\\\\\\\\\\": {\\\\\\\\\\\\\\\"type\\\\\\\\\\\\\\\": 2, \\\\\\\\\\\\\\\"details\\\\\\\\\\\\\\\": {\\\\\\\\\\\\\\\"selectedColumn\\\\\\\\\\\\\\\": \\\\\\\\\\\\\\\"SUNSET\\\\\\\\\\\\\\\"}}, \\\\\\\\\\\\\\\"typeProperty\\\\\\\\\\\\\\\": 0}]}, \\\\\\\\\\\\\\\"localData\\\\\\\\\\\\\\\": {}, \\\\\\\\\\\\\\\"isEnabled\\\\\\\\\\\\\\\": true, \\\\\\\\\\\\\\\"name\\\\\\\\\\\\\\\": null, \\\\\\\\\\\\\\\"annotation\\\\\\\\\\\\\\\": null}], \\\\\\\\\\\\\\\"inspectors\\\\\\\\\\\\\\\": [], \\\\\\\\\\\\\\\"meta\\\\\\\\\\\\\\\": {\\\\\\\\\\\\\\\"savedDatasetId\\\\\\\\\\\\\\\": \\\\\\\\\\\\\\\"cf453b49-dcb3-48e1-94e4-5d4f185ea8e2\\\\\\\\\\\\\\\", \\\\\\\\\\\\\\\"datasetType\\\\\\\\\\\\\\\": \\\\\\\\\\\\\\\"tabular\\\\\\\\\\\\\\\", \\\\\\\\\\\\\\\"subscriptionId\\\\\\\\\\\\\\\": \\\\\\\\\\\\\\\"9a7511b8-150f-4a58-8528-3e7d50216c31\\\\\\\\\\\\\\\", \\\\\\\\\\\\\\\"workspaceId\\\\\\\\\\\\\\\": \\\\\\\\\\\\\\\"3a8f3830-c865-4e1e-b95d-7c87cd2590ee\\\\\\\\\\\\\\\", \\\\\\\\\\\\\\\"workspaceLocation\\\\\\\\\\\\\\\": \\\\\\\\\\\\\\\"southcentralus\\\\\\\\\\\\\\\"}}\\\\\\\", \\\\\\\"validation_data\\\\\\\": \\\\\\\"{\\\\\\\\\\\\\\\"blocks\\\\\\\\\\\\\\\": [{\\\\\\\\\\\\\\\"id\\\\\\\\\\\\\\\": \\\\\\\\\\\\\\\"1cf33694-cbdc-4ccd-a773-9bbeac51abc6\\\\\\\\\\\\\\\", \\\\\\\\\\\\\\\"type\\\\\\\\\\\\\\\": \\\\\\\\\\\\\\\"Microsoft.DPrep.GetDatastoreFilesBlock\\\\\\\\\\\\\\\", \\\\\\\\\\\\\\\"arguments\\\\\\\\\\\\\\\": {\\\\\\\\\\\\\\\"datastores\\\\\\\\\\\\\\\": [{\\\\\\\\\\\\\\\"datastoreName\\\\\\\\\\\\\\\": \\\\\\\\\\\\\\\"workspaceblobstore\\\\\\\\\\\\\\\", \\\\\\\\\\\\\\\"path\\\\\\\\\\\\\\\": \\\\\\\\\\\\\\\"data/validation.csv\\\\\\\\\\\\\\\", \\\\\\\\\\\\\\\"resourceGroup\\\\\\\\\\\\\\\": \\\\\\\\\\\\\\\"aml-quickstarts-143039\\\\\\\\\\\\\\\", \\\\\\\\\\\\\\\"subscription\\\\\\\\\\\\\\\": \\\\\\\\\\\\\\\"9a7511b8-150f-4a58-8528-3e7d50216c31\\\\\\\\\\\\\\\", \\\\\\\\\\\\\\\"workspaceName\\\\\\\\\\\\\\\": \\\\\\\\\\\\\\\"quick-starts-ws-143039\\\\\\\\\\\\\\\"}]}, \\\\\\\\\\\\\\\"localData\\\\\\\\\\\\\\\": {}, \\\\\\\\\\\\\\\"isEnabled\\\\\\\\\\\\\\\": true, \\\\\\\\\\\\\\\"name\\\\\\\\\\\\\\\": null, \\\\\\\\\\\\\\\"annotation\\\\\\\\\\\\\\\": null}, {\\\\\\\\\\\\\\\"id\\\\\\\\\\\\\\\": \\\\\\\\\\\\\\\"9951c1e2-0a73-4ce0-97a1-4d059e74105f\\\\\\\\\\\\\\\", \\\\\\\\\\\\\\\"type\\\\\\\\\\\\\\\": \\\\\\\\\\\\\\\"Microsoft.DPrep.ParseDelimitedBlock\\\\\\\\\\\\\\\", \\\\\\\\\\\\\\\"arguments\\\\\\\\\\\\\\\": {\\\\\\\\\\\\\\\"columnHeadersMode\\\\\\\\\\\\\\\": 3, \\\\\\\\\\\\\\\"fileEncoding\\\\\\\\\\\\\\\": 0, \\\\\\\\\\\\\\\"handleQuotedLineBreaks\\\\\\\\\\\\\\\": false, \\\\\\\\\\\\\\\"preview\\\\\\\\\\\\\\\": false, \\\\\\\\\\\\\\\"separator\\\\\\\\\\\\\\\": \\\\\\\\\\\\\\\",\\\\\\\\\\\\\\\", \\\\\\\\\\\\\\\"skipRows\\\\\\\\\\\\\\\": 0, \\\\\\\\\\\\\\\"skipRowsMode\\\\\\\\\\\\\\\": 0}, \\\\\\\\\\\\\\\"localData\\\\\\\\\\\\\\\": {}, \\\\\\\\\\\\\\\"isEnabled\\\\\\\\\\\\\\\": true, \\\\\\\\\\\\\\\"name\\\\\\\\\\\\\\\": null, \\\\\\\\\\\\\\\"annotation\\\\\\\\\\\\\\\": null}, {\\\\\\\\\\\\\\\"id\\\\\\\\\\\\\\\": \\\\\\\\\\\\\\\"593c26c6-4f94-48e7-ae8c-bb94ad5f839c\\\\\\\\\\\\\\\", \\\\\\\\\\\\\\\"type\\\\\\\\\\\\\\\": \\\\\\\\\\\\\\\"Microsoft.DPrep.DropColumnsBlock\\\\\\\\\\\\\\\", \\\\\\\\\\\\\\\"arguments\\\\\\\\\\\\\\\": {\\\\\\\\\\\\\\\"columns\\\\\\\\\\\\\\\": {\\\\\\\\\\\\\\\"type\\\\\\\\\\\\\\\": 0, \\\\\\\\\\\\\\\"details\\\\\\\\\\\\\\\": {\\\\\\\\\\\\\\\"selectedColumns\\\\\\\\\\\\\\\": [\\\\\\\\\\\\\\\"Path\\\\\\\\\\\\\\\"]}}}, \\\\\\\\\\\\\\\"localData\\\\\\\\\\\\\\\": {}, \\\\\\\\\\\\\\\"isEnabled\\\\\\\\\\\\\\\": true, \\\\\\\\\\\\\\\"name\\\\\\\\\\\\\\\": null, \\\\\\\\\\\\\\\"annotation\\\\\\\\\\\\\\\": null}, {\\\\\\\\\\\\\\\"id\\\\\\\\\\\\\\\": \\\\\\\\\\\\\\\"51c30fff-4363-4dde-82c1-1ddae922e0fe\\\\\\\\\\\\\\\", \\\\\\\\\\\\\\\"type\\\\\\\\\\\\\\\": \\\\\\\\\\\\\\\"Microsoft.DPrep.SetColumnTypesBlock\\\\\\\\\\\\\\\", \\\\\\\\\\\\\\\"arguments\\\\\\\\\\\\\\\": {\\\\\\\\\\\\\\\"columnConversion\\\\\\\\\\\\\\\": [{\\\\\\\\\\\\\\\"column\\\\\\\\\\\\\\\": {\\\\\\\\\\\\\\\"type\\\\\\\\\\\\\\\": 2, \\\\\\\\\\\\\\\"details\\\\\\\\\\\\\\\": {\\\\\\\\\\\\\\\"selectedColumn\\\\\\\\\\\\\\\": \\\\\\\\\\\\\\\"DATE\\\\\\\\\\\\\\\"}}, \\\\\\\\\\\\\\\"typeArguments\\\\\\\\\\\\\\\": {\\\\\\\\\\\\\\\"dateTimeFormats\\\\\\\\\\\\\\\": [\\\\\\\\\\\\\\\"%m/%d/%y %H:%M\\\\\\\\\\\\\\\"]}, \\\\\\\\\\\\\\\"typeProperty\\\\\\\\\\\\\\\": 4}, {\\\\\\\\\\\\\\\"column\\\\\\\\\\\\\\\": {\\\\\\\\\\\\\\\"type\\\\\\\\\\\\\\\": 2, \\\\\\\\\\\\\\\"details\\\\\\\\\\\\\\\": {\\\\\\\\\\\\\\\"selectedColumn\\\\\\\\\\\\\\\": \\\\\\\\\\\\\\\"TOTAL Load\\\\\\\\\\\\\\\"}}, \\\\\\\\\\\\\\\"typeProperty\\\\\\\\\\\\\\\": 2}, {\\\\\\\\\\\\\\\"column\\\\\\\\\\\\\\\": {\\\\\\\\\\\\\\\"type\\\\\\\\\\\\\\\": 2, \\\\\\\\\\\\\\\"details\\\\\\\\\\\\\\\": {\\\\\\\\\\\\\\\"selectedColumn\\\\\\\\\\\\\\\": \\\\\\\\\\\\\\\"AVGTEMP\\\\\\\\\\\\\\\"}}, \\\\\\\\\\\\\\\"typeProperty\\\\\\\\\\\\\\\": 2}, {\\\\\\\\\\\\\\\"column\\\\\\\\\\\\\\\": {\\\\\\\\\\\\\\\"type\\\\\\\\\\\\\\\": 2, \\\\\\\\\\\\\\\"details\\\\\\\\\\\\\\\": {\\\\\\\\\\\\\\\"selectedColumn\\\\\\\\\\\\\\\": \\\\\\\\\\\\\\\"AVGHUM\\\\\\\\\\\\\\\"}}, \\\\\\\\\\\\\\\"typeProperty\\\\\\\\\\\\\\\": 2}, {\\\\\\\\\\\\\\\"column\\\\\\\\\\\\\\\": {\\\\\\\\\\\\\\\"type\\\\\\\\\\\\\\\": 2, \\\\\\\\\\\\\\\"details\\\\\\\\\\\\\\\": {\\\\\\\\\\\\\\\"selectedColumn\\\\\\\\\\\\\\\": \\\\\\\\\\\\\\\"HOL_IND\\\\\\\\\\\\\\\"}}, \\\\\\\\\\\\\\\"typeProperty\\\\\\\\\\\\\\\": 2}, {\\\\\\\\\\\\\\\"column\\\\\\\\\\\\\\\": {\\\\\\\\\\\\\\\"type\\\\\\\\\\\\\\\": 2, \\\\\\\\\\\\\\\"details\\\\\\\\\\\\\\\": {\\\\\\\\\\\\\\\"selectedColumn\\\\\\\\\\\\\\\": \\\\\\\\\\\\\\\"SUNRISE\\\\\\\\\\\\\\\"}}, \\\\\\\\\\\\\\\"typeProperty\\\\\\\\\\\\\\\": 0}, {\\\\\\\\\\\\\\\"column\\\\\\\\\\\\\\\": {\\\\\\\\\\\\\\\"type\\\\\\\\\\\\\\\": 2, \\\\\\\\\\\\\\\"details\\\\\\\\\\\\\\\": {\\\\\\\\\\\\\\\"selectedColumn\\\\\\\\\\\\\\\": \\\\\\\\\\\\\\\"SUNSET\\\\\\\\\\\\\\\"}}, \\\\\\\\\\\\\\\"typeProperty\\\\\\\\\\\\\\\": 0}]}, \\\\\\\\\\\\\\\"localData\\\\\\\\\\\\\\\": {}, \\\\\\\\\\\\\\\"isEnabled\\\\\\\\\\\\\\\": true, \\\\\\\\\\\\\\\"name\\\\\\\\\\\\\\\": null, \\\\\\\\\\\\\\\"annotation\\\\\\\\\\\\\\\": null}], \\\\\\\\\\\\\\\"inspectors\\\\\\\\\\\\\\\": [], \\\\\\\\\\\\\\\"meta\\\\\\\\\\\\\\\": {\\\\\\\\\\\\\\\"savedDatasetId\\\\\\\\\\\\\\\": \\\\\\\\\\\\\\\"e084e269-7eb5-4cf0-bf24-9843558d7aae\\\\\\\\\\\\\\\", \\\\\\\\\\\\\\\"datasetType\\\\\\\\\\\\\\\": \\\\\\\\\\\\\\\"tabular\\\\\\\\\\\\\\\", \\\\\\\\\\\\\\\"subscriptionId\\\\\\\\\\\\\\\": \\\\\\\\\\\\\\\"9a7511b8-150f-4a58-8528-3e7d50216c31\\\\\\\\\\\\\\\", \\\\\\\\\\\\\\\"workspaceId\\\\\\\\\\\\\\\": \\\\\\\\\\\\\\\"3a8f3830-c865-4e1e-b95d-7c87cd2590ee\\\\\\\\\\\\\\\", \\\\\\\\\\\\\\\"workspaceLocation\\\\\\\\\\\\\\\": \\\\\\\\\\\\\\\"southcentralus\\\\\\\\\\\\\\\"}}\\\\\\\", \\\\\\\"activities\\\\\\\": 0}\", \"EnableSubsampling\": \"False\", \"runTemplate\": \"AutoML\", \"azureml.runsource\": \"automl\", \"display_task_type\": \"forecasting\", \"dependencies_versions\": \"{\\\"azureml-widgets\\\": \\\"1.19.0\\\", \\\"azureml-train\\\": \\\"1.19.0\\\", \\\"azureml-train-restclients-hyperdrive\\\": \\\"1.19.0\\\", \\\"azureml-train-core\\\": \\\"1.19.0\\\", \\\"azureml-train-automl\\\": \\\"1.19.0\\\", \\\"azureml-train-automl-runtime\\\": \\\"1.19.0\\\", \\\"azureml-train-automl-client\\\": \\\"1.19.0\\\", \\\"azureml-telemetry\\\": \\\"1.19.0\\\", \\\"azureml-model-management-sdk\\\": \\\"1.0.1b6.post1\\\", \\\"azureml-interpret\\\": \\\"1.19.0\\\", \\\"azureml-defaults\\\": \\\"1.19.0\\\", \\\"azureml-dataset-runtime\\\": \\\"1.19.0.post1\\\", \\\"azureml-dataprep\\\": \\\"2.6.3\\\", \\\"azureml-dataprep-rslex\\\": \\\"1.4.0\\\", \\\"azureml-dataprep-native\\\": \\\"26.0.0\\\", \\\"azureml-core\\\": \\\"1.19.0\\\", \\\"azureml-automl-runtime\\\": \\\"1.19.0\\\", \\\"azureml-automl-core\\\": \\\"1.19.0\\\"}\", \"_aml_system_scenario_identification\": \"Remote.Parent\", \"ClientType\": \"SDK\", \"environment_cpu_name\": \"AzureML-AutoML\", \"environment_cpu_label\": \"prod\", \"environment_gpu_name\": \"AzureML-AutoML-GPU\", \"environment_gpu_label\": \"prod\", \"root_attribution\": \"automl\", \"attribution\": \"AutoML\", \"Orchestrator\": \"AutoML\", \"CancelUri\": \"https://southcentralus.experiments.azureml.net/jasmine/v1.0/subscriptions/9a7511b8-150f-4a58-8528-3e7d50216c31/resourceGroups/aml-quickstarts-143039/providers/Microsoft.MachineLearningServices/workspaces/quick-starts-ws-143039/experimentids/4c299761-01ce-41ae-8dea-70436ddc7068/cancel/AutoML_6f14afc4-d33a-4594-9212-98828cadb594\", \"ClientSdkVersion\": \"1.25.0\", \"snapshotId\": \"00000000-0000-0000-0000-000000000000\", \"SetupRunId\": \"AutoML_6f14afc4-d33a-4594-9212-98828cadb594_setup\", \"SetupRunContainerId\": \"dcid.AutoML_6f14afc4-d33a-4594-9212-98828cadb594_setup\", \"forecasting_target_lags\": \"[48]\", \"forecasting_target_rolling_window_size\": \"0\", \"forecasting_max_horizon\": \"48\", \"forecasting_freq\": \"30T\", \"ProblemInfoJsonString\": \"{\\\"dataset_num_categorical\\\": 0, \\\"is_sparse\\\": false, \\\"subsampling\\\": false, \\\"dataset_classes\\\": 14016, \\\"dataset_features\\\": 23, \\\"dataset_samples\\\": 2309736, \\\"single_frequency_class_detected\\\": false}\", \"ModelExplainRunId\": \"AutoML_6f14afc4-d33a-4594-9212-98828cadb594_ModelExplain\"}, \"tags\": {\"model_explain_run\": \"best_run\", \"_aml_system_azureml.automlComponent\": \"AutoML\", \"pipeline_id\": \"\", \"score\": \"\", \"predicted_cost\": \"\", \"fit_time\": \"\", \"training_percent\": \"\", \"iteration\": \"\", \"run_preprocessor\": \"\", \"run_algorithm\": \"\", \"automl_best_child_run_id\": \"AutoML_6f14afc4-d33a-4594-9212-98828cadb594_16\", \"model_explain_best_run_child_id\": \"AutoML_6f14afc4-d33a-4594-9212-98828cadb594_16\"}, \"end_time_utc\": \"2021-04-18T11:53:19.928974Z\", \"status\": \"Completed\", \"log_files\": {}, \"log_groups\": [], \"run_duration\": \"0:25:02\"}, \"child_runs\": [{\"run_id\": \"AutoML_6f14afc4-d33a-4594-9212-98828cadb594_0\", \"run_number\": 3, \"metric\": null, \"status\": \"Completed\", \"run_type\": \"azureml.scriptrun\", \"training_percent\": \"100\", \"start_time\": \"2021-04-18T11:38:50.897683Z\", \"end_time\": \"2021-04-18T11:47:39.643041Z\", \"created_time\": \"2021-04-18T11:36:24.595792Z\", \"created_time_dt\": \"2021-04-18T11:36:24.595792Z\", \"duration\": \"0:11:15\", \"iteration\": \"0\", \"goal\": \"r2_score_max\", \"run_name\": \"SparseNormalizer, XGBoostRegressor\", \"run_properties\": \"<azureml.automl.runtime.shared.model_wrappers.SparseNormalizer object at 0x7faa599cbc50\", \"primary_metric\": 0.73422638, \"best_metric\": 0.73422638}, {\"run_id\": \"AutoML_6f14afc4-d33a-4594-9212-98828cadb594_9\", \"run_number\": 4, \"metric\": null, \"status\": \"Completed\", \"run_type\": \"azureml.scriptrun\", \"training_percent\": \"100\", \"start_time\": \"2021-04-18T11:36:32.951782Z\", \"end_time\": \"2021-04-18T11:38:10.454586Z\", \"created_time\": \"2021-04-18T11:36:24.704847Z\", \"created_time_dt\": \"2021-04-18T11:36:24.704847Z\", \"duration\": \"0:01:45\", \"iteration\": \"9\", \"goal\": \"r2_score_max\", \"run_name\": \"MinMaxScaler, RandomForest\", \"run_properties\": \"copy=True, feature_range=(0, 1\", \"primary_metric\": 0.46483417, \"best_metric\": 0.73422638}, {\"run_id\": \"AutoML_6f14afc4-d33a-4594-9212-98828cadb594_2\", \"run_number\": 5, \"metric\": null, \"status\": \"Completed\", \"run_type\": \"azureml.scriptrun\", \"training_percent\": \"100\", \"start_time\": \"2021-04-18T11:38:44.924544Z\", \"end_time\": \"2021-04-18T11:50:43.921255Z\", \"created_time\": \"2021-04-18T11:36:24.712106Z\", \"created_time_dt\": \"2021-04-18T11:36:24.712106Z\", \"duration\": \"0:14:19\", \"iteration\": \"2\", \"goal\": \"r2_score_max\", \"run_name\": \"StandardScalerWrapper, XGBoostRegressor\", \"run_properties\": \"<azureml.automl.runtime.shared.model_wrappers.StandardScalerWrapper object at 0x7fe21381cac8\", \"primary_metric\": 0.31270953, \"best_metric\": 0.73422638}, {\"run_id\": \"AutoML_6f14afc4-d33a-4594-9212-98828cadb594_4\", \"run_number\": 6, \"metric\": null, \"status\": \"Canceled\", \"run_type\": \"azureml.scriptrun\", \"training_percent\": \"100\", \"start_time\": \"2021-04-18T11:38:25.472085Z\", \"end_time\": \"2021-04-18T11:52:05.571959Z\", \"created_time\": \"2021-04-18T11:36:24.736297Z\", \"created_time_dt\": \"2021-04-18T11:36:24.736297Z\", \"duration\": \"0:15:40\", \"iteration\": \"4\", \"goal\": null, \"run_name\": \"MinMaxScaler, RandomForest\", \"run_properties\": null}, {\"run_id\": \"AutoML_6f14afc4-d33a-4594-9212-98828cadb594_8\", \"run_number\": 7, \"metric\": null, \"status\": \"Canceled\", \"run_type\": \"azureml.scriptrun\", \"training_percent\": \"100\", \"start_time\": \"2021-04-18T11:38:45.673446Z\", \"end_time\": \"2021-04-18T11:52:05.375423Z\", \"created_time\": \"2021-04-18T11:36:24.815593Z\", \"created_time_dt\": \"2021-04-18T11:36:24.815593Z\", \"duration\": \"0:15:40\", \"iteration\": \"8\", \"goal\": null, \"run_name\": \"MinMaxScaler, RandomForest\", \"run_properties\": null}, {\"run_id\": \"AutoML_6f14afc4-d33a-4594-9212-98828cadb594_3\", \"run_number\": 8, \"metric\": null, \"status\": \"Completed\", \"run_type\": \"azureml.scriptrun\", \"training_percent\": \"100\", \"start_time\": \"2021-04-18T11:38:45.11046Z\", \"end_time\": \"2021-04-18T11:41:44.77469Z\", \"created_time\": \"2021-04-18T11:36:24.726277Z\", \"created_time_dt\": \"2021-04-18T11:36:24.726277Z\", \"duration\": \"0:05:20\", \"iteration\": \"3\", \"goal\": \"r2_score_max\", \"run_name\": \"MaxAbsScaler, ElasticNet\", \"run_properties\": \"copy=True\", \"primary_metric\": 0.42331979, \"best_metric\": 0.73422638}, {\"run_id\": \"AutoML_6f14afc4-d33a-4594-9212-98828cadb594_5\", \"run_number\": 9, \"metric\": null, \"status\": \"Completed\", \"run_type\": \"azureml.scriptrun\", \"training_percent\": \"100\", \"start_time\": \"2021-04-18T11:41:07.608496Z\", \"end_time\": \"2021-04-18T11:48:29.114178Z\", \"created_time\": \"2021-04-18T11:36:24.750402Z\", \"created_time_dt\": \"2021-04-18T11:36:24.750402Z\", \"duration\": \"0:12:04\", \"iteration\": \"5\", \"goal\": \"r2_score_max\", \"run_name\": \"StandardScalerWrapper, XGBoostRegressor\", \"run_properties\": \"<azureml.automl.runtime.shared.model_wrappers.StandardScalerWrapper object at 0x7f40c4414cc0\", \"primary_metric\": 0.57900626, \"best_metric\": 0.73422638}, {\"run_id\": \"AutoML_6f14afc4-d33a-4594-9212-98828cadb594_7\", \"run_number\": 10, \"metric\": null, \"status\": \"Completed\", \"run_type\": \"azureml.scriptrun\", \"training_percent\": \"100\", \"start_time\": \"2021-04-18T11:38:42.189855Z\", \"end_time\": \"2021-04-18T11:40:48.523181Z\", \"created_time\": \"2021-04-18T11:36:24.770849Z\", \"created_time_dt\": \"2021-04-18T11:36:24.770849Z\", \"duration\": \"0:04:23\", \"iteration\": \"7\", \"goal\": \"r2_score_max\", \"run_name\": \"StandardScalerWrapper, ElasticNet\", \"run_properties\": \"<azureml.automl.runtime.shared.model_wrappers.StandardScalerWrapper object at 0x7f4226264080\", \"primary_metric\": 0.42181186, \"best_metric\": 0.73422638}, {\"run_id\": \"AutoML_6f14afc4-d33a-4594-9212-98828cadb594_1\", \"run_number\": 11, \"metric\": null, \"status\": \"Canceled\", \"run_type\": \"azureml.scriptrun\", \"training_percent\": \"100\", \"start_time\": \"2021-04-18T11:42:02.475428Z\", \"end_time\": \"2021-04-18T11:52:05.713335Z\", \"created_time\": \"2021-04-18T11:36:24.726175Z\", \"created_time_dt\": \"2021-04-18T11:36:24.726175Z\", \"duration\": \"0:15:40\", \"iteration\": \"1\", \"goal\": null, \"run_name\": \"MaxAbsScaler, RandomForest\", \"run_properties\": null}, {\"run_id\": \"AutoML_6f14afc4-d33a-4594-9212-98828cadb594_6\", \"run_number\": 12, \"metric\": null, \"status\": \"Canceled\", \"run_type\": \"azureml.scriptrun\", \"training_percent\": \"100\", \"start_time\": \"2021-04-18T11:47:57.110593Z\", \"end_time\": \"2021-04-18T11:52:05.299761Z\", \"created_time\": \"2021-04-18T11:36:24.762764Z\", \"created_time_dt\": \"2021-04-18T11:36:24.762764Z\", \"duration\": \"0:15:40\", \"iteration\": \"6\", \"goal\": null, \"run_name\": \"MinMaxScaler, ExtremeRandomTrees\", \"run_properties\": null}, {\"run_id\": \"AutoML_6f14afc4-d33a-4594-9212-98828cadb594_10\", \"run_number\": 13, \"metric\": null, \"status\": \"Completed\", \"run_type\": \"azureml.scriptrun\", \"training_percent\": \"100\", \"start_time\": \"2021-04-18T11:48:41.660168Z\", \"end_time\": \"2021-04-18T11:51:59.241802Z\", \"created_time\": \"2021-04-18T11:38:14.167669Z\", \"created_time_dt\": \"2021-04-18T11:38:14.167669Z\", \"duration\": \"0:13:45\", \"iteration\": \"10\", \"goal\": \"r2_score_max\", \"run_name\": \"StandardScalerWrapper, XGBoostRegressor\", \"run_properties\": \"<azureml.automl.runtime.shared.model_wrappers.StandardScalerWrapper object at 0x7f21ef70fef0\", \"primary_metric\": 0.60214223, \"best_metric\": 0.73422638}, {\"run_id\": \"AutoML_6f14afc4-d33a-4594-9212-98828cadb594_11\", \"run_number\": 14, \"metric\": null, \"status\": \"Completed\", \"run_type\": \"azureml.scriptrun\", \"training_percent\": \"100\", \"start_time\": \"2021-04-18T11:50:59.306729Z\", \"end_time\": \"2021-04-18T11:51:58.612535Z\", \"created_time\": \"2021-04-18T11:40:53.289945Z\", \"created_time_dt\": \"2021-04-18T11:40:53.289945Z\", \"duration\": \"0:11:05\", \"iteration\": \"11\", \"goal\": \"r2_score_max\", \"run_name\": \"RobustScaler, LassoLars\", \"run_properties\": \"copy=True, quantile_range=[10, 90], with_centering=False,\\n             with_scaling=True\", \"primary_metric\": 0.42486297, \"best_metric\": 0.73422638}, {\"run_id\": \"AutoML_6f14afc4-d33a-4594-9212-98828cadb594_12\", \"run_number\": 15, \"metric\": null, \"status\": \"Canceled\", \"run_type\": \"azureml.scriptrun\", \"training_percent\": \"100\", \"start_time\": \"2021-04-18T11:41:49.156269Z\", \"end_time\": \"2021-04-18T11:52:05.329731Z\", \"created_time\": \"2021-04-18T11:41:49.156269Z\", \"created_time_dt\": \"2021-04-18T11:41:49.156269Z\", \"duration\": \"0:10:16\", \"iteration\": \"12\", \"goal\": null, \"run_name\": \"Canceled\", \"run_properties\": null}, {\"run_id\": \"AutoML_6f14afc4-d33a-4594-9212-98828cadb594_13\", \"run_number\": 16, \"metric\": null, \"status\": \"Canceled\", \"run_type\": \"azureml.scriptrun\", \"training_percent\": \"100\", \"start_time\": \"2021-04-18T11:47:44.584748Z\", \"end_time\": \"2021-04-18T11:52:05.659626Z\", \"created_time\": \"2021-04-18T11:47:44.584748Z\", \"created_time_dt\": \"2021-04-18T11:47:44.584748Z\", \"duration\": \"0:04:21\", \"iteration\": \"13\", \"goal\": null, \"run_name\": \"Canceled\", \"run_properties\": null}, {\"run_id\": \"AutoML_6f14afc4-d33a-4594-9212-98828cadb594_14\", \"run_number\": 17, \"metric\": null, \"status\": \"Canceled\", \"run_type\": \"azureml.scriptrun\", \"training_percent\": \"100\", \"start_time\": \"2021-04-18T11:48:33.001024Z\", \"end_time\": \"2021-04-18T11:52:05.901503Z\", \"created_time\": \"2021-04-18T11:48:33.001024Z\", \"created_time_dt\": \"2021-04-18T11:48:33.001024Z\", \"duration\": \"0:03:32\", \"iteration\": \"14\", \"goal\": null, \"run_name\": \"Canceled\", \"run_properties\": null}, {\"run_id\": \"AutoML_6f14afc4-d33a-4594-9212-98828cadb594_15\", \"run_number\": 18, \"metric\": null, \"status\": \"Canceled\", \"run_type\": \"azureml.scriptrun\", \"training_percent\": \"100\", \"start_time\": \"2021-04-18T11:50:48.529467Z\", \"end_time\": \"2021-04-18T11:52:05.943914Z\", \"created_time\": \"2021-04-18T11:50:48.529467Z\", \"created_time_dt\": \"2021-04-18T11:50:48.529467Z\", \"duration\": \"0:01:17\", \"iteration\": \"15\", \"goal\": null, \"run_name\": \"Canceled\", \"run_properties\": null}, {\"run_id\": \"AutoML_6f14afc4-d33a-4594-9212-98828cadb594_16\", \"run_number\": 19, \"metric\": null, \"status\": \"Completed\", \"run_type\": \"azureml.scriptrun\", \"training_percent\": \"100\", \"start_time\": \"2021-04-18T11:52:17.496882Z\", \"end_time\": \"2021-04-18T11:53:17.253387Z\", \"created_time\": \"2021-04-18T11:52:07.38572Z\", \"created_time_dt\": \"2021-04-18T11:52:07.38572Z\", \"duration\": \"0:01:09\", \"iteration\": \"16\", \"goal\": \"r2_score_max\", \"run_name\": \"VotingEnsemble\", \"run_properties\": \"estimators=[('0',\\n                                          Pipeline(memory=None,\\n                                                   steps=[('sparsenormalizer',\\n                                                           <azureml.automl.runtime.shared.model_wrappers.SparseNormalizer object at 0x7f61f5faff98>\", \"primary_metric\": 0.74838722, \"best_metric\": 0.74838722}], \"children_metrics\": {\"categories\": [0], \"series\": {\"normalized_median_absolute_error\": [{\"categories\": [\"0\", \"2\", \"3\", \"5\", \"7\", \"9\", \"10\", \"11\", \"16\"], \"mode\": \"markers\", \"name\": \"normalized_median_absolute_error\", \"stepped\": false, \"type\": \"scatter\", \"data\": [0.050792600945482935, 0.11697633853059808, 0.0945658654150855, 0.06214412244654552, 0.09463063291473528, 0.06596667988525955, 0.08069681929565858, 0.09460331216650832, 0.04928506963600239]}, {\"categories\": [\"0\", \"2\", \"3\", \"5\", \"7\", \"9\", \"10\", \"11\", \"16\"], \"mode\": \"lines\", \"name\": \"normalized_median_absolute_error_min\", \"stepped\": true, \"type\": \"scatter\", \"data\": [0.050792600945482935, 0.050792600945482935, 0.050792600945482935, 0.050792600945482935, 0.050792600945482935, 0.050792600945482935, 0.050792600945482935, 0.050792600945482935, 0.04928506963600239]}], \"root_mean_squared_error\": [{\"categories\": [\"0\", \"2\", \"3\", \"5\", \"7\", \"9\", \"10\", \"11\", \"16\"], \"mode\": \"markers\", \"name\": \"root_mean_squared_error\", \"stepped\": false, \"type\": \"scatter\", \"data\": [45368.395677386616, 72957.11428489538, 66829.00711406328, 57099.89443051681, 66916.32376181218, 64378.62136997069, 55508.745002082345, 66739.53130102514, 44143.20242972269]}, {\"categories\": [\"0\", \"2\", \"3\", \"5\", \"7\", \"9\", \"10\", \"11\", \"16\"], \"mode\": \"lines\", \"name\": \"root_mean_squared_error_min\", \"stepped\": true, \"type\": \"scatter\", \"data\": [45368.395677386616, 45368.395677386616, 45368.395677386616, 45368.395677386616, 45368.395677386616, 45368.395677386616, 45368.395677386616, 45368.395677386616, 44143.20242972269]}], \"explained_variance\": [{\"categories\": [\"0\", \"2\", \"3\", \"5\", \"7\", \"9\", \"10\", \"11\", \"16\"], \"mode\": \"markers\", \"name\": \"explained_variance\", \"stepped\": false, \"type\": \"scatter\", \"data\": [0.7347089124782276, 0.377611747087782, 0.43988948912841974, 0.6155288394444033, 0.43797703578867986, 0.4726728684423108, 0.6490267989731359, 0.44100606272076814, 0.7484217177972766]}, {\"categories\": [\"0\", \"2\", \"3\", \"5\", \"7\", \"9\", \"10\", \"11\", \"16\"], \"mode\": \"lines\", \"name\": \"explained_variance_max\", \"stepped\": true, \"type\": \"scatter\", \"data\": [0.7347089124782276, 0.7347089124782276, 0.7347089124782276, 0.7347089124782276, 0.7347089124782276, 0.7347089124782276, 0.7347089124782276, 0.7347089124782276, 0.7484217177972766]}], \"normalized_root_mean_squared_error\": [{\"categories\": [\"0\", \"2\", \"3\", \"5\", \"7\", \"9\", \"10\", \"11\", \"16\"], \"mode\": \"markers\", \"name\": \"normalized_root_mean_squared_error\", \"stepped\": false, \"type\": \"scatter\", \"data\": [0.09838312806823658, 0.15821033587391112, 0.14492129746728385, 0.1238233387485727, 0.14511064700917764, 0.13960754081183738, 0.12037286941510679, 0.14472726569160155, 0.09572624892597191]}, {\"categories\": [\"0\", \"2\", \"3\", \"5\", \"7\", \"9\", \"10\", \"11\", \"16\"], \"mode\": \"lines\", \"name\": \"normalized_root_mean_squared_error_min\", \"stepped\": true, \"type\": \"scatter\", \"data\": [0.09838312806823658, 0.09838312806823658, 0.09838312806823658, 0.09838312806823658, 0.09838312806823658, 0.09838312806823658, 0.09838312806823658, 0.09838312806823658, 0.09572624892597191]}], \"normalized_mean_absolute_error\": [{\"categories\": [\"0\", \"2\", \"3\", \"5\", \"7\", \"9\", \"10\", \"11\", \"16\"], \"mode\": \"markers\", \"name\": \"normalized_mean_absolute_error\", \"stepped\": false, \"type\": \"scatter\", \"data\": [0.06880340885452438, 0.12595489510510585, 0.11409697827575545, 0.08699820940945101, 0.11423939842075762, 0.10080489011621563, 0.09561870481989566, 0.11400404925077949, 0.06671916098538584]}, {\"categories\": [\"0\", \"2\", \"3\", \"5\", \"7\", \"9\", \"10\", \"11\", \"16\"], \"mode\": \"lines\", \"name\": \"normalized_mean_absolute_error_min\", \"stepped\": true, \"type\": \"scatter\", \"data\": [0.06880340885452438, 0.06880340885452438, 0.06880340885452438, 0.06880340885452438, 0.06880340885452438, 0.06880340885452438, 0.06880340885452438, 0.06880340885452438, 0.06671916098538584]}], \"r2_score\": [{\"categories\": [\"0\", \"2\", \"3\", \"5\", \"7\", \"9\", \"10\", \"11\", \"16\"], \"mode\": \"markers\", \"name\": \"r2_score\", \"stepped\": false, \"type\": \"scatter\", \"data\": [0.7342263790818631, 0.31270952543251584, 0.423319791246364, 0.5790062581930673, 0.42181186287363936, 0.46483417278791805, 0.6021422279416939, 0.42486296510036015, 0.7483872164447452]}, {\"categories\": [\"0\", \"2\", \"3\", \"5\", \"7\", \"9\", \"10\", \"11\", \"16\"], \"mode\": \"lines\", \"name\": \"r2_score_max\", \"stepped\": true, \"type\": \"scatter\", \"data\": [0.7342263790818631, 0.7342263790818631, 0.7342263790818631, 0.7342263790818631, 0.7342263790818631, 0.7342263790818631, 0.7342263790818631, 0.7342263790818631, 0.7483872164447452]}], \"root_mean_squared_log_error\": [{\"categories\": [\"0\", \"2\", \"3\", \"5\", \"7\", \"9\", \"10\", \"11\", \"16\"], \"mode\": \"markers\", \"name\": \"root_mean_squared_log_error\", \"stepped\": false, \"type\": \"scatter\", \"data\": [0.18567662830496734, 0.29726565723140613, 0.27381690021898114, 0.21789835493112125, 0.2741774679415191, 0.2655312216329345, 0.20905380423496941, 0.2733474135735879, 0.17238193338914523]}, {\"categories\": [\"0\", \"2\", \"3\", \"5\", \"7\", \"9\", \"10\", \"11\", \"16\"], \"mode\": \"lines\", \"name\": \"root_mean_squared_log_error_min\", \"stepped\": true, \"type\": \"scatter\", \"data\": [0.18567662830496734, 0.18567662830496734, 0.18567662830496734, 0.18567662830496734, 0.18567662830496734, 0.18567662830496734, 0.18567662830496734, 0.18567662830496734, 0.17238193338914523]}], \"mean_absolute_error\": [{\"categories\": [\"0\", \"2\", \"3\", \"5\", \"7\", \"9\", \"10\", \"11\", \"16\"], \"mode\": \"markers\", \"name\": \"mean_absolute_error\", \"stepped\": false, \"type\": \"scatter\", \"data\": [31728.00395917537, 58082.840328768514, 52614.68056208187, 40118.35428707424, 52680.35618774817, 46485.167028191674, 44093.609540646685, 52571.82727150445, 30766.873896800826]}, {\"categories\": [\"0\", \"2\", \"3\", \"5\", \"7\", \"9\", \"10\", \"11\", \"16\"], \"mode\": \"lines\", \"name\": \"mean_absolute_error_min\", \"stepped\": true, \"type\": \"scatter\", \"data\": [31728.00395917537, 31728.00395917537, 31728.00395917537, 31728.00395917537, 31728.00395917537, 31728.00395917537, 31728.00395917537, 31728.00395917537, 30766.873896800826]}], \"mean_absolute_percentage_error\": [{\"categories\": [\"0\", \"2\", \"3\", \"5\", \"7\", \"9\", \"10\", \"11\", \"16\"], \"mode\": \"markers\", \"name\": \"mean_absolute_percentage_error\", \"stepped\": false, \"type\": \"scatter\", \"data\": [12.653664578433123, 23.175467502086768, 22.60558182163388, 15.107294144631226, 22.638986658533657, 20.62152846455144, 16.294419332210687, 22.567476841821662, 12.040295251698767]}, {\"categories\": [\"0\", \"2\", \"3\", \"5\", \"7\", \"9\", \"10\", \"11\", \"16\"], \"mode\": \"lines\", \"name\": \"mean_absolute_percentage_error_min\", \"stepped\": true, \"type\": \"scatter\", \"data\": [12.653664578433123, 12.653664578433123, 12.653664578433123, 12.653664578433123, 12.653664578433123, 12.653664578433123, 12.653664578433123, 12.653664578433123, 12.040295251698767]}], \"median_absolute_error\": [{\"categories\": [\"0\", \"2\", \"3\", \"5\", \"7\", \"9\", \"10\", \"11\", \"16\"], \"mode\": \"markers\", \"name\": \"median_absolute_error\", \"stepped\": false, \"type\": \"scatter\", \"data\": [23422.5, 53942.46875, 43608.10317751253, 28657.140625, 43637.97006230103, 30419.874762288586, 37212.53125, 43625.37137246365, 22727.317011946143]}, {\"categories\": [\"0\", \"2\", \"3\", \"5\", \"7\", \"9\", \"10\", \"11\", \"16\"], \"mode\": \"lines\", \"name\": \"median_absolute_error_min\", \"stepped\": true, \"type\": \"scatter\", \"data\": [23422.5, 23422.5, 23422.5, 23422.5, 23422.5, 23422.5, 23422.5, 23422.5, 22727.317011946143]}], \"spearman_correlation\": [{\"categories\": [\"0\", \"2\", \"3\", \"5\", \"7\", \"9\", \"10\", \"11\", \"16\"], \"mode\": \"markers\", \"name\": \"spearman_correlation\", \"stepped\": false, \"type\": \"scatter\", \"data\": [0.8568745186007521, 0.7221170258233125, 0.7001121343499993, 0.8074850327156102, 0.7002458074180975, 0.7217439477853086, 0.8127513364532223, 0.7013733344301409, 0.8610806824171713]}, {\"categories\": [\"0\", \"2\", \"3\", \"5\", \"7\", \"9\", \"10\", \"11\", \"16\"], \"mode\": \"lines\", \"name\": \"spearman_correlation_max\", \"stepped\": true, \"type\": \"scatter\", \"data\": [0.8568745186007521, 0.8568745186007521, 0.8568745186007521, 0.8568745186007521, 0.8568745186007521, 0.8568745186007521, 0.8568745186007521, 0.8568745186007521, 0.8610806824171713]}], \"normalized_root_mean_squared_log_error\": [{\"categories\": [\"0\", \"2\", \"3\", \"5\", \"7\", \"9\", \"10\", \"11\", \"16\"], \"mode\": \"markers\", \"name\": \"normalized_root_mean_squared_log_error\", \"stepped\": false, \"type\": \"scatter\", \"data\": [0.0574563448038831, 0.09198679584049549, 0.08473074062004253, 0.06742713462331043, 0.08484231580093855, 0.08216679484980738, 0.06469024975485588, 0.08458546123391415, 0.053342393672180695]}, {\"categories\": [\"0\", \"2\", \"3\", \"5\", \"7\", \"9\", \"10\", \"11\", \"16\"], \"mode\": \"lines\", \"name\": \"normalized_root_mean_squared_log_error_min\", \"stepped\": true, \"type\": \"scatter\", \"data\": [0.0574563448038831, 0.0574563448038831, 0.0574563448038831, 0.0574563448038831, 0.0574563448038831, 0.0574563448038831, 0.0574563448038831, 0.0574563448038831, 0.053342393672180695]}]}, \"metricName\": null, \"primaryMetricName\": \"r2_score\", \"showLegend\": false}, \"run_metrics\": [{\"name\": \"experiment_status\", \"run_id\": \"AutoML_6f14afc4-d33a-4594-9212-98828cadb594\", \"categories\": [0, 1, 2, 3, 4, 5, 6, 7, 8, 9, 10], \"series\": [{\"data\": [\"DatasetFeaturization\", \"DatasetFeaturizationCompleted\", \"ModelSelection\", \"BestRunExplainModel\", \"ModelExplanationDataSetSetup\", \"PickSurrogateModel\", \"EngineeredFeatureExplanations\", \"EngineeredFeatureExplanations\", \"RawFeaturesExplanations\", \"RawFeaturesExplanations\", \"BestRunExplainModel\"]}]}, {\"name\": \"experiment_status_description\", \"run_id\": \"AutoML_6f14afc4-d33a-4594-9212-98828cadb594\", \"categories\": [0, 1, 2, 3, 4, 5, 6, 7, 8, 9, 10], \"series\": [{\"data\": [\"Beginning to featurize the dataset.\", \"Completed featurizing the dataset.\", \"Beginning model selection.\", \"Best run model explanations started\", \"Model explanations data setup completed\", \"Choosing LightGBM as the surrogate model for explanations\", \"Computation of engineered features started\", \"Computation of engineered features completed\", \"Computation of raw features started\", \"Computation of raw features completed\", \"Best run model explanations completed\"]}]}, {\"name\": \"mean_absolute_percentage_error\", \"run_id\": \"AutoML_6f14afc4-d33a-4594-9212-98828cadb594\", \"categories\": [0], \"series\": [{\"data\": [12.040295251698767]}]}, {\"name\": \"root_mean_squared_error\", \"run_id\": \"AutoML_6f14afc4-d33a-4594-9212-98828cadb594\", \"categories\": [0], \"series\": [{\"data\": [44143.20242972269]}]}, {\"name\": \"normalized_root_mean_squared_error\", \"run_id\": \"AutoML_6f14afc4-d33a-4594-9212-98828cadb594\", \"categories\": [0], \"series\": [{\"data\": [0.09572624892597191]}]}, {\"name\": \"normalized_mean_absolute_error\", \"run_id\": \"AutoML_6f14afc4-d33a-4594-9212-98828cadb594\", \"categories\": [0], \"series\": [{\"data\": [0.06671916098538584]}]}, {\"name\": \"r2_score\", \"run_id\": \"AutoML_6f14afc4-d33a-4594-9212-98828cadb594\", \"categories\": [0], \"series\": [{\"data\": [0.7483872164447452]}]}, {\"name\": \"root_mean_squared_log_error\", \"run_id\": \"AutoML_6f14afc4-d33a-4594-9212-98828cadb594\", \"categories\": [0], \"series\": [{\"data\": [0.17238193338914523]}]}, {\"name\": \"explained_variance\", \"run_id\": \"AutoML_6f14afc4-d33a-4594-9212-98828cadb594\", \"categories\": [0], \"series\": [{\"data\": [0.7484217177972766]}]}, {\"name\": \"mean_absolute_error\", \"run_id\": \"AutoML_6f14afc4-d33a-4594-9212-98828cadb594\", \"categories\": [0], \"series\": [{\"data\": [30766.873896800826]}]}, {\"name\": \"normalized_median_absolute_error\", \"run_id\": \"AutoML_6f14afc4-d33a-4594-9212-98828cadb594\", \"categories\": [0], \"series\": [{\"data\": [0.04928506963600239]}]}, {\"name\": \"normalized_root_mean_squared_log_error\", \"run_id\": \"AutoML_6f14afc4-d33a-4594-9212-98828cadb594\", \"categories\": [0], \"series\": [{\"data\": [0.053342393672180695]}]}, {\"name\": \"median_absolute_error\", \"run_id\": \"AutoML_6f14afc4-d33a-4594-9212-98828cadb594\", \"categories\": [0], \"series\": [{\"data\": [22727.317011946143]}]}, {\"name\": \"spearman_correlation\", \"run_id\": \"AutoML_6f14afc4-d33a-4594-9212-98828cadb594\", \"categories\": [0], \"series\": [{\"data\": [0.8610806824171713]}]}], \"run_logs\": \"\\nRun is completed.\", \"graph\": {}, \"widget_settings\": {\"childWidgetDisplay\": \"popup\", \"send_telemetry\": false, \"log_level\": \"INFO\", \"sdk_version\": \"1.19.0\"}, \"loading\": false}"
     },
     "metadata": {}
    }
   ],
   "source": [
    "RunDetails(remote_run).show()"
   ]
  },
  {
   "cell_type": "markdown",
   "metadata": {},
   "source": [
    "## Displaying the best model"
   ]
  },
  {
   "source": [
    "The best model generated by AutoML is a SoftVottingRegressor, which is an ensemble of 4 models: 3 `XGBoostRegressor`s, and 1 `LassoLars`. It managed to achieve a R2 score of 0.75, which was inferior to what achieved by the HyperDrive run. \n",
    "\n",
    "I believe the main cause was that it couldn't make sense of the `SUNRISE` and `SUNSET` columns in the dataset, therefore they weren't utilised (or not utilised correctly.)"
   ],
   "cell_type": "markdown",
   "metadata": {}
  },
  {
   "cell_type": "code",
   "execution_count": 10,
   "metadata": {
    "gather": {
     "logged": 1598431425670
    },
    "jupyter": {
     "outputs_hidden": false,
     "source_hidden": false
    },
    "nteract": {
     "transient": {
      "deleting": false
     }
    }
   },
   "outputs": [
    {
     "output_type": "stream",
     "name": "stderr",
     "text": [
      "WARNING:root:The version of the SDK does not match the version the model was trained on.\n",
      "WARNING:root:The consistency in the result may not be guaranteed.\n",
      "WARNING:root:Package:azureml-automl-core, training version:1.25.0, current version:1.19.0\n",
      "Package:azureml-automl-runtime, training version:1.25.0, current version:1.19.0\n",
      "Package:azureml-core, training version:1.25.0, current version:1.19.0\n",
      "Package:azureml-dataprep, training version:2.11.2, current version:2.6.3\n",
      "Package:azureml-dataprep-native, training version:30.0.0, current version:26.0.0\n",
      "Package:azureml-dataprep-rslex, training version:1.9.1, current version:1.4.0\n",
      "Package:azureml-dataset-runtime, training version:1.25.0, current version:1.19.0.post1\n",
      "Package:azureml-defaults, training version:1.25.0, current version:1.19.0\n",
      "Package:azureml-interpret, training version:1.25.0, current version:1.19.0\n",
      "Package:azureml-telemetry, training version:1.25.0, current version:1.19.0\n",
      "Package:azureml-train-automl-client, training version:1.25.0, current version:1.19.0\n",
      "Package:azureml-train-automl-runtime, training version:1.25.0, current version:1.19.0\n",
      "WARNING:root:Below packages were used for model training but missing in current environment:\n",
      "WARNING:root:Package:azureml-mlflow, training version:1.25.0\n",
      "Package:azureml-pipeline-core, training version:1.25.0\n",
      "WARNING:root:Please ensure the version of your local conda dependencies match the version on which your model was trained in order to properly retrieve your model.\n"
     ]
    }
   ],
   "source": [
    "# Retrieve and save the best automl model.\n",
    "aml_best_run, aml_model = remote_run.get_output()\n",
    "\n",
    "aml_best_run.download_file('outputs/model.pkl', 'outputs/aml_model.pkl')"
   ]
  },
  {
   "cell_type": "code",
   "execution_count": 11,
   "metadata": {},
   "outputs": [
    {
     "output_type": "execute_result",
     "data": {
      "text/plain": [
       "{'normalized_root_mean_squared_log_error': 0.053342393672180695,\n",
       " 'spearman_correlation': 0.8610806824171713,\n",
       " 'mean_absolute_error': 30766.873896800826,\n",
       " 'median_absolute_error': 22727.317011946143,\n",
       " 'explained_variance': 0.7484217177972766,\n",
       " 'mean_absolute_percentage_error': 12.040295251698767,\n",
       " 'root_mean_squared_log_error': 0.17238193338914523,\n",
       " 'normalized_root_mean_squared_error': 0.09572624892597191,\n",
       " 'normalized_median_absolute_error': 0.04928506963600239,\n",
       " 'root_mean_squared_error': 44143.20242972269,\n",
       " 'r2_score': 0.7483872164447452,\n",
       " 'normalized_mean_absolute_error': 0.06671916098538584,\n",
       " 'residuals': 'aml://artifactId/ExperimentRun/dcid.AutoML_6f14afc4-d33a-4594-9212-98828cadb594_16/residuals',\n",
       " 'predicted_true': 'aml://artifactId/ExperimentRun/dcid.AutoML_6f14afc4-d33a-4594-9212-98828cadb594_16/predicted_true'}"
      ]
     },
     "metadata": {},
     "execution_count": 11
    }
   ],
   "source": [
    "# Show performance\n",
    "aml_best_run.get_metrics()"
   ]
  },
  {
   "cell_type": "code",
   "execution_count": 12,
   "metadata": {},
   "outputs": [
    {
     "output_type": "stream",
     "name": "stdout",
     "text": [
      "ForecastingPipelineWrapper(pipeline=Pipeline(memory=None,\n                                             steps=[('timeseriestransformer',\n                                                     TimeSeriesTransformer(featurization_config=None,\n                                                                           pipeline_type=<TimeSeriesPipelineType.FULL: 1>)),\n                                                    ('prefittedsoftvotingregressor',\n                                                     PreFittedSoftVotingRegressor(estimators=[('0',\n                                                                                               Pipeline(memory=None,\n                                                                                                        steps=[('sparsenormalizer',\n                                                                                                                <azureml.automl.runtime.shared.model_wr...\n                                                                                                                             with_centering=False,\n                                                                                                                             with_scaling=True)),\n                                                                                                               ('lassolars',\n                                                                                                                LassoLars(alpha=0.001,\n                                                                                                                          copy_X=True,\n                                                                                                                          eps=2.220446049250313e-16,\n                                                                                                                          fit_intercept=True,\n                                                                                                                          fit_path=True,\n                                                                                                                          max_iter=500,\n                                                                                                                          normalize=False,\n                                                                                                                          positive=False,\n                                                                                                                          precompute='auto',\n                                                                                                                          verbose=False))],\n                                                                                                        verbose=False))],\n                                                                                  weights=[0.7333333333333333,\n                                                                                           0.06666666666666667,\n                                                                                           0.06666666666666667,\n                                                                                           0.13333333333333333]))],\n                                             verbose=False),\n                           stddev=None)\n"
     ]
    }
   ],
   "source": [
    "print(aml_model)"
   ]
  },
  {
   "cell_type": "code",
   "execution_count": 13,
   "metadata": {},
   "outputs": [
    {
     "output_type": "execute_result",
     "data": {
      "text/plain": [
       "PreFittedSoftVotingRegressor(estimators=[('0',\n",
       "                                          Pipeline(memory=None,\n",
       "                                                   steps=[('sparsenormalizer',\n",
       "                                                           <azureml.automl.runtime.shared.model_wrappers.SparseNormalizer object at 0x000001B44A726A08>),\n",
       "                                                          ('xgboostregressor',\n",
       "                                                           XGBoostRegressor(base_score=0.5,\n",
       "                                                                            booster='gbtree',\n",
       "                                                                            colsample_bylevel=1,\n",
       "                                                                            colsample_bynode=1,\n",
       "                                                                            colsample_bytree=0.7,\n",
       "                                                                            eta=0.3,\n",
       "                                                                            gamma=0,\n",
       "                                                                            grow_policy='lossgui...\n",
       "                                                                        quantile_range=[10,\n",
       "                                                                                        90],\n",
       "                                                                        with_centering=False,\n",
       "                                                                        with_scaling=True)),\n",
       "                                                          ('lassolars',\n",
       "                                                           LassoLars(alpha=0.001,\n",
       "                                                                     copy_X=True,\n",
       "                                                                     eps=2.220446049250313e-16,\n",
       "                                                                     fit_intercept=True,\n",
       "                                                                     fit_path=True,\n",
       "                                                                     max_iter=500,\n",
       "                                                                     normalize=False,\n",
       "                                                                     positive=False,\n",
       "                                                                     precompute='auto',\n",
       "                                                                     verbose=False))],\n",
       "                                                   verbose=False))],\n",
       "                             weights=[0.7333333333333333, 0.06666666666666667,\n",
       "                                      0.06666666666666667,\n",
       "                                      0.13333333333333333])"
      ]
     },
     "metadata": {},
     "execution_count": 13
    }
   ],
   "source": [
    "aml_model.steps[1][1]"
   ]
  },
  {
   "cell_type": "code",
   "execution_count": 14,
   "metadata": {},
   "outputs": [
    {
     "output_type": "execute_result",
     "data": {
      "text/plain": [
       "{'_aml_system_azureml.automlComponent': 'AutoML',\n",
       " '_aml_system_ComputeTargetStatus': '{\"AllocationState\":\"steady\",\"PreparingNodeCount\":0,\"RunningNodeCount\":6,\"CurrentNodeCount\":6}',\n",
       " 'mlflow.source.type': 'JOB',\n",
       " 'mlflow.source.name': 'automl_driver.py',\n",
       " 'ensembled_iterations': '[0, 10, 5, 11]',\n",
       " 'ensembled_algorithms': \"['XGBoostRegressor', 'XGBoostRegressor', 'XGBoostRegressor', 'LassoLars']\",\n",
       " 'ensemble_weights': '[0.7333333333333333, 0.06666666666666667, 0.06666666666666667, 0.13333333333333333]',\n",
       " 'best_individual_pipeline_score': '0.7342263790818631',\n",
       " 'best_individual_iteration': '0',\n",
       " '_aml_system_automl_is_child_run_end_telemetry_event_logged': 'True'}"
      ]
     },
     "metadata": {},
     "execution_count": 14
    }
   ],
   "source": [
    "aml_best_run.get_tags()"
   ]
  }
 ],
 "metadata": {
  "kernel_info": {
   "name": "python3-azureml"
  },
  "kernelspec": {
   "name": "python376jvsc74a57bd00261b08040434fb797aad1ed3b3deedaa991c53046d50ad4fc20bcbc69441622",
   "display_name": "Python 3.7.6 64-bit ('.venv')"
  },
  "language_info": {
   "codemirror_mode": {
    "name": "ipython",
    "version": 3
   },
   "file_extension": ".py",
   "mimetype": "text/x-python",
   "name": "python",
   "nbconvert_exporter": "python",
   "pygments_lexer": "ipython3",
   "version": "3.7.6-final"
  },
  "nteract": {
   "version": "nteract-front-end@1.0.0"
  }
 },
 "nbformat": 4,
 "nbformat_minor": 2
}