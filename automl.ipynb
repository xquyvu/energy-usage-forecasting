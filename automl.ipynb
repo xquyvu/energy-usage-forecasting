{
 "cells": [
  {
   "cell_type": "markdown",
   "metadata": {},
   "source": [
    "# Automated ML"
   ]
  },
  {
   "cell_type": "code",
   "execution_count": 1,
   "metadata": {
    "gather": {
     "logged": 1598423888013
    },
    "jupyter": {
     "outputs_hidden": false,
     "source_hidden": false
    },
    "nteract": {
     "transient": {
      "deleting": false
     }
    }
   },
   "outputs": [],
   "source": [
    "from azureml.core.experiment import Experiment\n",
    "from azureml.core.workspace import Workspace\n",
    "from azureml.train.automl import AutoMLConfig\n",
    "from azureml.core.dataset import Dataset\n",
    "from azureml.core.compute import AmlCompute, ComputeTarget\n",
    "from azureml.core.compute_target import ComputeTargetException\n",
    "from azureml.widgets import RunDetails\n",
    "from azureml.automl.core.forecasting_parameters import ForecastingParameters"
   ]
  },
  {
   "cell_type": "markdown",
   "metadata": {},
   "source": [
    "## Dataset"
   ]
  },
  {
   "cell_type": "code",
   "execution_count": 2,
   "metadata": {
    "gather": {
     "logged": 1598423890461
    },
    "jupyter": {
     "outputs_hidden": false,
     "source_hidden": false
    },
    "nteract": {
     "transient": {
      "deleting": false
     }
    }
   },
   "outputs": [
    {
     "output_type": "execute_result",
     "data": {
      "text/plain": [
       "Experiment(Name: automl-energyforecast,\n",
       "Workspace: quick-starts-ws-143075)"
      ],
      "text/html": "<table style=\"width:100%\"><tr><th>Name</th><th>Workspace</th><th>Report Page</th><th>Docs Page</th></tr><tr><td>automl-energyforecast</td><td>quick-starts-ws-143075</td><td><a href=\"https://ml.azure.com/experiments/automl-energyforecast?wsid=/subscriptions/cdbe0b43-92a0-4715-838a-f2648cc7ad21/resourcegroups/aml-quickstarts-143075/workspaces/quick-starts-ws-143075\" target=\"_blank\" rel=\"noopener\">Link to Azure Machine Learning studio</a></td><td><a href=\"https://docs.microsoft.com/en-us/python/api/azureml-core/azureml.core.experiment.Experiment?view=azure-ml-py\" target=\"_blank\" rel=\"noopener\">Link to Documentation</a></td></tr></table>"
     },
     "metadata": {},
     "execution_count": 2
    }
   ],
   "source": [
    "# Get workspace\n",
    "ws = Workspace.from_config()\n",
    "\n",
    "# Create experiment\n",
    "experiment = Experiment(ws, 'automl-energyforecast')\n",
    "experiment"
   ]
  },
  {
   "cell_type": "code",
   "execution_count": 3,
   "metadata": {},
   "outputs": [
    {
     "output_type": "stream",
     "name": "stdout",
     "text": [
      "energy-forecast-data-validation\nenergy-forecast-data-training\n"
     ]
    }
   ],
   "source": [
    "# Verify that the dataset is imported successfully\n",
    "for x in ws.datasets.keys():\n",
    "    print(x)"
   ]
  },
  {
   "cell_type": "code",
   "execution_count": 4,
   "metadata": {},
   "outputs": [],
   "source": [
    "# Get data\n",
    "data_valid = ws.datasets['energy-forecast-data-validation']\n",
    "data_train = ws.datasets['energy-forecast-data-training']"
   ]
  },
  {
   "cell_type": "markdown",
   "metadata": {},
   "source": [
    "## AutoML Configuration"
   ]
  },
  {
   "cell_type": "code",
   "execution_count": 5,
   "metadata": {},
   "outputs": [
    {
     "output_type": "stream",
     "name": "stdout",
     "text": [
      "Creating\n",
      "Succeeded\n",
      "AmlCompute wait for completion finished\n",
      "\n",
      "Minimum number of nodes requested have been provisioned\n"
     ]
    }
   ],
   "source": [
    "# Create compute cluster\n",
    "amlcompute_cluster_name = 'aml-compute'\n",
    "\n",
    "try:\n",
    "    compute_target = ComputeTarget(\n",
    "        workspace=ws,\n",
    "        name=amlcompute_cluster_name\n",
    "    )\n",
    "    print('Existing cluster found and is now selected')\n",
    "except ComputeTargetException:\n",
    "    compute_config = AmlCompute.provisioning_configuration(\n",
    "        vm_size='STANDARD_DS12_V2',\n",
    "        max_nodes=6\n",
    "    )\n",
    "    compute_target = ComputeTarget.create(\n",
    "        ws,\n",
    "        amlcompute_cluster_name,\n",
    "        compute_config\n",
    "    )\n",
    "    compute_target.wait_for_completion(show_output=True)"
   ]
  },
  {
   "source": [
    "Explanation of the configuration:\n",
    "- `task='forecasting'`: This is because we're interested in predicting future electricity load, instead of simply inferencing electricity load based on the available variables like humidity, temperature.\n",
    "- `enable_early_stopping=True`: This is to reduce the likelihood of overfitting.\n",
    "- `featurization='auto'`: This is the main strength of AutoML. We'll let it carry out feature engineering automatically\n",
    "- `experiment_timeout_minutes=15`: Mainly because I was pressed on time hence can't afford for the experiment to run too long. This is added on top of the preparation steps which already took ~45 minutes, increasing the experiment run time to ~1hr.\n",
    "- `primary_metric='r2_score'`: While `RMSE` would do just fine as a primary metric, R2 score is just easier to analyse by seeing how close it is to 1.\n",
    "- `forecast_horizon=48, target_lags=48`: We're interested in predicting the load for the next day.\n"
   ],
   "cell_type": "markdown",
   "metadata": {}
  },
  {
   "cell_type": "code",
   "execution_count": 6,
   "metadata": {
    "gather": {
     "logged": 1598429217746
    },
    "jupyter": {
     "outputs_hidden": false,
     "source_hidden": false
    },
    "nteract": {
     "transient": {
      "deleting": false
     }
    }
   },
   "outputs": [],
   "source": [
    "# Specify settings for AutoML runs\n",
    "automl_config = AutoMLConfig(\n",
    "    compute_target=compute_target,\n",
    "    task='forecasting',\n",
    "    training_data=data_train,\n",
    "    validation_data=data_valid,\n",
    "    label_column_name='TOTAL Load',\n",
    "    time_column_name='DATE',\n",
    "    # path=project_folder,\n",
    "    enable_early_stopping=True,\n",
    "    featurization='auto',\n",
    "    debug_log = 'automl_errors.log',\n",
    "    experiment_timeout_minutes=15,\n",
    "    max_concurrent_iterations=10,\n",
    "    primary_metric='r2_score',\n",
    "    forecast_horizon=48,\n",
    "    target_lags=48\n",
    ")"
   ]
  },
  {
   "cell_type": "code",
   "execution_count": 7,
   "metadata": {
    "gather": {
     "logged": 1598431107951
    },
    "jupyter": {
     "outputs_hidden": false,
     "source_hidden": false
    },
    "nteract": {
     "transient": {
      "deleting": false
     }
    }
   },
   "outputs": [
    {
     "output_type": "stream",
     "name": "stdout",
     "text": [
      "Running on remote.\n",
      "No run_configuration provided, running on aml-compute with default configuration\n",
      "Running on remote compute: aml-compute\n",
      "Parent Run ID: AutoML_860b8b2a-c6bc-4a92-a016-a5cf99c17075\n",
      "\n",
      "WARNING:urllib3.connectionpool:Retrying (Retry(total=2, connect=3, read=2, redirect=None, status=None)) after connection broken by 'ProtocolError('Connection aborted.', ConnectionResetError(10054, 'An existing connection was forcibly closed by the remote host', None, 10054, None))': /history/v1.0/subscriptions/cdbe0b43-92a0-4715-838a-f2648cc7ad21/resourceGroups/aml-quickstarts-143075/providers/Microsoft.MachineLearningServices/workspaces/quick-starts-ws-143075/experimentids/9acddb54-6f7a-4d52-bfed-6a57446131da/runs/AutoML_860b8b2a-c6bc-4a92-a016-a5cf99c17075\n",
      "Current status: DatasetFeaturization. Beginning to featurize the dataset.\n",
      "Current status: DatasetFeaturizationCompleted. Completed featurizing the dataset.\n",
      "Current status: ModelSelection. Beginning model selection.\n",
      "\n",
      "****************************************************************************************************\n",
      "DATA GUARDRAILS: \n",
      "\n",
      "TYPE:         Missing feature values imputation\n",
      "STATUS:       DONE\n",
      "DESCRIPTION:  If the missing values are expected, let the run complete. Otherwise cancel the current run and use a script to customize the handling of missing feature values that may be more appropriate based on the data type and business requirement.\n",
      "              Learn more about missing value imputation: https://aka.ms/AutomatedMLFeaturization\n",
      "DETAILS:      \n",
      "+---------------------------------+---------------------------------+---------------------------------+\n",
      "|Column name                      |Missing value count              |Imputation type                  |\n",
      "+=================================+=================================+=================================+\n",
      "|AVGTEMP                          |48                               |median                           |\n",
      "+---------------------------------+---------------------------------+---------------------------------+\n",
      "\n",
      "****************************************************************************************************\n",
      "\n",
      "TYPE:         Memory Issues Detection\n",
      "STATUS:       PASSED\n",
      "DESCRIPTION:  The selected horizon and lag values were analyzed, and no potential memory issues were detected.\n",
      "              Learn more about time-series forecasting configurations: https://aka.ms/AutomatedMLForecastingConfiguration\n",
      "\n",
      "****************************************************************************************************\n",
      "\n",
      "TYPE:         Short series handling\n",
      "STATUS:       PASSED\n",
      "DESCRIPTION:  Automated ML detected enough data points for each series in the input data to continue with training.\n",
      "              \n",
      "\n",
      "****************************************************************************************************\n",
      "\n",
      "****************************************************************************************************\n",
      "ITERATION: The iteration being evaluated.\n",
      "PIPELINE: A summary description of the pipeline being evaluated.\n",
      "DURATION: Time taken for the current iteration.\n",
      "METRIC: The result of computing score on the fitted pipeline.\n",
      "BEST: The best observed score thus far.\n",
      "****************************************************************************************************\n",
      "\n",
      " ITERATION   PIPELINE                                       DURATION      METRIC      BEST\n",
      "         9   MinMaxScaler RandomForest                      0:02:21       0.3041    0.3041\n",
      "         6   MinMaxScaler ExtremeRandomTrees                0:08:06       0.6025    0.6025\n",
      "         7   StandardScalerWrapper ElasticNet               0:01:03       0.4218    0.6025\n",
      "         5   StandardScalerWrapper XGBoostRegressor         0:07:56       0.4772    0.6025\n",
      "         3   MaxAbsScaler ElasticNet                        0:01:50       0.4233    0.6025\n",
      "         0   SparseNormalizer XGBoostRegressor              0:08:55       0.7337    0.7337\n",
      "         1   MaxAbsScaler RandomForest                      0:11:49          nan    0.7337\n",
      "        11                                                  0:06:41          nan    0.7337\n",
      "        12                                                  0:05:18          nan    0.7337\n",
      "        13                                                  0:03:47          nan    0.7337\n",
      "        14                                                  0:03:05          nan    0.7337\n",
      "         2   StandardScalerWrapper XGBoostRegressor         0:11:44       0.3127    0.7337\n",
      "         4   MinMaxScaler RandomForest                      0:03:37          nan    0.7337\n",
      "         8   MinMaxScaler RandomForest                      0:11:50          nan    0.7337\n",
      "        10   StandardScalerWrapper XGBoostRegressor         0:03:08       0.6091    0.7337\n",
      "        15                                                  0:00:17          nan    0.7337\n",
      "        16    VotingEnsemble                                0:01:14       0.7509    0.7509\n"
     ]
    },
    {
     "output_type": "execute_result",
     "data": {
      "text/plain": [
       "{'runId': 'AutoML_860b8b2a-c6bc-4a92-a016-a5cf99c17075',\n",
       " 'target': 'aml-compute',\n",
       " 'status': 'Completed',\n",
       " 'startTimeUtc': '2021-04-18T18:35:43.01294Z',\n",
       " 'endTimeUtc': '2021-04-18T19:00:11.713309Z',\n",
       " 'properties': {'num_iterations': '1000',\n",
       "  'training_type': 'TrainFull',\n",
       "  'acquisition_function': 'EI',\n",
       "  'primary_metric': 'r2_score',\n",
       "  'train_split': '0',\n",
       "  'acquisition_parameter': '0',\n",
       "  'num_cross_validation': None,\n",
       "  'target': 'aml-compute',\n",
       "  'AMLSettingsJsonString': '{\"path\":null,\"name\":\"automl-energyforecast\",\"subscription_id\":\"cdbe0b43-92a0-4715-838a-f2648cc7ad21\",\"resource_group\":\"aml-quickstarts-143075\",\"workspace_name\":\"quick-starts-ws-143075\",\"region\":\"southcentralus\",\"compute_target\":\"aml-compute\",\"spark_service\":null,\"azure_service\":\"remote\",\"many_models\":false,\"pipeline_fetch_max_batch_size\":1,\"iterations\":1000,\"primary_metric\":\"r2_score\",\"task_type\":\"regression\",\"data_script\":null,\"validation_size\":0.0,\"n_cross_validations\":null,\"y_min\":null,\"y_max\":null,\"num_classes\":null,\"featurization\":\"auto\",\"_ignore_package_version_incompatibilities\":false,\"is_timeseries\":true,\"max_cores_per_iteration\":1,\"max_concurrent_iterations\":10,\"iteration_timeout_minutes\":null,\"mem_in_mb\":null,\"enforce_time_on_windows\":true,\"experiment_timeout_minutes\":15,\"experiment_exit_score\":null,\"whitelist_models\":null,\"blacklist_algos\":[\"TensorFlowDNN\",\"TensorFlowLinearRegressor\",\"Naive\",\"SeasonalNaive\",\"Average\",\"SeasonalAverage\",\"ExponentialSmoothing\",\"Arimax\",\"AutoArima\",\"Prophet\"],\"supported_models\":[\"TensorFlowDNN\",\"Prophet\",\"SGD\",\"ExtremeRandomTrees\",\"DecisionTree\",\"LassoLars\",\"TCNForecaster\",\"Naive\",\"SeasonalAverage\",\"KNN\",\"SeasonalNaive\",\"GradientBoosting\",\"Average\",\"LightGBM\",\"XGBoostRegressor\",\"AutoArima\",\"RandomForest\",\"ElasticNet\",\"TensorFlowLinearRegressor\"],\"auto_blacklist\":true,\"blacklist_samples_reached\":false,\"exclude_nan_labels\":true,\"verbosity\":20,\"_debug_log\":\"azureml_automl.log\",\"show_warnings\":false,\"model_explainability\":true,\"service_url\":null,\"sdk_url\":null,\"sdk_packages\":null,\"enable_onnx_compatible_models\":false,\"enable_split_onnx_featurizer_estimator_models\":false,\"vm_type\":\"STANDARD_DS12_V2\",\"telemetry_verbosity\":20,\"send_telemetry\":true,\"enable_dnn\":false,\"scenario\":\"SDK-1.13.0\",\"environment_label\":null,\"force_text_dnn\":false,\"enable_feature_sweeping\":false,\"time_column_name\":\"DATE\",\"grain_column_names\":null,\"drop_column_names\":[],\"max_horizon\":48,\"dropna\":false,\"overwrite_columns\":true,\"transform_dictionary\":{\"min\":\"_automl_target_col\",\"max\":\"_automl_target_col\",\"mean\":\"_automl_target_col\"},\"window_size\":null,\"country_or_region\":null,\"lags\":{\"_automl_target_col\":[48]},\"feature_lags\":null,\"seasonality\":\"auto\",\"use_stl\":null,\"short_series_handling\":true,\"freq\":null,\"short_series_handling_configuration\":\"auto\",\"enable_early_stopping\":true,\"early_stopping_n_iters\":10,\"metrics\":null,\"enable_ensembling\":true,\"enable_stack_ensembling\":false,\"ensemble_iterations\":15,\"enable_tf\":false,\"enable_subsampling\":false,\"subsample_seed\":null,\"enable_nimbusml\":false,\"enable_streaming\":false,\"force_streaming\":false,\"track_child_runs\":true,\"allowed_private_models\":[],\"label_column_name\":\"TOTAL Load\",\"weight_column_name\":null,\"cv_split_column_names\":null,\"enable_local_managed\":false,\"_local_managed_run_id\":null,\"cost_mode\":1,\"lag_length\":0,\"metric_operation\":\"maximize\",\"preprocess\":true}',\n",
       "  'DataPrepJsonString': '{\\\\\"training_data\\\\\": \\\\\"{\\\\\\\\\\\\\"blocks\\\\\\\\\\\\\": [{\\\\\\\\\\\\\"id\\\\\\\\\\\\\": \\\\\\\\\\\\\"f3f4bfa9-1446-44f4-9b99-5dbbd2aca2a3\\\\\\\\\\\\\", \\\\\\\\\\\\\"type\\\\\\\\\\\\\": \\\\\\\\\\\\\"Microsoft.DPrep.GetDatastoreFilesBlock\\\\\\\\\\\\\", \\\\\\\\\\\\\"arguments\\\\\\\\\\\\\": {\\\\\\\\\\\\\"datastores\\\\\\\\\\\\\": [{\\\\\\\\\\\\\"datastoreName\\\\\\\\\\\\\": \\\\\\\\\\\\\"workspaceblobstore\\\\\\\\\\\\\", \\\\\\\\\\\\\"path\\\\\\\\\\\\\": \\\\\\\\\\\\\"data/training.csv\\\\\\\\\\\\\", \\\\\\\\\\\\\"resourceGroup\\\\\\\\\\\\\": \\\\\\\\\\\\\"aml-quickstarts-143075\\\\\\\\\\\\\", \\\\\\\\\\\\\"subscription\\\\\\\\\\\\\": \\\\\\\\\\\\\"cdbe0b43-92a0-4715-838a-f2648cc7ad21\\\\\\\\\\\\\", \\\\\\\\\\\\\"workspaceName\\\\\\\\\\\\\": \\\\\\\\\\\\\"quick-starts-ws-143075\\\\\\\\\\\\\"}]}, \\\\\\\\\\\\\"localData\\\\\\\\\\\\\": {}, \\\\\\\\\\\\\"isEnabled\\\\\\\\\\\\\": true, \\\\\\\\\\\\\"name\\\\\\\\\\\\\": null, \\\\\\\\\\\\\"annotation\\\\\\\\\\\\\": null}, {\\\\\\\\\\\\\"id\\\\\\\\\\\\\": \\\\\\\\\\\\\"f8dd3621-2480-46fc-8ea8-bad531cedb26\\\\\\\\\\\\\", \\\\\\\\\\\\\"type\\\\\\\\\\\\\": \\\\\\\\\\\\\"Microsoft.DPrep.ParseDelimitedBlock\\\\\\\\\\\\\", \\\\\\\\\\\\\"arguments\\\\\\\\\\\\\": {\\\\\\\\\\\\\"columnHeadersMode\\\\\\\\\\\\\": 3, \\\\\\\\\\\\\"fileEncoding\\\\\\\\\\\\\": 0, \\\\\\\\\\\\\"handleQuotedLineBreaks\\\\\\\\\\\\\": false, \\\\\\\\\\\\\"preview\\\\\\\\\\\\\": false, \\\\\\\\\\\\\"separator\\\\\\\\\\\\\": \\\\\\\\\\\\\",\\\\\\\\\\\\\", \\\\\\\\\\\\\"skipRows\\\\\\\\\\\\\": 0, \\\\\\\\\\\\\"skipRowsMode\\\\\\\\\\\\\": 0}, \\\\\\\\\\\\\"localData\\\\\\\\\\\\\": {}, \\\\\\\\\\\\\"isEnabled\\\\\\\\\\\\\": true, \\\\\\\\\\\\\"name\\\\\\\\\\\\\": null, \\\\\\\\\\\\\"annotation\\\\\\\\\\\\\": null}, {\\\\\\\\\\\\\"id\\\\\\\\\\\\\": \\\\\\\\\\\\\"9949bc7b-e5b6-4d5c-834d-349b65db098e\\\\\\\\\\\\\", \\\\\\\\\\\\\"type\\\\\\\\\\\\\": \\\\\\\\\\\\\"Microsoft.DPrep.DropColumnsBlock\\\\\\\\\\\\\", \\\\\\\\\\\\\"arguments\\\\\\\\\\\\\": {\\\\\\\\\\\\\"columns\\\\\\\\\\\\\": {\\\\\\\\\\\\\"type\\\\\\\\\\\\\": 0, \\\\\\\\\\\\\"details\\\\\\\\\\\\\": {\\\\\\\\\\\\\"selectedColumns\\\\\\\\\\\\\": [\\\\\\\\\\\\\"Path\\\\\\\\\\\\\"]}}}, \\\\\\\\\\\\\"localData\\\\\\\\\\\\\": {}, \\\\\\\\\\\\\"isEnabled\\\\\\\\\\\\\": true, \\\\\\\\\\\\\"name\\\\\\\\\\\\\": null, \\\\\\\\\\\\\"annotation\\\\\\\\\\\\\": null}, {\\\\\\\\\\\\\"id\\\\\\\\\\\\\": \\\\\\\\\\\\\"de413467-1acb-4f1c-a7ee-be3d128e078a\\\\\\\\\\\\\", \\\\\\\\\\\\\"type\\\\\\\\\\\\\": \\\\\\\\\\\\\"Microsoft.DPrep.SetColumnTypesBlock\\\\\\\\\\\\\", \\\\\\\\\\\\\"arguments\\\\\\\\\\\\\": {\\\\\\\\\\\\\"columnConversion\\\\\\\\\\\\\": [{\\\\\\\\\\\\\"column\\\\\\\\\\\\\": {\\\\\\\\\\\\\"type\\\\\\\\\\\\\": 2, \\\\\\\\\\\\\"details\\\\\\\\\\\\\": {\\\\\\\\\\\\\"selectedColumn\\\\\\\\\\\\\": \\\\\\\\\\\\\"DATE\\\\\\\\\\\\\"}}, \\\\\\\\\\\\\"typeArguments\\\\\\\\\\\\\": {\\\\\\\\\\\\\"dateTimeFormats\\\\\\\\\\\\\": [\\\\\\\\\\\\\"%m/%d/%y %H:%M\\\\\\\\\\\\\"]}, \\\\\\\\\\\\\"typeProperty\\\\\\\\\\\\\": 4}, {\\\\\\\\\\\\\"column\\\\\\\\\\\\\": {\\\\\\\\\\\\\"type\\\\\\\\\\\\\": 2, \\\\\\\\\\\\\"details\\\\\\\\\\\\\": {\\\\\\\\\\\\\"selectedColumn\\\\\\\\\\\\\": \\\\\\\\\\\\\"TOTAL Load\\\\\\\\\\\\\"}}, \\\\\\\\\\\\\"typeProperty\\\\\\\\\\\\\": 2}, {\\\\\\\\\\\\\"column\\\\\\\\\\\\\": {\\\\\\\\\\\\\"type\\\\\\\\\\\\\": 2, \\\\\\\\\\\\\"details\\\\\\\\\\\\\": {\\\\\\\\\\\\\"selectedColumn\\\\\\\\\\\\\": \\\\\\\\\\\\\"AVGTEMP\\\\\\\\\\\\\"}}, \\\\\\\\\\\\\"typeProperty\\\\\\\\\\\\\": 2}, {\\\\\\\\\\\\\"column\\\\\\\\\\\\\": {\\\\\\\\\\\\\"type\\\\\\\\\\\\\": 2, \\\\\\\\\\\\\"details\\\\\\\\\\\\\": {\\\\\\\\\\\\\"selectedColumn\\\\\\\\\\\\\": \\\\\\\\\\\\\"AVGHUM\\\\\\\\\\\\\"}}, \\\\\\\\\\\\\"typeProperty\\\\\\\\\\\\\": 2}, {\\\\\\\\\\\\\"column\\\\\\\\\\\\\": {\\\\\\\\\\\\\"type\\\\\\\\\\\\\": 2, \\\\\\\\\\\\\"details\\\\\\\\\\\\\": {\\\\\\\\\\\\\"selectedColumn\\\\\\\\\\\\\": \\\\\\\\\\\\\"HOL_IND\\\\\\\\\\\\\"}}, \\\\\\\\\\\\\"typeProperty\\\\\\\\\\\\\": 2}, {\\\\\\\\\\\\\"column\\\\\\\\\\\\\": {\\\\\\\\\\\\\"type\\\\\\\\\\\\\": 2, \\\\\\\\\\\\\"details\\\\\\\\\\\\\": {\\\\\\\\\\\\\"selectedColumn\\\\\\\\\\\\\": \\\\\\\\\\\\\"SUNRISE\\\\\\\\\\\\\"}}, \\\\\\\\\\\\\"typeProperty\\\\\\\\\\\\\": 0}, {\\\\\\\\\\\\\"column\\\\\\\\\\\\\": {\\\\\\\\\\\\\"type\\\\\\\\\\\\\": 2, \\\\\\\\\\\\\"details\\\\\\\\\\\\\": {\\\\\\\\\\\\\"selectedColumn\\\\\\\\\\\\\": \\\\\\\\\\\\\"SUNSET\\\\\\\\\\\\\"}}, \\\\\\\\\\\\\"typeProperty\\\\\\\\\\\\\": 0}]}, \\\\\\\\\\\\\"localData\\\\\\\\\\\\\": {}, \\\\\\\\\\\\\"isEnabled\\\\\\\\\\\\\": true, \\\\\\\\\\\\\"name\\\\\\\\\\\\\": null, \\\\\\\\\\\\\"annotation\\\\\\\\\\\\\": null}], \\\\\\\\\\\\\"inspectors\\\\\\\\\\\\\": [], \\\\\\\\\\\\\"meta\\\\\\\\\\\\\": {\\\\\\\\\\\\\"savedDatasetId\\\\\\\\\\\\\": \\\\\\\\\\\\\"963b8f8c-da81-4941-8cfe-c20d43f24df6\\\\\\\\\\\\\", \\\\\\\\\\\\\"datasetType\\\\\\\\\\\\\": \\\\\\\\\\\\\"tabular\\\\\\\\\\\\\", \\\\\\\\\\\\\"subscriptionId\\\\\\\\\\\\\": \\\\\\\\\\\\\"cdbe0b43-92a0-4715-838a-f2648cc7ad21\\\\\\\\\\\\\", \\\\\\\\\\\\\"workspaceId\\\\\\\\\\\\\": \\\\\\\\\\\\\"98288941-d23f-4688-8733-0d0f60b22d5e\\\\\\\\\\\\\", \\\\\\\\\\\\\"workspaceLocation\\\\\\\\\\\\\": \\\\\\\\\\\\\"southcentralus\\\\\\\\\\\\\"}}\\\\\", \\\\\"validation_data\\\\\": \\\\\"{\\\\\\\\\\\\\"blocks\\\\\\\\\\\\\": [{\\\\\\\\\\\\\"id\\\\\\\\\\\\\": \\\\\\\\\\\\\"7faac6b7-4ad4-40fe-b198-804e554c3e9a\\\\\\\\\\\\\", \\\\\\\\\\\\\"type\\\\\\\\\\\\\": \\\\\\\\\\\\\"Microsoft.DPrep.GetDatastoreFilesBlock\\\\\\\\\\\\\", \\\\\\\\\\\\\"arguments\\\\\\\\\\\\\": {\\\\\\\\\\\\\"datastores\\\\\\\\\\\\\": [{\\\\\\\\\\\\\"datastoreName\\\\\\\\\\\\\": \\\\\\\\\\\\\"workspaceblobstore\\\\\\\\\\\\\", \\\\\\\\\\\\\"path\\\\\\\\\\\\\": \\\\\\\\\\\\\"data/validation.csv\\\\\\\\\\\\\", \\\\\\\\\\\\\"resourceGroup\\\\\\\\\\\\\": \\\\\\\\\\\\\"aml-quickstarts-143075\\\\\\\\\\\\\", \\\\\\\\\\\\\"subscription\\\\\\\\\\\\\": \\\\\\\\\\\\\"cdbe0b43-92a0-4715-838a-f2648cc7ad21\\\\\\\\\\\\\", \\\\\\\\\\\\\"workspaceName\\\\\\\\\\\\\": \\\\\\\\\\\\\"quick-starts-ws-143075\\\\\\\\\\\\\"}]}, \\\\\\\\\\\\\"localData\\\\\\\\\\\\\": {}, \\\\\\\\\\\\\"isEnabled\\\\\\\\\\\\\": true, \\\\\\\\\\\\\"name\\\\\\\\\\\\\": null, \\\\\\\\\\\\\"annotation\\\\\\\\\\\\\": null}, {\\\\\\\\\\\\\"id\\\\\\\\\\\\\": \\\\\\\\\\\\\"529f5b18-2c7d-435e-9458-8c76a662e711\\\\\\\\\\\\\", \\\\\\\\\\\\\"type\\\\\\\\\\\\\": \\\\\\\\\\\\\"Microsoft.DPrep.ParseDelimitedBlock\\\\\\\\\\\\\", \\\\\\\\\\\\\"arguments\\\\\\\\\\\\\": {\\\\\\\\\\\\\"columnHeadersMode\\\\\\\\\\\\\": 3, \\\\\\\\\\\\\"fileEncoding\\\\\\\\\\\\\": 0, \\\\\\\\\\\\\"handleQuotedLineBreaks\\\\\\\\\\\\\": false, \\\\\\\\\\\\\"preview\\\\\\\\\\\\\": false, \\\\\\\\\\\\\"separator\\\\\\\\\\\\\": \\\\\\\\\\\\\",\\\\\\\\\\\\\", \\\\\\\\\\\\\"skipRows\\\\\\\\\\\\\": 0, \\\\\\\\\\\\\"skipRowsMode\\\\\\\\\\\\\": 0}, \\\\\\\\\\\\\"localData\\\\\\\\\\\\\": {}, \\\\\\\\\\\\\"isEnabled\\\\\\\\\\\\\": true, \\\\\\\\\\\\\"name\\\\\\\\\\\\\": null, \\\\\\\\\\\\\"annotation\\\\\\\\\\\\\": null}, {\\\\\\\\\\\\\"id\\\\\\\\\\\\\": \\\\\\\\\\\\\"997d57f1-5152-4c58-ba8f-ab6cc24508ff\\\\\\\\\\\\\", \\\\\\\\\\\\\"type\\\\\\\\\\\\\": \\\\\\\\\\\\\"Microsoft.DPrep.DropColumnsBlock\\\\\\\\\\\\\", \\\\\\\\\\\\\"arguments\\\\\\\\\\\\\": {\\\\\\\\\\\\\"columns\\\\\\\\\\\\\": {\\\\\\\\\\\\\"type\\\\\\\\\\\\\": 0, \\\\\\\\\\\\\"details\\\\\\\\\\\\\": {\\\\\\\\\\\\\"selectedColumns\\\\\\\\\\\\\": [\\\\\\\\\\\\\"Path\\\\\\\\\\\\\"]}}}, \\\\\\\\\\\\\"localData\\\\\\\\\\\\\": {}, \\\\\\\\\\\\\"isEnabled\\\\\\\\\\\\\": true, \\\\\\\\\\\\\"name\\\\\\\\\\\\\": null, \\\\\\\\\\\\\"annotation\\\\\\\\\\\\\": null}, {\\\\\\\\\\\\\"id\\\\\\\\\\\\\": \\\\\\\\\\\\\"37c37517-e88d-4100-a8d1-91e61b2f4a18\\\\\\\\\\\\\", \\\\\\\\\\\\\"type\\\\\\\\\\\\\": \\\\\\\\\\\\\"Microsoft.DPrep.SetColumnTypesBlock\\\\\\\\\\\\\", \\\\\\\\\\\\\"arguments\\\\\\\\\\\\\": {\\\\\\\\\\\\\"columnConversion\\\\\\\\\\\\\": [{\\\\\\\\\\\\\"column\\\\\\\\\\\\\": {\\\\\\\\\\\\\"type\\\\\\\\\\\\\": 2, \\\\\\\\\\\\\"details\\\\\\\\\\\\\": {\\\\\\\\\\\\\"selectedColumn\\\\\\\\\\\\\": \\\\\\\\\\\\\"DATE\\\\\\\\\\\\\"}}, \\\\\\\\\\\\\"typeArguments\\\\\\\\\\\\\": {\\\\\\\\\\\\\"dateTimeFormats\\\\\\\\\\\\\": [\\\\\\\\\\\\\"%m/%d/%y %H:%M\\\\\\\\\\\\\"]}, \\\\\\\\\\\\\"typeProperty\\\\\\\\\\\\\": 4}, {\\\\\\\\\\\\\"column\\\\\\\\\\\\\": {\\\\\\\\\\\\\"type\\\\\\\\\\\\\": 2, \\\\\\\\\\\\\"details\\\\\\\\\\\\\": {\\\\\\\\\\\\\"selectedColumn\\\\\\\\\\\\\": \\\\\\\\\\\\\"TOTAL Load\\\\\\\\\\\\\"}}, \\\\\\\\\\\\\"typeProperty\\\\\\\\\\\\\": 2}, {\\\\\\\\\\\\\"column\\\\\\\\\\\\\": {\\\\\\\\\\\\\"type\\\\\\\\\\\\\": 2, \\\\\\\\\\\\\"details\\\\\\\\\\\\\": {\\\\\\\\\\\\\"selectedColumn\\\\\\\\\\\\\": \\\\\\\\\\\\\"AVGTEMP\\\\\\\\\\\\\"}}, \\\\\\\\\\\\\"typeProperty\\\\\\\\\\\\\": 2}, {\\\\\\\\\\\\\"column\\\\\\\\\\\\\": {\\\\\\\\\\\\\"type\\\\\\\\\\\\\": 2, \\\\\\\\\\\\\"details\\\\\\\\\\\\\": {\\\\\\\\\\\\\"selectedColumn\\\\\\\\\\\\\": \\\\\\\\\\\\\"AVGHUM\\\\\\\\\\\\\"}}, \\\\\\\\\\\\\"typeProperty\\\\\\\\\\\\\": 2}, {\\\\\\\\\\\\\"column\\\\\\\\\\\\\": {\\\\\\\\\\\\\"type\\\\\\\\\\\\\": 2, \\\\\\\\\\\\\"details\\\\\\\\\\\\\": {\\\\\\\\\\\\\"selectedColumn\\\\\\\\\\\\\": \\\\\\\\\\\\\"HOL_IND\\\\\\\\\\\\\"}}, \\\\\\\\\\\\\"typeProperty\\\\\\\\\\\\\": 2}, {\\\\\\\\\\\\\"column\\\\\\\\\\\\\": {\\\\\\\\\\\\\"type\\\\\\\\\\\\\": 2, \\\\\\\\\\\\\"details\\\\\\\\\\\\\": {\\\\\\\\\\\\\"selectedColumn\\\\\\\\\\\\\": \\\\\\\\\\\\\"SUNRISE\\\\\\\\\\\\\"}}, \\\\\\\\\\\\\"typeProperty\\\\\\\\\\\\\": 0}, {\\\\\\\\\\\\\"column\\\\\\\\\\\\\": {\\\\\\\\\\\\\"type\\\\\\\\\\\\\": 2, \\\\\\\\\\\\\"details\\\\\\\\\\\\\": {\\\\\\\\\\\\\"selectedColumn\\\\\\\\\\\\\": \\\\\\\\\\\\\"SUNSET\\\\\\\\\\\\\"}}, \\\\\\\\\\\\\"typeProperty\\\\\\\\\\\\\": 0}]}, \\\\\\\\\\\\\"localData\\\\\\\\\\\\\": {}, \\\\\\\\\\\\\"isEnabled\\\\\\\\\\\\\": true, \\\\\\\\\\\\\"name\\\\\\\\\\\\\": null, \\\\\\\\\\\\\"annotation\\\\\\\\\\\\\": null}], \\\\\\\\\\\\\"inspectors\\\\\\\\\\\\\": [], \\\\\\\\\\\\\"meta\\\\\\\\\\\\\": {\\\\\\\\\\\\\"savedDatasetId\\\\\\\\\\\\\": \\\\\\\\\\\\\"af28b5ec-6f9a-4b14-a238-300afa566f73\\\\\\\\\\\\\", \\\\\\\\\\\\\"datasetType\\\\\\\\\\\\\": \\\\\\\\\\\\\"tabular\\\\\\\\\\\\\", \\\\\\\\\\\\\"subscriptionId\\\\\\\\\\\\\": \\\\\\\\\\\\\"cdbe0b43-92a0-4715-838a-f2648cc7ad21\\\\\\\\\\\\\", \\\\\\\\\\\\\"workspaceId\\\\\\\\\\\\\": \\\\\\\\\\\\\"98288941-d23f-4688-8733-0d0f60b22d5e\\\\\\\\\\\\\", \\\\\\\\\\\\\"workspaceLocation\\\\\\\\\\\\\": \\\\\\\\\\\\\"southcentralus\\\\\\\\\\\\\"}}\\\\\", \\\\\"activities\\\\\": 0}',\n",
       "  'EnableSubsampling': 'False',\n",
       "  'runTemplate': 'AutoML',\n",
       "  'azureml.runsource': 'automl',\n",
       "  'display_task_type': 'forecasting',\n",
       "  'dependencies_versions': '{\"azureml-widgets\": \"1.19.0\", \"azureml-train\": \"1.19.0\", \"azureml-train-restclients-hyperdrive\": \"1.19.0\", \"azureml-train-core\": \"1.19.0\", \"azureml-train-automl\": \"1.19.0\", \"azureml-train-automl-runtime\": \"1.19.0\", \"azureml-train-automl-client\": \"1.19.0\", \"azureml-telemetry\": \"1.19.0\", \"azureml-model-management-sdk\": \"1.0.1b6.post1\", \"azureml-interpret\": \"1.19.0\", \"azureml-defaults\": \"1.19.0\", \"azureml-dataset-runtime\": \"1.19.0.post1\", \"azureml-dataprep\": \"2.6.3\", \"azureml-dataprep-rslex\": \"1.4.0\", \"azureml-dataprep-native\": \"26.0.0\", \"azureml-core\": \"1.19.0\", \"azureml-automl-runtime\": \"1.19.0\", \"azureml-automl-core\": \"1.19.0\"}',\n",
       "  '_aml_system_scenario_identification': 'Remote.Parent',\n",
       "  'ClientType': 'SDK',\n",
       "  'environment_cpu_name': 'AzureML-AutoML',\n",
       "  'environment_cpu_label': 'prod',\n",
       "  'environment_gpu_name': 'AzureML-AutoML-GPU',\n",
       "  'environment_gpu_label': 'prod',\n",
       "  'root_attribution': 'automl',\n",
       "  'attribution': 'AutoML',\n",
       "  'Orchestrator': 'AutoML',\n",
       "  'CancelUri': 'https://southcentralus.experiments.azureml.net/jasmine/v1.0/subscriptions/cdbe0b43-92a0-4715-838a-f2648cc7ad21/resourceGroups/aml-quickstarts-143075/providers/Microsoft.MachineLearningServices/workspaces/quick-starts-ws-143075/experimentids/9acddb54-6f7a-4d52-bfed-6a57446131da/cancel/AutoML_860b8b2a-c6bc-4a92-a016-a5cf99c17075',\n",
       "  'ClientSdkVersion': '1.25.0',\n",
       "  'snapshotId': '00000000-0000-0000-0000-000000000000',\n",
       "  'SetupRunId': 'AutoML_860b8b2a-c6bc-4a92-a016-a5cf99c17075_setup',\n",
       "  'SetupRunContainerId': 'dcid.AutoML_860b8b2a-c6bc-4a92-a016-a5cf99c17075_setup',\n",
       "  'forecasting_target_lags': '[48]',\n",
       "  'forecasting_target_rolling_window_size': '0',\n",
       "  'forecasting_max_horizon': '48',\n",
       "  'forecasting_freq': '30T',\n",
       "  'ProblemInfoJsonString': '{\"dataset_num_categorical\": 0, \"is_sparse\": false, \"subsampling\": false, \"dataset_classes\": 14016, \"dataset_features\": 23, \"dataset_samples\": 2309736, \"single_frequency_class_detected\": false}',\n",
       "  'ModelExplainRunId': 'AutoML_860b8b2a-c6bc-4a92-a016-a5cf99c17075_ModelExplain',\n",
       "  'azureml.git.repository_uri': 'https://github.com/xquyvu/energy-usage-forecasting.git',\n",
       "  'mlflow.source.git.repoURL': 'https://github.com/xquyvu/energy-usage-forecasting.git',\n",
       "  'azureml.git.branch': 'main',\n",
       "  'mlflow.source.git.branch': 'main',\n",
       "  'azureml.git.commit': 'ba16c1d605653c104086b7e3b30eb85aa3a3f37d',\n",
       "  'mlflow.source.git.commit': 'ba16c1d605653c104086b7e3b30eb85aa3a3f37d',\n",
       "  'azureml.git.dirty': 'True'},\n",
       " 'inputDatasets': [{'dataset': {'id': '963b8f8c-da81-4941-8cfe-c20d43f24df6'}, 'consumptionDetails': {'type': 'RunInput', 'inputName': 'training_data', 'mechanism': 'Direct'}}, {'dataset': {'id': 'af28b5ec-6f9a-4b14-a238-300afa566f73'}, 'consumptionDetails': {'type': 'RunInput', 'inputName': 'validation_data', 'mechanism': 'Direct'}}],\n",
       " 'outputDatasets': [],\n",
       " 'logFiles': {}}"
      ]
     },
     "metadata": {},
     "execution_count": 7
    }
   ],
   "source": [
    "# Submit AML experiment\n",
    "remote_run = experiment.submit(automl_config, show_output=True)\n",
    "remote_run.wait_for_completion()"
   ]
  },
  {
   "cell_type": "markdown",
   "metadata": {},
   "source": [
    "## Run Details"
   ]
  },
  {
   "cell_type": "code",
   "execution_count": 8,
   "metadata": {
    "gather": {
     "logged": 1598431121770
    },
    "jupyter": {
     "outputs_hidden": false,
     "source_hidden": false
    },
    "nteract": {
     "transient": {
      "deleting": false
     }
    }
   },
   "outputs": [
    {
     "output_type": "display_data",
     "data": {
      "text/plain": "_AutoMLWidget(widget_settings={'childWidgetDisplay': 'popup', 'send_telemetry': False, 'log_level': 'INFO', 's…",
      "application/vnd.jupyter.widget-view+json": {
       "version_major": 2,
       "version_minor": 0,
       "model_id": "0908459000564c3499ceba61bb2f687d"
      }
     },
     "metadata": {}
    },
    {
     "output_type": "display_data",
     "data": {
      "application/aml.mini.widget.v1": "{\"status\": \"Completed\", \"workbench_run_details_uri\": \"https://ml.azure.com/experiments/automl-energyforecast/runs/AutoML_860b8b2a-c6bc-4a92-a016-a5cf99c17075?wsid=/subscriptions/cdbe0b43-92a0-4715-838a-f2648cc7ad21/resourcegroups/aml-quickstarts-143075/workspaces/quick-starts-ws-143075\", \"run_id\": \"AutoML_860b8b2a-c6bc-4a92-a016-a5cf99c17075\", \"run_properties\": {\"run_id\": \"AutoML_860b8b2a-c6bc-4a92-a016-a5cf99c17075\", \"created_utc\": \"2021-04-18T18:35:25.477381Z\", \"properties\": {\"num_iterations\": \"1000\", \"training_type\": \"TrainFull\", \"acquisition_function\": \"EI\", \"primary_metric\": \"r2_score\", \"train_split\": \"0\", \"acquisition_parameter\": \"0\", \"num_cross_validation\": null, \"target\": \"aml-compute\", \"AMLSettingsJsonString\": \"{\\\"path\\\":null,\\\"name\\\":\\\"automl-energyforecast\\\",\\\"subscription_id\\\":\\\"cdbe0b43-92a0-4715-838a-f2648cc7ad21\\\",\\\"resource_group\\\":\\\"aml-quickstarts-143075\\\",\\\"workspace_name\\\":\\\"quick-starts-ws-143075\\\",\\\"region\\\":\\\"southcentralus\\\",\\\"compute_target\\\":\\\"aml-compute\\\",\\\"spark_service\\\":null,\\\"azure_service\\\":\\\"remote\\\",\\\"many_models\\\":false,\\\"pipeline_fetch_max_batch_size\\\":1,\\\"iterations\\\":1000,\\\"primary_metric\\\":\\\"r2_score\\\",\\\"task_type\\\":\\\"regression\\\",\\\"data_script\\\":null,\\\"validation_size\\\":0.0,\\\"n_cross_validations\\\":null,\\\"y_min\\\":null,\\\"y_max\\\":null,\\\"num_classes\\\":null,\\\"featurization\\\":\\\"auto\\\",\\\"_ignore_package_version_incompatibilities\\\":false,\\\"is_timeseries\\\":true,\\\"max_cores_per_iteration\\\":1,\\\"max_concurrent_iterations\\\":10,\\\"iteration_timeout_minutes\\\":null,\\\"mem_in_mb\\\":null,\\\"enforce_time_on_windows\\\":true,\\\"experiment_timeout_minutes\\\":15,\\\"experiment_exit_score\\\":null,\\\"whitelist_models\\\":null,\\\"blacklist_algos\\\":[\\\"TensorFlowDNN\\\",\\\"TensorFlowLinearRegressor\\\",\\\"Naive\\\",\\\"SeasonalNaive\\\",\\\"Average\\\",\\\"SeasonalAverage\\\",\\\"ExponentialSmoothing\\\",\\\"Arimax\\\",\\\"AutoArima\\\",\\\"Prophet\\\"],\\\"supported_models\\\":[\\\"TensorFlowDNN\\\",\\\"Prophet\\\",\\\"SGD\\\",\\\"ExtremeRandomTrees\\\",\\\"DecisionTree\\\",\\\"LassoLars\\\",\\\"TCNForecaster\\\",\\\"Naive\\\",\\\"SeasonalAverage\\\",\\\"KNN\\\",\\\"SeasonalNaive\\\",\\\"GradientBoosting\\\",\\\"Average\\\",\\\"LightGBM\\\",\\\"XGBoostRegressor\\\",\\\"AutoArima\\\",\\\"RandomForest\\\",\\\"ElasticNet\\\",\\\"TensorFlowLinearRegressor\\\"],\\\"auto_blacklist\\\":true,\\\"blacklist_samples_reached\\\":false,\\\"exclude_nan_labels\\\":true,\\\"verbosity\\\":20,\\\"_debug_log\\\":\\\"azureml_automl.log\\\",\\\"show_warnings\\\":false,\\\"model_explainability\\\":true,\\\"service_url\\\":null,\\\"sdk_url\\\":null,\\\"sdk_packages\\\":null,\\\"enable_onnx_compatible_models\\\":false,\\\"enable_split_onnx_featurizer_estimator_models\\\":false,\\\"vm_type\\\":\\\"STANDARD_DS12_V2\\\",\\\"telemetry_verbosity\\\":20,\\\"send_telemetry\\\":true,\\\"enable_dnn\\\":false,\\\"scenario\\\":\\\"SDK-1.13.0\\\",\\\"environment_label\\\":null,\\\"force_text_dnn\\\":false,\\\"enable_feature_sweeping\\\":false,\\\"time_column_name\\\":\\\"DATE\\\",\\\"grain_column_names\\\":null,\\\"drop_column_names\\\":[],\\\"max_horizon\\\":48,\\\"dropna\\\":false,\\\"overwrite_columns\\\":true,\\\"transform_dictionary\\\":{\\\"min\\\":\\\"_automl_target_col\\\",\\\"max\\\":\\\"_automl_target_col\\\",\\\"mean\\\":\\\"_automl_target_col\\\"},\\\"window_size\\\":null,\\\"country_or_region\\\":null,\\\"lags\\\":{\\\"_automl_target_col\\\":[48]},\\\"feature_lags\\\":null,\\\"seasonality\\\":\\\"auto\\\",\\\"use_stl\\\":null,\\\"short_series_handling\\\":true,\\\"freq\\\":null,\\\"short_series_handling_configuration\\\":\\\"auto\\\",\\\"enable_early_stopping\\\":true,\\\"early_stopping_n_iters\\\":10,\\\"metrics\\\":null,\\\"enable_ensembling\\\":true,\\\"enable_stack_ensembling\\\":false,\\\"ensemble_iterations\\\":15,\\\"enable_tf\\\":false,\\\"enable_subsampling\\\":false,\\\"subsample_seed\\\":null,\\\"enable_nimbusml\\\":false,\\\"enable_streaming\\\":false,\\\"force_streaming\\\":false,\\\"track_child_runs\\\":true,\\\"allowed_private_models\\\":[],\\\"label_column_name\\\":\\\"TOTAL Load\\\",\\\"weight_column_name\\\":null,\\\"cv_split_column_names\\\":null,\\\"enable_local_managed\\\":false,\\\"_local_managed_run_id\\\":null,\\\"cost_mode\\\":1,\\\"lag_length\\\":0,\\\"metric_operation\\\":\\\"maximize\\\",\\\"preprocess\\\":true}\", \"DataPrepJsonString\": \"{\\\\\\\"training_data\\\\\\\": \\\\\\\"{\\\\\\\\\\\\\\\"blocks\\\\\\\\\\\\\\\": [{\\\\\\\\\\\\\\\"id\\\\\\\\\\\\\\\": \\\\\\\\\\\\\\\"f3f4bfa9-1446-44f4-9b99-5dbbd2aca2a3\\\\\\\\\\\\\\\", \\\\\\\\\\\\\\\"type\\\\\\\\\\\\\\\": \\\\\\\\\\\\\\\"Microsoft.DPrep.GetDatastoreFilesBlock\\\\\\\\\\\\\\\", \\\\\\\\\\\\\\\"arguments\\\\\\\\\\\\\\\": {\\\\\\\\\\\\\\\"datastores\\\\\\\\\\\\\\\": [{\\\\\\\\\\\\\\\"datastoreName\\\\\\\\\\\\\\\": \\\\\\\\\\\\\\\"workspaceblobstore\\\\\\\\\\\\\\\", \\\\\\\\\\\\\\\"path\\\\\\\\\\\\\\\": \\\\\\\\\\\\\\\"data/training.csv\\\\\\\\\\\\\\\", \\\\\\\\\\\\\\\"resourceGroup\\\\\\\\\\\\\\\": \\\\\\\\\\\\\\\"aml-quickstarts-143075\\\\\\\\\\\\\\\", \\\\\\\\\\\\\\\"subscription\\\\\\\\\\\\\\\": \\\\\\\\\\\\\\\"cdbe0b43-92a0-4715-838a-f2648cc7ad21\\\\\\\\\\\\\\\", \\\\\\\\\\\\\\\"workspaceName\\\\\\\\\\\\\\\": \\\\\\\\\\\\\\\"quick-starts-ws-143075\\\\\\\\\\\\\\\"}]}, \\\\\\\\\\\\\\\"localData\\\\\\\\\\\\\\\": {}, \\\\\\\\\\\\\\\"isEnabled\\\\\\\\\\\\\\\": true, \\\\\\\\\\\\\\\"name\\\\\\\\\\\\\\\": null, \\\\\\\\\\\\\\\"annotation\\\\\\\\\\\\\\\": null}, {\\\\\\\\\\\\\\\"id\\\\\\\\\\\\\\\": \\\\\\\\\\\\\\\"f8dd3621-2480-46fc-8ea8-bad531cedb26\\\\\\\\\\\\\\\", \\\\\\\\\\\\\\\"type\\\\\\\\\\\\\\\": \\\\\\\\\\\\\\\"Microsoft.DPrep.ParseDelimitedBlock\\\\\\\\\\\\\\\", \\\\\\\\\\\\\\\"arguments\\\\\\\\\\\\\\\": {\\\\\\\\\\\\\\\"columnHeadersMode\\\\\\\\\\\\\\\": 3, \\\\\\\\\\\\\\\"fileEncoding\\\\\\\\\\\\\\\": 0, \\\\\\\\\\\\\\\"handleQuotedLineBreaks\\\\\\\\\\\\\\\": false, \\\\\\\\\\\\\\\"preview\\\\\\\\\\\\\\\": false, \\\\\\\\\\\\\\\"separator\\\\\\\\\\\\\\\": \\\\\\\\\\\\\\\",\\\\\\\\\\\\\\\", \\\\\\\\\\\\\\\"skipRows\\\\\\\\\\\\\\\": 0, \\\\\\\\\\\\\\\"skipRowsMode\\\\\\\\\\\\\\\": 0}, \\\\\\\\\\\\\\\"localData\\\\\\\\\\\\\\\": {}, \\\\\\\\\\\\\\\"isEnabled\\\\\\\\\\\\\\\": true, \\\\\\\\\\\\\\\"name\\\\\\\\\\\\\\\": null, \\\\\\\\\\\\\\\"annotation\\\\\\\\\\\\\\\": null}, {\\\\\\\\\\\\\\\"id\\\\\\\\\\\\\\\": \\\\\\\\\\\\\\\"9949bc7b-e5b6-4d5c-834d-349b65db098e\\\\\\\\\\\\\\\", \\\\\\\\\\\\\\\"type\\\\\\\\\\\\\\\": \\\\\\\\\\\\\\\"Microsoft.DPrep.DropColumnsBlock\\\\\\\\\\\\\\\", \\\\\\\\\\\\\\\"arguments\\\\\\\\\\\\\\\": {\\\\\\\\\\\\\\\"columns\\\\\\\\\\\\\\\": {\\\\\\\\\\\\\\\"type\\\\\\\\\\\\\\\": 0, \\\\\\\\\\\\\\\"details\\\\\\\\\\\\\\\": {\\\\\\\\\\\\\\\"selectedColumns\\\\\\\\\\\\\\\": [\\\\\\\\\\\\\\\"Path\\\\\\\\\\\\\\\"]}}}, \\\\\\\\\\\\\\\"localData\\\\\\\\\\\\\\\": {}, \\\\\\\\\\\\\\\"isEnabled\\\\\\\\\\\\\\\": true, \\\\\\\\\\\\\\\"name\\\\\\\\\\\\\\\": null, \\\\\\\\\\\\\\\"annotation\\\\\\\\\\\\\\\": null}, {\\\\\\\\\\\\\\\"id\\\\\\\\\\\\\\\": \\\\\\\\\\\\\\\"de413467-1acb-4f1c-a7ee-be3d128e078a\\\\\\\\\\\\\\\", \\\\\\\\\\\\\\\"type\\\\\\\\\\\\\\\": \\\\\\\\\\\\\\\"Microsoft.DPrep.SetColumnTypesBlock\\\\\\\\\\\\\\\", \\\\\\\\\\\\\\\"arguments\\\\\\\\\\\\\\\": {\\\\\\\\\\\\\\\"columnConversion\\\\\\\\\\\\\\\": [{\\\\\\\\\\\\\\\"column\\\\\\\\\\\\\\\": {\\\\\\\\\\\\\\\"type\\\\\\\\\\\\\\\": 2, \\\\\\\\\\\\\\\"details\\\\\\\\\\\\\\\": {\\\\\\\\\\\\\\\"selectedColumn\\\\\\\\\\\\\\\": \\\\\\\\\\\\\\\"DATE\\\\\\\\\\\\\\\"}}, \\\\\\\\\\\\\\\"typeArguments\\\\\\\\\\\\\\\": {\\\\\\\\\\\\\\\"dateTimeFormats\\\\\\\\\\\\\\\": [\\\\\\\\\\\\\\\"%m/%d/%y %H:%M\\\\\\\\\\\\\\\"]}, \\\\\\\\\\\\\\\"typeProperty\\\\\\\\\\\\\\\": 4}, {\\\\\\\\\\\\\\\"column\\\\\\\\\\\\\\\": {\\\\\\\\\\\\\\\"type\\\\\\\\\\\\\\\": 2, \\\\\\\\\\\\\\\"details\\\\\\\\\\\\\\\": {\\\\\\\\\\\\\\\"selectedColumn\\\\\\\\\\\\\\\": \\\\\\\\\\\\\\\"TOTAL Load\\\\\\\\\\\\\\\"}}, \\\\\\\\\\\\\\\"typeProperty\\\\\\\\\\\\\\\": 2}, {\\\\\\\\\\\\\\\"column\\\\\\\\\\\\\\\": {\\\\\\\\\\\\\\\"type\\\\\\\\\\\\\\\": 2, \\\\\\\\\\\\\\\"details\\\\\\\\\\\\\\\": {\\\\\\\\\\\\\\\"selectedColumn\\\\\\\\\\\\\\\": \\\\\\\\\\\\\\\"AVGTEMP\\\\\\\\\\\\\\\"}}, \\\\\\\\\\\\\\\"typeProperty\\\\\\\\\\\\\\\": 2}, {\\\\\\\\\\\\\\\"column\\\\\\\\\\\\\\\": {\\\\\\\\\\\\\\\"type\\\\\\\\\\\\\\\": 2, \\\\\\\\\\\\\\\"details\\\\\\\\\\\\\\\": {\\\\\\\\\\\\\\\"selectedColumn\\\\\\\\\\\\\\\": \\\\\\\\\\\\\\\"AVGHUM\\\\\\\\\\\\\\\"}}, \\\\\\\\\\\\\\\"typeProperty\\\\\\\\\\\\\\\": 2}, {\\\\\\\\\\\\\\\"column\\\\\\\\\\\\\\\": {\\\\\\\\\\\\\\\"type\\\\\\\\\\\\\\\": 2, \\\\\\\\\\\\\\\"details\\\\\\\\\\\\\\\": {\\\\\\\\\\\\\\\"selectedColumn\\\\\\\\\\\\\\\": \\\\\\\\\\\\\\\"HOL_IND\\\\\\\\\\\\\\\"}}, \\\\\\\\\\\\\\\"typeProperty\\\\\\\\\\\\\\\": 2}, {\\\\\\\\\\\\\\\"column\\\\\\\\\\\\\\\": {\\\\\\\\\\\\\\\"type\\\\\\\\\\\\\\\": 2, \\\\\\\\\\\\\\\"details\\\\\\\\\\\\\\\": {\\\\\\\\\\\\\\\"selectedColumn\\\\\\\\\\\\\\\": \\\\\\\\\\\\\\\"SUNRISE\\\\\\\\\\\\\\\"}}, \\\\\\\\\\\\\\\"typeProperty\\\\\\\\\\\\\\\": 0}, {\\\\\\\\\\\\\\\"column\\\\\\\\\\\\\\\": {\\\\\\\\\\\\\\\"type\\\\\\\\\\\\\\\": 2, \\\\\\\\\\\\\\\"details\\\\\\\\\\\\\\\": {\\\\\\\\\\\\\\\"selectedColumn\\\\\\\\\\\\\\\": \\\\\\\\\\\\\\\"SUNSET\\\\\\\\\\\\\\\"}}, \\\\\\\\\\\\\\\"typeProperty\\\\\\\\\\\\\\\": 0}]}, \\\\\\\\\\\\\\\"localData\\\\\\\\\\\\\\\": {}, \\\\\\\\\\\\\\\"isEnabled\\\\\\\\\\\\\\\": true, \\\\\\\\\\\\\\\"name\\\\\\\\\\\\\\\": null, \\\\\\\\\\\\\\\"annotation\\\\\\\\\\\\\\\": null}], \\\\\\\\\\\\\\\"inspectors\\\\\\\\\\\\\\\": [], \\\\\\\\\\\\\\\"meta\\\\\\\\\\\\\\\": {\\\\\\\\\\\\\\\"savedDatasetId\\\\\\\\\\\\\\\": \\\\\\\\\\\\\\\"963b8f8c-da81-4941-8cfe-c20d43f24df6\\\\\\\\\\\\\\\", \\\\\\\\\\\\\\\"datasetType\\\\\\\\\\\\\\\": \\\\\\\\\\\\\\\"tabular\\\\\\\\\\\\\\\", \\\\\\\\\\\\\\\"subscriptionId\\\\\\\\\\\\\\\": \\\\\\\\\\\\\\\"cdbe0b43-92a0-4715-838a-f2648cc7ad21\\\\\\\\\\\\\\\", \\\\\\\\\\\\\\\"workspaceId\\\\\\\\\\\\\\\": \\\\\\\\\\\\\\\"98288941-d23f-4688-8733-0d0f60b22d5e\\\\\\\\\\\\\\\", \\\\\\\\\\\\\\\"workspaceLocation\\\\\\\\\\\\\\\": \\\\\\\\\\\\\\\"southcentralus\\\\\\\\\\\\\\\"}}\\\\\\\", \\\\\\\"validation_data\\\\\\\": \\\\\\\"{\\\\\\\\\\\\\\\"blocks\\\\\\\\\\\\\\\": [{\\\\\\\\\\\\\\\"id\\\\\\\\\\\\\\\": \\\\\\\\\\\\\\\"7faac6b7-4ad4-40fe-b198-804e554c3e9a\\\\\\\\\\\\\\\", \\\\\\\\\\\\\\\"type\\\\\\\\\\\\\\\": \\\\\\\\\\\\\\\"Microsoft.DPrep.GetDatastoreFilesBlock\\\\\\\\\\\\\\\", \\\\\\\\\\\\\\\"arguments\\\\\\\\\\\\\\\": {\\\\\\\\\\\\\\\"datastores\\\\\\\\\\\\\\\": [{\\\\\\\\\\\\\\\"datastoreName\\\\\\\\\\\\\\\": \\\\\\\\\\\\\\\"workspaceblobstore\\\\\\\\\\\\\\\", \\\\\\\\\\\\\\\"path\\\\\\\\\\\\\\\": \\\\\\\\\\\\\\\"data/validation.csv\\\\\\\\\\\\\\\", \\\\\\\\\\\\\\\"resourceGroup\\\\\\\\\\\\\\\": \\\\\\\\\\\\\\\"aml-quickstarts-143075\\\\\\\\\\\\\\\", \\\\\\\\\\\\\\\"subscription\\\\\\\\\\\\\\\": \\\\\\\\\\\\\\\"cdbe0b43-92a0-4715-838a-f2648cc7ad21\\\\\\\\\\\\\\\", \\\\\\\\\\\\\\\"workspaceName\\\\\\\\\\\\\\\": \\\\\\\\\\\\\\\"quick-starts-ws-143075\\\\\\\\\\\\\\\"}]}, \\\\\\\\\\\\\\\"localData\\\\\\\\\\\\\\\": {}, \\\\\\\\\\\\\\\"isEnabled\\\\\\\\\\\\\\\": true, \\\\\\\\\\\\\\\"name\\\\\\\\\\\\\\\": null, \\\\\\\\\\\\\\\"annotation\\\\\\\\\\\\\\\": null}, {\\\\\\\\\\\\\\\"id\\\\\\\\\\\\\\\": \\\\\\\\\\\\\\\"529f5b18-2c7d-435e-9458-8c76a662e711\\\\\\\\\\\\\\\", \\\\\\\\\\\\\\\"type\\\\\\\\\\\\\\\": \\\\\\\\\\\\\\\"Microsoft.DPrep.ParseDelimitedBlock\\\\\\\\\\\\\\\", \\\\\\\\\\\\\\\"arguments\\\\\\\\\\\\\\\": {\\\\\\\\\\\\\\\"columnHeadersMode\\\\\\\\\\\\\\\": 3, \\\\\\\\\\\\\\\"fileEncoding\\\\\\\\\\\\\\\": 0, \\\\\\\\\\\\\\\"handleQuotedLineBreaks\\\\\\\\\\\\\\\": false, \\\\\\\\\\\\\\\"preview\\\\\\\\\\\\\\\": false, \\\\\\\\\\\\\\\"separator\\\\\\\\\\\\\\\": \\\\\\\\\\\\\\\",\\\\\\\\\\\\\\\", \\\\\\\\\\\\\\\"skipRows\\\\\\\\\\\\\\\": 0, \\\\\\\\\\\\\\\"skipRowsMode\\\\\\\\\\\\\\\": 0}, \\\\\\\\\\\\\\\"localData\\\\\\\\\\\\\\\": {}, \\\\\\\\\\\\\\\"isEnabled\\\\\\\\\\\\\\\": true, \\\\\\\\\\\\\\\"name\\\\\\\\\\\\\\\": null, \\\\\\\\\\\\\\\"annotation\\\\\\\\\\\\\\\": null}, {\\\\\\\\\\\\\\\"id\\\\\\\\\\\\\\\": \\\\\\\\\\\\\\\"997d57f1-5152-4c58-ba8f-ab6cc24508ff\\\\\\\\\\\\\\\", \\\\\\\\\\\\\\\"type\\\\\\\\\\\\\\\": \\\\\\\\\\\\\\\"Microsoft.DPrep.DropColumnsBlock\\\\\\\\\\\\\\\", \\\\\\\\\\\\\\\"arguments\\\\\\\\\\\\\\\": {\\\\\\\\\\\\\\\"columns\\\\\\\\\\\\\\\": {\\\\\\\\\\\\\\\"type\\\\\\\\\\\\\\\": 0, \\\\\\\\\\\\\\\"details\\\\\\\\\\\\\\\": {\\\\\\\\\\\\\\\"selectedColumns\\\\\\\\\\\\\\\": [\\\\\\\\\\\\\\\"Path\\\\\\\\\\\\\\\"]}}}, \\\\\\\\\\\\\\\"localData\\\\\\\\\\\\\\\": {}, \\\\\\\\\\\\\\\"isEnabled\\\\\\\\\\\\\\\": true, \\\\\\\\\\\\\\\"name\\\\\\\\\\\\\\\": null, \\\\\\\\\\\\\\\"annotation\\\\\\\\\\\\\\\": null}, {\\\\\\\\\\\\\\\"id\\\\\\\\\\\\\\\": \\\\\\\\\\\\\\\"37c37517-e88d-4100-a8d1-91e61b2f4a18\\\\\\\\\\\\\\\", \\\\\\\\\\\\\\\"type\\\\\\\\\\\\\\\": \\\\\\\\\\\\\\\"Microsoft.DPrep.SetColumnTypesBlock\\\\\\\\\\\\\\\", \\\\\\\\\\\\\\\"arguments\\\\\\\\\\\\\\\": {\\\\\\\\\\\\\\\"columnConversion\\\\\\\\\\\\\\\": [{\\\\\\\\\\\\\\\"column\\\\\\\\\\\\\\\": {\\\\\\\\\\\\\\\"type\\\\\\\\\\\\\\\": 2, \\\\\\\\\\\\\\\"details\\\\\\\\\\\\\\\": {\\\\\\\\\\\\\\\"selectedColumn\\\\\\\\\\\\\\\": \\\\\\\\\\\\\\\"DATE\\\\\\\\\\\\\\\"}}, \\\\\\\\\\\\\\\"typeArguments\\\\\\\\\\\\\\\": {\\\\\\\\\\\\\\\"dateTimeFormats\\\\\\\\\\\\\\\": [\\\\\\\\\\\\\\\"%m/%d/%y %H:%M\\\\\\\\\\\\\\\"]}, \\\\\\\\\\\\\\\"typeProperty\\\\\\\\\\\\\\\": 4}, {\\\\\\\\\\\\\\\"column\\\\\\\\\\\\\\\": {\\\\\\\\\\\\\\\"type\\\\\\\\\\\\\\\": 2, \\\\\\\\\\\\\\\"details\\\\\\\\\\\\\\\": {\\\\\\\\\\\\\\\"selectedColumn\\\\\\\\\\\\\\\": \\\\\\\\\\\\\\\"TOTAL Load\\\\\\\\\\\\\\\"}}, \\\\\\\\\\\\\\\"typeProperty\\\\\\\\\\\\\\\": 2}, {\\\\\\\\\\\\\\\"column\\\\\\\\\\\\\\\": {\\\\\\\\\\\\\\\"type\\\\\\\\\\\\\\\": 2, \\\\\\\\\\\\\\\"details\\\\\\\\\\\\\\\": {\\\\\\\\\\\\\\\"selectedColumn\\\\\\\\\\\\\\\": \\\\\\\\\\\\\\\"AVGTEMP\\\\\\\\\\\\\\\"}}, \\\\\\\\\\\\\\\"typeProperty\\\\\\\\\\\\\\\": 2}, {\\\\\\\\\\\\\\\"column\\\\\\\\\\\\\\\": {\\\\\\\\\\\\\\\"type\\\\\\\\\\\\\\\": 2, \\\\\\\\\\\\\\\"details\\\\\\\\\\\\\\\": {\\\\\\\\\\\\\\\"selectedColumn\\\\\\\\\\\\\\\": \\\\\\\\\\\\\\\"AVGHUM\\\\\\\\\\\\\\\"}}, \\\\\\\\\\\\\\\"typeProperty\\\\\\\\\\\\\\\": 2}, {\\\\\\\\\\\\\\\"column\\\\\\\\\\\\\\\": {\\\\\\\\\\\\\\\"type\\\\\\\\\\\\\\\": 2, \\\\\\\\\\\\\\\"details\\\\\\\\\\\\\\\": {\\\\\\\\\\\\\\\"selectedColumn\\\\\\\\\\\\\\\": \\\\\\\\\\\\\\\"HOL_IND\\\\\\\\\\\\\\\"}}, \\\\\\\\\\\\\\\"typeProperty\\\\\\\\\\\\\\\": 2}, {\\\\\\\\\\\\\\\"column\\\\\\\\\\\\\\\": {\\\\\\\\\\\\\\\"type\\\\\\\\\\\\\\\": 2, \\\\\\\\\\\\\\\"details\\\\\\\\\\\\\\\": {\\\\\\\\\\\\\\\"selectedColumn\\\\\\\\\\\\\\\": \\\\\\\\\\\\\\\"SUNRISE\\\\\\\\\\\\\\\"}}, \\\\\\\\\\\\\\\"typeProperty\\\\\\\\\\\\\\\": 0}, {\\\\\\\\\\\\\\\"column\\\\\\\\\\\\\\\": {\\\\\\\\\\\\\\\"type\\\\\\\\\\\\\\\": 2, \\\\\\\\\\\\\\\"details\\\\\\\\\\\\\\\": {\\\\\\\\\\\\\\\"selectedColumn\\\\\\\\\\\\\\\": \\\\\\\\\\\\\\\"SUNSET\\\\\\\\\\\\\\\"}}, \\\\\\\\\\\\\\\"typeProperty\\\\\\\\\\\\\\\": 0}]}, \\\\\\\\\\\\\\\"localData\\\\\\\\\\\\\\\": {}, \\\\\\\\\\\\\\\"isEnabled\\\\\\\\\\\\\\\": true, \\\\\\\\\\\\\\\"name\\\\\\\\\\\\\\\": null, \\\\\\\\\\\\\\\"annotation\\\\\\\\\\\\\\\": null}], \\\\\\\\\\\\\\\"inspectors\\\\\\\\\\\\\\\": [], \\\\\\\\\\\\\\\"meta\\\\\\\\\\\\\\\": {\\\\\\\\\\\\\\\"savedDatasetId\\\\\\\\\\\\\\\": \\\\\\\\\\\\\\\"af28b5ec-6f9a-4b14-a238-300afa566f73\\\\\\\\\\\\\\\", \\\\\\\\\\\\\\\"datasetType\\\\\\\\\\\\\\\": \\\\\\\\\\\\\\\"tabular\\\\\\\\\\\\\\\", \\\\\\\\\\\\\\\"subscriptionId\\\\\\\\\\\\\\\": \\\\\\\\\\\\\\\"cdbe0b43-92a0-4715-838a-f2648cc7ad21\\\\\\\\\\\\\\\", \\\\\\\\\\\\\\\"workspaceId\\\\\\\\\\\\\\\": \\\\\\\\\\\\\\\"98288941-d23f-4688-8733-0d0f60b22d5e\\\\\\\\\\\\\\\", \\\\\\\\\\\\\\\"workspaceLocation\\\\\\\\\\\\\\\": \\\\\\\\\\\\\\\"southcentralus\\\\\\\\\\\\\\\"}}\\\\\\\", \\\\\\\"activities\\\\\\\": 0}\", \"EnableSubsampling\": \"False\", \"runTemplate\": \"AutoML\", \"azureml.runsource\": \"automl\", \"display_task_type\": \"forecasting\", \"dependencies_versions\": \"{\\\"azureml-widgets\\\": \\\"1.19.0\\\", \\\"azureml-train\\\": \\\"1.19.0\\\", \\\"azureml-train-restclients-hyperdrive\\\": \\\"1.19.0\\\", \\\"azureml-train-core\\\": \\\"1.19.0\\\", \\\"azureml-train-automl\\\": \\\"1.19.0\\\", \\\"azureml-train-automl-runtime\\\": \\\"1.19.0\\\", \\\"azureml-train-automl-client\\\": \\\"1.19.0\\\", \\\"azureml-telemetry\\\": \\\"1.19.0\\\", \\\"azureml-model-management-sdk\\\": \\\"1.0.1b6.post1\\\", \\\"azureml-interpret\\\": \\\"1.19.0\\\", \\\"azureml-defaults\\\": \\\"1.19.0\\\", \\\"azureml-dataset-runtime\\\": \\\"1.19.0.post1\\\", \\\"azureml-dataprep\\\": \\\"2.6.3\\\", \\\"azureml-dataprep-rslex\\\": \\\"1.4.0\\\", \\\"azureml-dataprep-native\\\": \\\"26.0.0\\\", \\\"azureml-core\\\": \\\"1.19.0\\\", \\\"azureml-automl-runtime\\\": \\\"1.19.0\\\", \\\"azureml-automl-core\\\": \\\"1.19.0\\\"}\", \"_aml_system_scenario_identification\": \"Remote.Parent\", \"ClientType\": \"SDK\", \"environment_cpu_name\": \"AzureML-AutoML\", \"environment_cpu_label\": \"prod\", \"environment_gpu_name\": \"AzureML-AutoML-GPU\", \"environment_gpu_label\": \"prod\", \"root_attribution\": \"automl\", \"attribution\": \"AutoML\", \"Orchestrator\": \"AutoML\", \"CancelUri\": \"https://southcentralus.experiments.azureml.net/jasmine/v1.0/subscriptions/cdbe0b43-92a0-4715-838a-f2648cc7ad21/resourceGroups/aml-quickstarts-143075/providers/Microsoft.MachineLearningServices/workspaces/quick-starts-ws-143075/experimentids/9acddb54-6f7a-4d52-bfed-6a57446131da/cancel/AutoML_860b8b2a-c6bc-4a92-a016-a5cf99c17075\", \"ClientSdkVersion\": \"1.25.0\", \"snapshotId\": \"00000000-0000-0000-0000-000000000000\", \"SetupRunId\": \"AutoML_860b8b2a-c6bc-4a92-a016-a5cf99c17075_setup\", \"SetupRunContainerId\": \"dcid.AutoML_860b8b2a-c6bc-4a92-a016-a5cf99c17075_setup\", \"forecasting_target_lags\": \"[48]\", \"forecasting_target_rolling_window_size\": \"0\", \"forecasting_max_horizon\": \"48\", \"forecasting_freq\": \"30T\", \"ProblemInfoJsonString\": \"{\\\"dataset_num_categorical\\\": 0, \\\"is_sparse\\\": false, \\\"subsampling\\\": false, \\\"dataset_classes\\\": 14016, \\\"dataset_features\\\": 23, \\\"dataset_samples\\\": 2309736, \\\"single_frequency_class_detected\\\": false}\", \"ModelExplainRunId\": \"AutoML_860b8b2a-c6bc-4a92-a016-a5cf99c17075_ModelExplain\", \"azureml.git.repository_uri\": \"https://github.com/xquyvu/energy-usage-forecasting.git\", \"mlflow.source.git.repoURL\": \"https://github.com/xquyvu/energy-usage-forecasting.git\", \"azureml.git.branch\": \"main\", \"mlflow.source.git.branch\": \"main\", \"azureml.git.commit\": \"ba16c1d605653c104086b7e3b30eb85aa3a3f37d\", \"mlflow.source.git.commit\": \"ba16c1d605653c104086b7e3b30eb85aa3a3f37d\", \"azureml.git.dirty\": \"True\"}, \"tags\": {\"model_explain_run\": \"best_run\", \"_aml_system_azureml.automlComponent\": \"AutoML\", \"pipeline_id\": \"\", \"score\": \"\", \"predicted_cost\": \"\", \"fit_time\": \"\", \"training_percent\": \"\", \"iteration\": \"\", \"run_preprocessor\": \"\", \"run_algorithm\": \"\", \"automl_best_child_run_id\": \"AutoML_860b8b2a-c6bc-4a92-a016-a5cf99c17075_16\", \"model_explain_best_run_child_id\": \"AutoML_860b8b2a-c6bc-4a92-a016-a5cf99c17075_16\"}, \"end_time_utc\": \"2021-04-18T19:00:11.713309Z\", \"status\": \"Completed\", \"log_files\": {}, \"log_groups\": [], \"run_duration\": \"0:24:46\"}, \"child_runs\": [{\"run_id\": \"AutoML_860b8b2a-c6bc-4a92-a016-a5cf99c17075_0\", \"run_number\": 3, \"metric\": null, \"status\": \"Completed\", \"run_type\": \"azureml.scriptrun\", \"training_percent\": \"100\", \"start_time\": \"2021-04-18T18:49:23.314721Z\", \"end_time\": \"2021-04-18T18:58:18.404814Z\", \"created_time\": \"2021-04-18T18:43:27.862254Z\", \"created_time_dt\": \"2021-04-18T18:43:27.862254Z\", \"duration\": \"0:14:50\", \"iteration\": \"0\", \"goal\": \"r2_score_max\", \"run_name\": \"SparseNormalizer, XGBoostRegressor\", \"run_properties\": \"<azureml.automl.runtime.shared.model_wrappers.SparseNormalizer object at 0x7fd1bd38a160\", \"primary_metric\": 0.7336744, \"best_metric\": 0.7336744}, {\"run_id\": \"AutoML_860b8b2a-c6bc-4a92-a016-a5cf99c17075_9\", \"run_number\": 4, \"metric\": null, \"status\": \"Completed\", \"run_type\": \"azureml.scriptrun\", \"training_percent\": \"100\", \"start_time\": \"2021-04-18T18:46:47.864742Z\", \"end_time\": \"2021-04-18T18:49:09.142722Z\", \"created_time\": \"2021-04-18T18:43:27.954386Z\", \"created_time_dt\": \"2021-04-18T18:43:27.954386Z\", \"duration\": \"0:05:41\", \"iteration\": \"9\", \"goal\": \"r2_score_max\", \"run_name\": \"MinMaxScaler, RandomForest\", \"run_properties\": \"copy=True, feature_range=(0, 1\", \"primary_metric\": 0.30413244, \"best_metric\": 0.7336744}, {\"run_id\": \"AutoML_860b8b2a-c6bc-4a92-a016-a5cf99c17075_2\", \"run_number\": 5, \"metric\": null, \"status\": \"Completed\", \"run_type\": \"azureml.scriptrun\", \"training_percent\": \"100\", \"start_time\": \"2021-04-18T18:46:41.279759Z\", \"end_time\": \"2021-04-18T18:58:24.86413Z\", \"created_time\": \"2021-04-18T18:43:27.958331Z\", \"created_time_dt\": \"2021-04-18T18:43:27.958331Z\", \"duration\": \"0:14:56\", \"iteration\": \"2\", \"goal\": \"r2_score_max\", \"run_name\": \"StandardScalerWrapper, XGBoostRegressor\", \"run_properties\": \"<azureml.automl.runtime.shared.model_wrappers.StandardScalerWrapper object at 0x7f0f2dd40898\", \"primary_metric\": 0.31270953, \"best_metric\": 0.7336744}, {\"run_id\": \"AutoML_860b8b2a-c6bc-4a92-a016-a5cf99c17075_5\", \"run_number\": 6, \"metric\": null, \"status\": \"Completed\", \"run_type\": \"azureml.scriptrun\", \"training_percent\": \"100\", \"start_time\": \"2021-04-18T18:46:45.572709Z\", \"end_time\": \"2021-04-18T18:54:41.884103Z\", \"created_time\": \"2021-04-18T18:43:27.9726Z\", \"created_time_dt\": \"2021-04-18T18:43:27.9726Z\", \"duration\": \"0:11:13\", \"iteration\": \"5\", \"goal\": \"r2_score_max\", \"run_name\": \"StandardScalerWrapper, XGBoostRegressor\", \"run_properties\": \"<azureml.automl.runtime.shared.model_wrappers.StandardScalerWrapper object at 0x7f8fd08809b0\", \"primary_metric\": 0.47719141, \"best_metric\": 0.7336744}, {\"run_id\": \"AutoML_860b8b2a-c6bc-4a92-a016-a5cf99c17075_3\", \"run_number\": 7, \"metric\": null, \"status\": \"Completed\", \"run_type\": \"azureml.scriptrun\", \"training_percent\": \"100\", \"start_time\": \"2021-04-18T18:53:34.717745Z\", \"end_time\": \"2021-04-18T18:55:24.634478Z\", \"created_time\": \"2021-04-18T18:43:27.99476Z\", \"created_time_dt\": \"2021-04-18T18:43:27.99476Z\", \"duration\": \"0:11:56\", \"iteration\": \"3\", \"goal\": \"r2_score_max\", \"run_name\": \"MaxAbsScaler, ElasticNet\", \"run_properties\": \"copy=True\", \"primary_metric\": 0.42331979, \"best_metric\": 0.7336744}, {\"run_id\": \"AutoML_860b8b2a-c6bc-4a92-a016-a5cf99c17075_7\", \"run_number\": 8, \"metric\": null, \"status\": \"Completed\", \"run_type\": \"azureml.scriptrun\", \"training_percent\": \"100\", \"start_time\": \"2021-04-18T18:52:08.991865Z\", \"end_time\": \"2021-04-18T18:53:12.236769Z\", \"created_time\": \"2021-04-18T18:43:28.005926Z\", \"created_time_dt\": \"2021-04-18T18:43:28.005926Z\", \"duration\": \"0:09:44\", \"iteration\": \"7\", \"goal\": \"r2_score_max\", \"run_name\": \"StandardScalerWrapper, ElasticNet\", \"run_properties\": \"<azureml.automl.runtime.shared.model_wrappers.StandardScalerWrapper object at 0x7f31999c5860\", \"primary_metric\": 0.42181186, \"best_metric\": 0.7336744}, {\"run_id\": \"AutoML_860b8b2a-c6bc-4a92-a016-a5cf99c17075_8\", \"run_number\": 9, \"metric\": null, \"status\": \"Canceled\", \"run_type\": \"azureml.scriptrun\", \"training_percent\": \"100\", \"start_time\": \"2021-04-18T18:46:42.780674Z\", \"end_time\": \"2021-04-18T18:58:33.163059Z\", \"created_time\": \"2021-04-18T18:43:28.064264Z\", \"created_time_dt\": \"2021-04-18T18:43:28.064264Z\", \"duration\": \"0:15:05\", \"iteration\": \"8\", \"goal\": null, \"run_name\": \"MinMaxScaler, RandomForest\", \"run_properties\": null}, {\"run_id\": \"AutoML_860b8b2a-c6bc-4a92-a016-a5cf99c17075_6\", \"run_number\": 10, \"metric\": null, \"status\": \"Completed\", \"run_type\": \"azureml.scriptrun\", \"training_percent\": \"100\", \"start_time\": \"2021-04-18T18:43:41.183374Z\", \"end_time\": \"2021-04-18T18:51:47.271693Z\", \"created_time\": \"2021-04-18T18:43:27.960032Z\", \"created_time_dt\": \"2021-04-18T18:43:27.960032Z\", \"duration\": \"0:08:19\", \"iteration\": \"6\", \"goal\": \"r2_score_max\", \"run_name\": \"MinMaxScaler, ExtremeRandomTrees\", \"run_properties\": \"copy=True, feature_range=(0, 1\", \"primary_metric\": 0.60251292, \"best_metric\": 0.7336744}, {\"run_id\": \"AutoML_860b8b2a-c6bc-4a92-a016-a5cf99c17075_1\", \"run_number\": 11, \"metric\": null, \"status\": \"Canceled\", \"run_type\": \"azureml.scriptrun\", \"training_percent\": \"100\", \"start_time\": \"2021-04-18T18:46:44.498492Z\", \"end_time\": \"2021-04-18T18:58:33.468387Z\", \"created_time\": \"2021-04-18T18:43:27.973264Z\", \"created_time_dt\": \"2021-04-18T18:43:27.973264Z\", \"duration\": \"0:15:05\", \"iteration\": \"1\", \"goal\": null, \"run_name\": \"MaxAbsScaler, RandomForest\", \"run_properties\": null}, {\"run_id\": \"AutoML_860b8b2a-c6bc-4a92-a016-a5cf99c17075_4\", \"run_number\": 12, \"metric\": null, \"status\": \"Canceled\", \"run_type\": \"azureml.scriptrun\", \"training_percent\": \"100\", \"start_time\": \"2021-04-18T18:54:56.868079Z\", \"end_time\": \"2021-04-18T18:58:33.712702Z\", \"created_time\": \"2021-04-18T18:43:28.002966Z\", \"created_time_dt\": \"2021-04-18T18:43:28.002966Z\", \"duration\": \"0:15:05\", \"iteration\": \"4\", \"goal\": null, \"run_name\": \"MinMaxScaler, RandomForest\", \"run_properties\": null}, {\"run_id\": \"AutoML_860b8b2a-c6bc-4a92-a016-a5cf99c17075_10\", \"run_number\": 13, \"metric\": null, \"status\": \"Canceled\", \"run_type\": \"azureml.scriptrun\", \"training_percent\": \"100\", \"start_time\": \"2021-04-18T18:55:33.503474Z\", \"end_time\": \"2021-04-18T18:58:41.817875Z\", \"created_time\": \"2021-04-18T18:49:13.242467Z\", \"created_time_dt\": \"2021-04-18T18:49:13.242467Z\", \"duration\": \"0:09:28\", \"iteration\": \"10\", \"goal\": \"r2_score_max\", \"run_name\": \"StandardScalerWrapper, XGBoostRegressor\", \"run_properties\": \"<azureml.automl.runtime.shared.model_wrappers.StandardScalerWrapper object at 0x7f8dc0068c88\", \"primary_metric\": 0.60909407, \"best_metric\": 0.7336744}, {\"run_id\": \"AutoML_860b8b2a-c6bc-4a92-a016-a5cf99c17075_11\", \"run_number\": 14, \"metric\": null, \"status\": \"Canceled\", \"run_type\": \"azureml.scriptrun\", \"training_percent\": \"100\", \"start_time\": \"2021-04-18T18:51:52.142722Z\", \"end_time\": \"2021-04-18T18:58:33.481488Z\", \"created_time\": \"2021-04-18T18:51:52.142722Z\", \"created_time_dt\": \"2021-04-18T18:51:52.142722Z\", \"duration\": \"0:06:41\", \"iteration\": \"11\", \"goal\": null, \"run_name\": \"Canceled\", \"run_properties\": null}, {\"run_id\": \"AutoML_860b8b2a-c6bc-4a92-a016-a5cf99c17075_12\", \"run_number\": 15, \"metric\": null, \"status\": \"Canceled\", \"run_type\": \"azureml.scriptrun\", \"training_percent\": \"100\", \"start_time\": \"2021-04-18T18:53:16.220965Z\", \"end_time\": \"2021-04-18T18:58:33.744362Z\", \"created_time\": \"2021-04-18T18:53:16.220965Z\", \"created_time_dt\": \"2021-04-18T18:53:16.220965Z\", \"duration\": \"0:05:17\", \"iteration\": \"12\", \"goal\": null, \"run_name\": \"Canceled\", \"run_properties\": null}, {\"run_id\": \"AutoML_860b8b2a-c6bc-4a92-a016-a5cf99c17075_13\", \"run_number\": 16, \"metric\": null, \"status\": \"Canceled\", \"run_type\": \"azureml.scriptrun\", \"training_percent\": \"100\", \"start_time\": \"2021-04-18T18:54:46.710518Z\", \"end_time\": \"2021-04-18T18:58:33.75244Z\", \"created_time\": \"2021-04-18T18:54:46.710518Z\", \"created_time_dt\": \"2021-04-18T18:54:46.710518Z\", \"duration\": \"0:03:47\", \"iteration\": \"13\", \"goal\": null, \"run_name\": \"Canceled\", \"run_properties\": null}, {\"run_id\": \"AutoML_860b8b2a-c6bc-4a92-a016-a5cf99c17075_14\", \"run_number\": 17, \"metric\": null, \"status\": \"Canceled\", \"run_type\": \"azureml.scriptrun\", \"training_percent\": \"100\", \"start_time\": \"2021-04-18T18:55:28.926082Z\", \"end_time\": \"2021-04-18T18:58:33.78889Z\", \"created_time\": \"2021-04-18T18:55:28.926082Z\", \"created_time_dt\": \"2021-04-18T18:55:28.926082Z\", \"duration\": \"0:03:04\", \"iteration\": \"14\", \"goal\": null, \"run_name\": \"Canceled\", \"run_properties\": null}, {\"run_id\": \"AutoML_860b8b2a-c6bc-4a92-a016-a5cf99c17075_15\", \"run_number\": 18, \"metric\": null, \"status\": \"Canceled\", \"run_type\": \"azureml.scriptrun\", \"training_percent\": \"100\", \"start_time\": \"2021-04-18T18:58:23.326736Z\", \"end_time\": \"2021-04-18T18:58:40.075928Z\", \"created_time\": \"2021-04-18T18:58:23.326736Z\", \"created_time_dt\": \"2021-04-18T18:58:23.326736Z\", \"duration\": \"0:00:16\", \"iteration\": \"15\", \"goal\": null, \"run_name\": \"Canceled\", \"run_properties\": null}, {\"run_id\": \"AutoML_860b8b2a-c6bc-4a92-a016-a5cf99c17075_16\", \"run_number\": 19, \"metric\": null, \"status\": \"Completed\", \"run_type\": \"azureml.scriptrun\", \"training_percent\": \"100\", \"start_time\": \"2021-04-18T18:58:54.750723Z\", \"end_time\": \"2021-04-18T19:00:08.974969Z\", \"created_time\": \"2021-04-18T18:58:43.098159Z\", \"created_time_dt\": \"2021-04-18T18:58:43.098159Z\", \"duration\": \"0:01:25\", \"iteration\": \"16\", \"goal\": \"r2_score_max\", \"run_name\": \"VotingEnsemble\", \"run_properties\": \"estimators=[('0',\\n                                          Pipeline(memory=None,\\n                                                   steps=[('sparsenormalizer',\\n                                                           <azureml.automl.runtime.shared.model_wrappers.SparseNormalizer object at 0x7f98c1e29550>\", \"primary_metric\": 0.75091109, \"best_metric\": 0.75091109}], \"children_metrics\": {\"categories\": [0], \"series\": {\"normalized_root_mean_squared_error\": [{\"categories\": [\"0\", \"2\", \"3\", \"5\", \"6\", \"7\", \"9\", \"10\", \"16\"], \"mode\": \"markers\", \"name\": \"normalized_root_mean_squared_error\", \"stepped\": false, \"type\": \"scatter\", \"data\": [0.09848523939469926, 0.15821033587391112, 0.1449212974672838, 0.13798632447996712, 0.12031677935379308, 0.14511064700917778, 0.15919447256151126, 0.11931658690129185, 0.09524493376257916]}, {\"categories\": [\"0\", \"2\", \"3\", \"5\", \"6\", \"7\", \"9\", \"10\", \"16\"], \"mode\": \"lines\", \"name\": \"normalized_root_mean_squared_error_min\", \"stepped\": true, \"type\": \"scatter\", \"data\": [0.09848523939469926, 0.09848523939469926, 0.09848523939469926, 0.09848523939469926, 0.09848523939469926, 0.09848523939469926, 0.09848523939469926, 0.09848523939469926, 0.09524493376257916]}], \"mean_absolute_percentage_error\": [{\"categories\": [\"0\", \"2\", \"3\", \"5\", \"6\", \"7\", \"9\", \"10\", \"16\"], \"mode\": \"markers\", \"name\": \"mean_absolute_percentage_error\", \"stepped\": false, \"type\": \"scatter\", \"data\": [12.643974939389885, 23.175467502086764, 22.605581821633855, 18.01976811590293, 17.704852778956457, 22.638986658533696, 24.113960177793576, 16.083992018222634, 12.011923539030041]}, {\"categories\": [\"0\", \"2\", \"3\", \"5\", \"6\", \"7\", \"9\", \"10\", \"16\"], \"mode\": \"lines\", \"name\": \"mean_absolute_percentage_error_min\", \"stepped\": true, \"type\": \"scatter\", \"data\": [12.643974939389885, 12.643974939389885, 12.643974939389885, 12.643974939389885, 12.643974939389885, 12.643974939389885, 12.643974939389885, 12.643974939389885, 12.011923539030041]}], \"normalized_median_absolute_error\": [{\"categories\": [\"0\", \"2\", \"3\", \"5\", \"6\", \"7\", \"9\", \"10\", \"16\"], \"mode\": \"markers\", \"name\": \"normalized_median_absolute_error\", \"stepped\": false, \"type\": \"scatter\", \"data\": [0.050858199245348484, 0.11697633853059808, 0.0945658654150855, 0.08493363593485709, 0.057590500043050295, 0.0946306329147358, 0.0697765475927981, 0.079335519039771, 0.047515062680566315]}, {\"categories\": [\"0\", \"2\", \"3\", \"5\", \"6\", \"7\", \"9\", \"10\", \"16\"], \"mode\": \"lines\", \"name\": \"normalized_median_absolute_error_min\", \"stepped\": true, \"type\": \"scatter\", \"data\": [0.050858199245348484, 0.050858199245348484, 0.050858199245348484, 0.050858199245348484, 0.050858199245348484, 0.050858199245348484, 0.050858199245348484, 0.050858199245348484, 0.047515062680566315]}], \"r2_score\": [{\"categories\": [\"0\", \"2\", \"3\", \"5\", \"6\", \"7\", \"9\", \"10\", \"16\"], \"mode\": \"markers\", \"name\": \"r2_score\", \"stepped\": false, \"type\": \"scatter\", \"data\": [0.7336744027226058, 0.31270952543251584, 0.4233197912463643, 0.47719141200712956, 0.6025129205684114, 0.4218118628736385, 0.3041324437963484, 0.6090940658995472, 0.7509110923727431]}, {\"categories\": [\"0\", \"2\", \"3\", \"5\", \"6\", \"7\", \"9\", \"10\", \"16\"], \"mode\": \"lines\", \"name\": \"r2_score_max\", \"stepped\": true, \"type\": \"scatter\", \"data\": [0.7336744027226058, 0.7336744027226058, 0.7336744027226058, 0.7336744027226058, 0.7336744027226058, 0.7336744027226058, 0.7336744027226058, 0.7336744027226058, 0.7509110923727431]}], \"root_mean_squared_error\": [{\"categories\": [\"0\", \"2\", \"3\", \"5\", \"6\", \"7\", \"9\", \"10\", \"16\"], \"mode\": \"markers\", \"name\": \"root_mean_squared_error\", \"stepped\": false, \"type\": \"scatter\", \"data\": [45415.48329447162, 72957.11428489538, 66829.00711406325, 63631.01367069204, 55482.87963120814, 66916.32376181224, 73410.9390770153, 55021.65088366172, 43921.24875527575]}, {\"categories\": [\"0\", \"2\", \"3\", \"5\", \"6\", \"7\", \"9\", \"10\", \"16\"], \"mode\": \"lines\", \"name\": \"root_mean_squared_error_min\", \"stepped\": true, \"type\": \"scatter\", \"data\": [45415.48329447162, 45415.48329447162, 45415.48329447162, 45415.48329447162, 45415.48329447162, 45415.48329447162, 45415.48329447162, 45415.48329447162, 43921.24875527575]}], \"normalized_root_mean_squared_log_error\": [{\"categories\": [\"0\", \"2\", \"3\", \"5\", \"6\", \"7\", \"9\", \"10\", \"16\"], \"mode\": \"markers\", \"name\": \"normalized_root_mean_squared_log_error\", \"stepped\": false, \"type\": \"scatter\", \"data\": [0.057285048098464686, 0.09198679584049549, 0.08473074062004246, 0.07744980936163008, 0.07231311729657637, 0.08484231580093862, 0.09413752224413872, 0.06379094911821787, 0.05339412816608649]}, {\"categories\": [\"0\", \"2\", \"3\", \"5\", \"6\", \"7\", \"9\", \"10\", \"16\"], \"mode\": \"lines\", \"name\": \"normalized_root_mean_squared_log_error_min\", \"stepped\": true, \"type\": \"scatter\", \"data\": [0.057285048098464686, 0.057285048098464686, 0.057285048098464686, 0.057285048098464686, 0.057285048098464686, 0.057285048098464686, 0.057285048098464686, 0.057285048098464686, 0.05339412816608649]}], \"explained_variance\": [{\"categories\": [\"0\", \"2\", \"3\", \"5\", \"6\", \"7\", \"9\", \"10\", \"16\"], \"mode\": \"markers\", \"name\": \"explained_variance\", \"stepped\": false, \"type\": \"scatter\", \"data\": [0.733842426846248, 0.3776117470877821, 0.43988948912841863, 0.5509593514813691, 0.6103364922896366, 0.43797703578867997, 0.31747842885443966, 0.651025158010651, 0.7510450991692319]}, {\"categories\": [\"0\", \"2\", \"3\", \"5\", \"6\", \"7\", \"9\", \"10\", \"16\"], \"mode\": \"lines\", \"name\": \"explained_variance_max\", \"stepped\": true, \"type\": \"scatter\", \"data\": [0.733842426846248, 0.733842426846248, 0.733842426846248, 0.733842426846248, 0.733842426846248, 0.733842426846248, 0.733842426846248, 0.733842426846248, 0.7510450991692319]}], \"spearman_correlation\": [{\"categories\": [\"0\", \"2\", \"3\", \"5\", \"6\", \"7\", \"9\", \"10\", \"16\"], \"mode\": \"markers\", \"name\": \"spearman_correlation\", \"stepped\": false, \"type\": \"scatter\", \"data\": [0.8558938587577731, 0.7221170258233125, 0.7001121343499993, 0.783996323461708, 0.8139769093793621, 0.7002458074180975, 0.6014228437296595, 0.8105158890848099, 0.864532904131909]}, {\"categories\": [\"0\", \"2\", \"3\", \"5\", \"6\", \"7\", \"9\", \"10\", \"16\"], \"mode\": \"lines\", \"name\": \"spearman_correlation_max\", \"stepped\": true, \"type\": \"scatter\", \"data\": [0.8558938587577731, 0.8558938587577731, 0.8558938587577731, 0.8558938587577731, 0.8558938587577731, 0.8558938587577731, 0.8558938587577731, 0.8558938587577731, 0.864532904131909]}], \"median_absolute_error\": [{\"categories\": [\"0\", \"2\", \"3\", \"5\", \"6\", \"7\", \"9\", \"10\", \"16\"], \"mode\": \"markers\", \"name\": \"median_absolute_error\", \"stepped\": false, \"type\": \"scatter\", \"data\": [23452.75, 53942.46875, 43608.10317751253, 39166.296875, 26557.283189852213, 43637.97006230126, 32176.757156942913, 36584.78125, 21911.096004516352]}, {\"categories\": [\"0\", \"2\", \"3\", \"5\", \"6\", \"7\", \"9\", \"10\", \"16\"], \"mode\": \"lines\", \"name\": \"median_absolute_error_min\", \"stepped\": true, \"type\": \"scatter\", \"data\": [23452.75, 23452.75, 23452.75, 23452.75, 23452.75, 23452.75, 23452.75, 23452.75, 21911.096004516352]}], \"normalized_mean_absolute_error\": [{\"categories\": [\"0\", \"2\", \"3\", \"5\", \"6\", \"7\", \"9\", \"10\", \"16\"], \"mode\": \"markers\", \"name\": \"normalized_mean_absolute_error\", \"stepped\": false, \"type\": \"scatter\", \"data\": [0.06930702749217607, 0.12595489510510585, 0.11409697827575545, 0.1043952990982401, 0.0872920051746913, 0.11423939842075767, 0.1126202217263439, 0.09442028552095542, 0.06597407954390291]}, {\"categories\": [\"0\", \"2\", \"3\", \"5\", \"6\", \"7\", \"9\", \"10\", \"16\"], \"mode\": \"lines\", \"name\": \"normalized_mean_absolute_error_min\", \"stepped\": true, \"type\": \"scatter\", \"data\": [0.06930702749217607, 0.06930702749217607, 0.06930702749217607, 0.06930702749217607, 0.06930702749217607, 0.06930702749217607, 0.06930702749217607, 0.06930702749217607, 0.06597407954390291]}], \"mean_absolute_error\": [{\"categories\": [\"0\", \"2\", \"3\", \"5\", \"6\", \"7\", \"9\", \"10\", \"16\"], \"mode\": \"markers\", \"name\": \"mean_absolute_error\", \"stepped\": false, \"type\": \"scatter\", \"data\": [31960.242657742074, 58082.840328768514, 52614.68056208187, 48140.84822616244, 40253.83526625714, 52680.35618774819, 51933.689046886226, 43540.97046513338, 30423.28704087539]}, {\"categories\": [\"0\", \"2\", \"3\", \"5\", \"6\", \"7\", \"9\", \"10\", \"16\"], \"mode\": \"lines\", \"name\": \"mean_absolute_error_min\", \"stepped\": true, \"type\": \"scatter\", \"data\": [31960.242657742074, 31960.242657742074, 31960.242657742074, 31960.242657742074, 31960.242657742074, 31960.242657742074, 31960.242657742074, 31960.242657742074, 30423.28704087539]}], \"root_mean_squared_log_error\": [{\"categories\": [\"0\", \"2\", \"3\", \"5\", \"6\", \"7\", \"9\", \"10\", \"16\"], \"mode\": \"markers\", \"name\": \"root_mean_squared_log_error\", \"stepped\": false, \"type\": \"scatter\", \"data\": [0.18512306377157414, 0.29726565723140613, 0.2738169002189809, 0.25028775349729654, 0.23368795644206178, 0.2741774679415193, 0.304215971046147, 0.2061476132718406, 0.17254911921393584]}, {\"categories\": [\"0\", \"2\", \"3\", \"5\", \"6\", \"7\", \"9\", \"10\", \"16\"], \"mode\": \"lines\", \"name\": \"root_mean_squared_log_error_min\", \"stepped\": true, \"type\": \"scatter\", \"data\": [0.18512306377157414, 0.18512306377157414, 0.18512306377157414, 0.18512306377157414, 0.18512306377157414, 0.18512306377157414, 0.18512306377157414, 0.18512306377157414, 0.17254911921393584]}]}, \"metricName\": null, \"primaryMetricName\": \"r2_score\", \"showLegend\": false}, \"run_metrics\": [{\"name\": \"experiment_status\", \"run_id\": \"AutoML_860b8b2a-c6bc-4a92-a016-a5cf99c17075\", \"categories\": [0, 1, 2, 3, 4, 5, 6, 7, 8, 9, 10], \"series\": [{\"data\": [\"DatasetFeaturization\", \"DatasetFeaturizationCompleted\", \"ModelSelection\", \"BestRunExplainModel\", \"ModelExplanationDataSetSetup\", \"PickSurrogateModel\", \"EngineeredFeatureExplanations\", \"EngineeredFeatureExplanations\", \"RawFeaturesExplanations\", \"RawFeaturesExplanations\", \"BestRunExplainModel\"]}]}, {\"name\": \"experiment_status_description\", \"run_id\": \"AutoML_860b8b2a-c6bc-4a92-a016-a5cf99c17075\", \"categories\": [0, 1, 2, 3, 4, 5, 6, 7, 8, 9, 10], \"series\": [{\"data\": [\"Beginning to featurize the dataset.\", \"Completed featurizing the dataset.\", \"Beginning model selection.\", \"Best run model explanations started\", \"Model explanations data setup completed\", \"Choosing LightGBM as the surrogate model for explanations\", \"Computation of engineered features started\", \"Computation of engineered features completed\", \"Computation of raw features started\", \"Computation of raw features completed\", \"Best run model explanations completed\"]}]}, {\"name\": \"spearman_correlation\", \"run_id\": \"AutoML_860b8b2a-c6bc-4a92-a016-a5cf99c17075\", \"categories\": [0], \"series\": [{\"data\": [0.864532904131909]}]}, {\"name\": \"root_mean_squared_error\", \"run_id\": \"AutoML_860b8b2a-c6bc-4a92-a016-a5cf99c17075\", \"categories\": [0], \"series\": [{\"data\": [43921.24875527575]}]}, {\"name\": \"root_mean_squared_log_error\", \"run_id\": \"AutoML_860b8b2a-c6bc-4a92-a016-a5cf99c17075\", \"categories\": [0], \"series\": [{\"data\": [0.17254911921393584]}]}, {\"name\": \"normalized_root_mean_squared_log_error\", \"run_id\": \"AutoML_860b8b2a-c6bc-4a92-a016-a5cf99c17075\", \"categories\": [0], \"series\": [{\"data\": [0.05339412816608649]}]}, {\"name\": \"r2_score\", \"run_id\": \"AutoML_860b8b2a-c6bc-4a92-a016-a5cf99c17075\", \"categories\": [0], \"series\": [{\"data\": [0.7509110923727431]}]}, {\"name\": \"explained_variance\", \"run_id\": \"AutoML_860b8b2a-c6bc-4a92-a016-a5cf99c17075\", \"categories\": [0], \"series\": [{\"data\": [0.7510450991692319]}]}, {\"name\": \"normalized_median_absolute_error\", \"run_id\": \"AutoML_860b8b2a-c6bc-4a92-a016-a5cf99c17075\", \"categories\": [0], \"series\": [{\"data\": [0.047515062680566315]}]}, {\"name\": \"normalized_root_mean_squared_error\", \"run_id\": \"AutoML_860b8b2a-c6bc-4a92-a016-a5cf99c17075\", \"categories\": [0], \"series\": [{\"data\": [0.09524493376257916]}]}, {\"name\": \"normalized_mean_absolute_error\", \"run_id\": \"AutoML_860b8b2a-c6bc-4a92-a016-a5cf99c17075\", \"categories\": [0], \"series\": [{\"data\": [0.06597407954390291]}]}, {\"name\": \"mean_absolute_percentage_error\", \"run_id\": \"AutoML_860b8b2a-c6bc-4a92-a016-a5cf99c17075\", \"categories\": [0], \"series\": [{\"data\": [12.011923539030041]}]}, {\"name\": \"mean_absolute_error\", \"run_id\": \"AutoML_860b8b2a-c6bc-4a92-a016-a5cf99c17075\", \"categories\": [0], \"series\": [{\"data\": [30423.28704087539]}]}, {\"name\": \"median_absolute_error\", \"run_id\": \"AutoML_860b8b2a-c6bc-4a92-a016-a5cf99c17075\", \"categories\": [0], \"series\": [{\"data\": [21911.096004516352]}]}], \"run_logs\": \"\\nRun is completed.\", \"graph\": {}, \"widget_settings\": {\"childWidgetDisplay\": \"popup\", \"send_telemetry\": false, \"log_level\": \"INFO\", \"sdk_version\": \"1.19.0\"}, \"loading\": false}"
     },
     "metadata": {}
    }
   ],
   "source": [
    "RunDetails(remote_run).show()"
   ]
  },
  {
   "cell_type": "markdown",
   "metadata": {},
   "source": [
    "## Displaying the best model"
   ]
  },
  {
   "source": [
    "The best model generated by AutoML is a SoftVottingRegressor, which is an ensemble of 4 models: 3 `XGBoostRegressor`s, and 1 `ElasticNet`. It managed to achieve an R2 score of 0.75, which was inferior to what achieved by the HyperDrive run. \n",
    "\n",
    "I believe the main cause was that it couldn't make sense of the `SUNRISE` and `SUNSET` columns in the dataset, therefore they weren't utilised (or not utilised correctly.)"
   ],
   "cell_type": "markdown",
   "metadata": {}
  },
  {
   "cell_type": "code",
   "execution_count": 9,
   "metadata": {
    "gather": {
     "logged": 1598431425670
    },
    "jupyter": {
     "outputs_hidden": false,
     "source_hidden": false
    },
    "nteract": {
     "transient": {
      "deleting": false
     }
    }
   },
   "outputs": [
    {
     "output_type": "stream",
     "name": "stderr",
     "text": [
      "WARNING:root:The version of the SDK does not match the version the model was trained on.\n",
      "WARNING:root:The consistency in the result may not be guaranteed.\n",
      "WARNING:root:Package:azureml-automl-core, training version:1.25.0, current version:1.19.0\n",
      "Package:azureml-automl-runtime, training version:1.25.0, current version:1.19.0\n",
      "Package:azureml-core, training version:1.25.0, current version:1.19.0\n",
      "Package:azureml-dataprep, training version:2.11.2, current version:2.6.3\n",
      "Package:azureml-dataprep-native, training version:30.0.0, current version:26.0.0\n",
      "Package:azureml-dataprep-rslex, training version:1.9.1, current version:1.4.0\n",
      "Package:azureml-dataset-runtime, training version:1.25.0, current version:1.19.0.post1\n",
      "Package:azureml-defaults, training version:1.25.0, current version:1.19.0\n",
      "Package:azureml-interpret, training version:1.25.0, current version:1.19.0\n",
      "Package:azureml-telemetry, training version:1.25.0, current version:1.19.0\n",
      "Package:azureml-train-automl-client, training version:1.25.0, current version:1.19.0\n",
      "Package:azureml-train-automl-runtime, training version:1.25.0, current version:1.19.0\n",
      "WARNING:root:Below packages were used for model training but missing in current environment:\n",
      "WARNING:root:Package:azureml-mlflow, training version:1.25.0\n",
      "Package:azureml-pipeline-core, training version:1.25.0\n",
      "WARNING:root:Please ensure the version of your local conda dependencies match the version on which your model was trained in order to properly retrieve your model.\n"
     ]
    }
   ],
   "source": [
    "# Retrieve and save the best automl model.\n",
    "aml_best_run, aml_model = remote_run.get_output()\n",
    "\n",
    "aml_best_run.download_file('outputs/model.pkl', 'outputs/aml_model.pkl')"
   ]
  },
  {
   "cell_type": "code",
   "execution_count": 16,
   "metadata": {},
   "outputs": [
    {
     "output_type": "stream",
     "name": "stdout",
     "text": [
      "Run(Experiment: automl-energyforecast,\nId: AutoML_860b8b2a-c6bc-4a92-a016-a5cf99c17075_16,\nType: azureml.scriptrun,\nStatus: Completed)\n"
     ]
    }
   ],
   "source": [
    "# Show performance\n",
    "print(aml_best_run)"
   ]
  },
  {
   "cell_type": "code",
   "execution_count": 15,
   "metadata": {},
   "outputs": [
    {
     "output_type": "stream",
     "name": "stdout",
     "text": [
      "{'root_mean_squared_error': 43921.24875527575, 'median_absolute_error': 21911.096004516352, 'normalized_root_mean_squared_log_error': 0.05339412816608649, 'explained_variance': 0.7510450991692319, 'mean_absolute_percentage_error': 12.011923539030041, 'normalized_median_absolute_error': 0.047515062680566315, 'normalized_root_mean_squared_error': 0.09524493376257916, 'r2_score': 0.7509110923727431, 'normalized_mean_absolute_error': 0.06597407954390291, 'mean_absolute_error': 30423.28704087539, 'spearman_correlation': 0.864532904131909, 'root_mean_squared_log_error': 0.17254911921393584, 'residuals': 'aml://artifactId/ExperimentRun/dcid.AutoML_860b8b2a-c6bc-4a92-a016-a5cf99c17075_16/residuals', 'predicted_true': 'aml://artifactId/ExperimentRun/dcid.AutoML_860b8b2a-c6bc-4a92-a016-a5cf99c17075_16/predicted_true'}\n"
     ]
    }
   ],
   "source": [
    "print(aml_best_run.get_metrics())"
   ]
  },
  {
   "cell_type": "code",
   "execution_count": 11,
   "metadata": {},
   "outputs": [
    {
     "output_type": "stream",
     "name": "stdout",
     "text": [
      "ForecastingPipelineWrapper(pipeline=Pipeline(memory=None,\n                                             steps=[('timeseriestransformer',\n                                                     TimeSeriesTransformer(featurization_config=None,\n                                                                           pipeline_type=<TimeSeriesPipelineType.FULL: 1>)),\n                                                    ('prefittedsoftvotingregressor',\n                                                     PreFittedSoftVotingRegressor(estimators=[('0',\n                                                                                               Pipeline(memory=None,\n                                                                                                        steps=[('sparsenormalizer',\n                                                                                                                <azureml.automl.runtime.shared.model_wr...\n                                                                                                                ElasticNet(alpha=0.05357894736842105,\n                                                                                                                           copy_X=True,\n                                                                                                                           fit_intercept=True,\n                                                                                                                           l1_ratio=0.6873684210526316,\n                                                                                                                           max_iter=1000,\n                                                                                                                           normalize=False,\n                                                                                                                           positive=False,\n                                                                                                                           precompute=False,\n                                                                                                                           random_state=None,\n                                                                                                                           selection='cyclic',\n                                                                                                                           tol=0.0001,\n                                                                                                                           warm_start=False))],\n                                                                                                        verbose=False))],\n                                                                                  weights=[0.7142857142857143,\n                                                                                           0.14285714285714285,\n                                                                                           0.07142857142857142,\n                                                                                           0.07142857142857142]))],\n                                             verbose=False),\n                           stddev=None)\n"
     ]
    }
   ],
   "source": [
    "print(aml_model)"
   ]
  },
  {
   "cell_type": "code",
   "execution_count": 12,
   "metadata": {},
   "outputs": [
    {
     "output_type": "execute_result",
     "data": {
      "text/plain": [
       "PreFittedSoftVotingRegressor(estimators=[('0',\n",
       "                                          Pipeline(memory=None,\n",
       "                                                   steps=[('sparsenormalizer',\n",
       "                                                           <azureml.automl.runtime.shared.model_wrappers.SparseNormalizer object at 0x000001A2C2D61F48>),\n",
       "                                                          ('xgboostregressor',\n",
       "                                                           XGBoostRegressor(base_score=0.5,\n",
       "                                                                            booster='gbtree',\n",
       "                                                                            colsample_bylevel=1,\n",
       "                                                                            colsample_bynode=1,\n",
       "                                                                            colsample_bytree=0.7,\n",
       "                                                                            eta=0.3,\n",
       "                                                                            gamma=0,\n",
       "                                                                            grow_policy='lossgui...\n",
       "                                                           <azureml.automl.runtime.shared.model_wrappers.StandardScalerWrapper object at 0x000001A2C1046BC8>),\n",
       "                                                          ('elasticnet',\n",
       "                                                           ElasticNet(alpha=0.05357894736842105,\n",
       "                                                                      copy_X=True,\n",
       "                                                                      fit_intercept=True,\n",
       "                                                                      l1_ratio=0.6873684210526316,\n",
       "                                                                      max_iter=1000,\n",
       "                                                                      normalize=False,\n",
       "                                                                      positive=False,\n",
       "                                                                      precompute=False,\n",
       "                                                                      random_state=None,\n",
       "                                                                      selection='cyclic',\n",
       "                                                                      tol=0.0001,\n",
       "                                                                      warm_start=False))],\n",
       "                                                   verbose=False))],\n",
       "                             weights=[0.7142857142857143, 0.14285714285714285,\n",
       "                                      0.07142857142857142,\n",
       "                                      0.07142857142857142])"
      ]
     },
     "metadata": {},
     "execution_count": 12
    }
   ],
   "source": [
    "aml_model.steps[1][1]"
   ]
  },
  {
   "cell_type": "code",
   "execution_count": 13,
   "metadata": {},
   "outputs": [
    {
     "output_type": "execute_result",
     "data": {
      "text/plain": [
       "{'_aml_system_azureml.automlComponent': 'AutoML',\n",
       " '_aml_system_ComputeTargetStatus': '{\"AllocationState\":\"steady\",\"PreparingNodeCount\":0,\"RunningNodeCount\":6,\"CurrentNodeCount\":6}',\n",
       " 'mlflow.source.type': 'JOB',\n",
       " 'mlflow.source.name': 'automl_driver.py',\n",
       " 'ensembled_iterations': '[0, 6, 5, 7]',\n",
       " 'ensembled_algorithms': \"['XGBoostRegressor', 'ExtremeRandomTrees', 'XGBoostRegressor', 'ElasticNet']\",\n",
       " 'ensemble_weights': '[0.7142857142857143, 0.14285714285714285, 0.07142857142857142, 0.07142857142857142]',\n",
       " 'best_individual_pipeline_score': '0.7336744027226058',\n",
       " 'best_individual_iteration': '0',\n",
       " '_aml_system_automl_is_child_run_end_telemetry_event_logged': 'True'}"
      ]
     },
     "metadata": {},
     "execution_count": 13
    }
   ],
   "source": [
    "aml_best_run.get_tags()"
   ]
  }
 ],
 "metadata": {
  "kernel_info": {
   "name": "python3-azureml"
  },
  "kernelspec": {
   "name": "python376jvsc74a57bd065740e87b24f297e0cac0773e17819b67d6a04e87df410f2a8335dbaea0a13e3",
   "display_name": "Python 3.7.6 64-bit ('.venv')"
  },
  "language_info": {
   "codemirror_mode": {
    "name": "ipython",
    "version": 3
   },
   "file_extension": ".py",
   "mimetype": "text/x-python",
   "name": "python",
   "nbconvert_exporter": "python",
   "pygments_lexer": "ipython3",
   "version": "3.7.6-final"
  },
  "nteract": {
   "version": "nteract-front-end@1.0.0"
  }
 },
 "nbformat": 4,
 "nbformat_minor": 2
}